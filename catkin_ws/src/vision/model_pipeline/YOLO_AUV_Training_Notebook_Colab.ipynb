{
  "cells": [
    {
      "cell_type": "markdown",
      "metadata": {
        "id": "LkA2uszFgZdm"
      },
      "source": [
        "# DEFINE PARAMETERS (this is the only thing to modify if you just want to train a model)"
      ]
    },
    {
      "cell_type": "code",
      "execution_count": null,
      "metadata": {},
      "outputs": [],
      "source": [
        "is_front_camera_training = False  # Change it to False if training for down cmaera."
      ]
    },
    {
      "cell_type": "code",
      "execution_count": null,
      "metadata": {
        "id": "tZTwtOPQgY3A"
      },
      "outputs": [],
      "source": [
        "############################## ROBOFLOW  PARAMETERS ##############################\n",
        "roboflow_api_key = \"MJQUATZvpcKoBxRjLuXx\"\n",
        "roboflow_workspace_name = \"auv2024\"\n",
        "if is_front_camera_training:\n",
        "     roboflow_project_name = \"front-camera-sim\"\n",
        "     roboflow_project_version = 6\n",
        "else:\n",
        "     roboflow_project_name = \"down-camera-sim\"\n",
        "     roboflow_project_version = 1\n",
        "##################################################################################\n",
        "############################## TRAINING  PARAMETERS ##############################\n",
        "if is_front_camera_training:\n",
        "     target_classes = [\"gate\", \"buoy\", \"octagon-table\"]\n",
        "     model_save_filename = \"best_AUV_sim_front_camera_model.pt\"\n",
        "else: \n",
        "     target_classes = [\"bin\", \"lane-marker\", \"octagon-table\"]\n",
        "     model_save_filename = \"best_AUV_sim_down_camera_model.pt\"\n",
        "train_test_val_split = (0.7, 0.2, 0.1)\n",
        "epoch_increments = 200 # save the model weights to google drive every `epoch_increments` epochs\n",
        "batch_size = -1\n",
        "##################################################################################\n",
        "######################### CUSTOM AUGMENTATION PARAMETERS #########################\n",
        "colorAugmentProb = 0.3\n",
        "noiseAugmentProb = 0.3\n",
        "resolutionAugmentProb = 0.3\n",
        "contrastAugmentProb = 0.3\n",
        "blurAugmentProb = 0.3\n",
        "brightnessAugmentProb = 0.3\n",
        "##################################################################################\n",
        "########################## YOLO AUGMENTATION PARAMETERS ##########################\n",
        "# Currently not being used.\n",
        "degrees = 360\n",
        "flipud = 0.5\n",
        "fliplr = 0.5\n",
        "max_perspective_change = 0.001\n",
        "max_translate = 0.1\n",
        "max_scale_change = 0.3\n",
        "mosaic = 0.5\n",
        "mixup = 0.5\n",
        "##################################################################################"
      ]
    },
    {
      "cell_type": "markdown",
      "metadata": {
        "id": "MTYLP5gRgelD"
      },
      "source": [
        "# IMPLEMENTATION"
      ]
    },
    {
      "cell_type": "markdown",
      "metadata": {
        "id": "et9kLMSDbkvt"
      },
      "source": [
        "## Mount Drive, setup Python dependencies"
      ]
    },
    {
      "cell_type": "code",
      "execution_count": null,
      "metadata": {
        "colab": {
          "base_uri": "https://localhost:8080/"
        },
        "id": "ma-GR0Q5Qn4k",
        "outputId": "e2fa4fe5-69c5-4c2d-84bf-1a78bbabf1ea"
      },
      "outputs": [],
      "source": [
        "from google.colab import drive\n",
        "drive.mount('/content/drive')\n",
        "import locale\n",
        "locale.getpreferredencoding = lambda: \"UTF-8\"\n",
        "#fixes bug"
      ]
    },
    {
      "cell_type": "code",
      "execution_count": null,
      "metadata": {
        "colab": {
          "base_uri": "https://localhost:8080/"
        },
        "id": "58F4m91jwxYX",
        "outputId": "ac44a553-1aac-44df-d215-95e919de850c"
      },
      "outputs": [],
      "source": [
        "!pip install roboflow\n",
        "!pip install albumentations\n",
        "!pip install opencv-python\n",
        "!pip install ultralytics\n",
        "\n",
        "!mkdir data\n",
        "!mkdir data/augmented\n",
        "!mkdir data/augmented/train\n",
        "!mkdir data/augmented/test\n",
        "!mkdir data/augmented/val\n",
        "!mkdir data/augmented/train/images\n",
        "!mkdir data/augmented/test/images\n",
        "!mkdir data/augmented/val/images\n",
        "!mkdir data/augmented/train/labels\n",
        "!mkdir data/augmented/test/labels\n",
        "!mkdir data/augmented/val/labels\n",
        "!rm -r sample_data"
      ]
    },
    {
      "cell_type": "code",
      "execution_count": null,
      "metadata": {
        "id": "sN29TW2MxhB9"
      },
      "outputs": [],
      "source": [
        "import os, shutil\n",
        "from os import listdir\n",
        "from os.path import isfile, join\n",
        "import cv2\n",
        "import albumentations as A\n",
        "import copy\n",
        "import random\n",
        "import numpy as np\n",
        "from ultralytics import YOLO\n",
        "import torch\n",
        "from roboflow import Roboflow"
      ]
    },
    {
      "cell_type": "markdown",
      "metadata": {
        "id": "CVo9YblEb93v"
      },
      "source": [
        "## Define YOLO classes"
      ]
    },
    {
      "cell_type": "code",
      "execution_count": null,
      "metadata": {
        "id": "M03OBN22xr4s"
      },
      "outputs": [],
      "source": [
        "with open('data.yaml', 'w+') as f:\n",
        "    f.write(\"train: /content/data/augmented/train/images\\n\")\n",
        "    f.write(\"test: /content/data/augmented/test/images\\n\")\n",
        "    f.write(\"val: /content/data/augmented/val/images\\n\")\n",
        "    f.write(\"nc: {}\\n\".format(len(target_classes)))\n",
        "    f.write('names: {}'.format(target_classes))"
      ]
    },
    {
      "cell_type": "markdown",
      "metadata": {
        "id": "Yf6GvElFcDgY"
      },
      "source": [
        "## Define augmentation functions"
      ]
    },
    {
      "cell_type": "code",
      "execution_count": null,
      "metadata": {
        "id": "PRAkj-Gzxu0m"
      },
      "outputs": [],
      "source": [
        "#given a list of samples, make two copies of each sample that are darker/brighter to simulate differently lit environments\n",
        "def brightnessAugment(images):\n",
        "    out = []\n",
        "    for image in images:\n",
        "        transform = A.Compose([ A.augmentations.transforms.ColorJitter (brightness=(1.05, 1.05), contrast=0, saturation=0, hue=0, always_apply=True) ])\n",
        "        bright_img = transform(image=image)[\"image\"]\n",
        "        transform = A.Compose([ A.augmentations.transforms.ColorJitter (brightness=(0.95, 0.95), contrast=0, saturation=0, hue=0, always_apply=True) ])\n",
        "        dark_img = transform(image=image)[\"image\"]\n",
        "        out.append(bright_img)\n",
        "        out.append(dark_img)\n",
        "    return out\n",
        "\n",
        "#given a list of samples, make a copy of each sample but more blurred to simulate objects out of focus, dirty lenses, and backscattering\n",
        "def blurAugment(images):\n",
        "    out = []\n",
        "    for image in images:\n",
        "        ksize = (10, 10) # lower to lower blur\n",
        "        blurred_img = cv2.blur(image, ksize)\n",
        "        out.append(blurred_img)\n",
        "    return out\n",
        "\n",
        "#given a list of samples, make a copy of each sample but with a lower contrast image to simulate backscattering and over/under-exposure\n",
        "def contrastAugment(images):\n",
        "    out = []\n",
        "    for image in images:\n",
        "        transform = A.Compose([ A.augmentations.transforms.ColorJitter (brightness=0, contrast=(0.1, 0.1), saturation=0, hue=0, always_apply=True) ])\n",
        "        decontrasted_img = transform(image=image)[\"image\"]\n",
        "        out.append(decontrasted_img)\n",
        "    return out\n",
        "\n",
        "#given a list of samples, make a copy of each sample but with camera noise added to the image to simulate different camera feeds\n",
        "def noiseAugment(images):\n",
        "    out = []\n",
        "    for image in images:\n",
        "        transform = A.Compose([ A.augmentations.transforms.ISONoise(color_shift=(0.01, 0.01), intensity=(0.8, 0.8), always_apply=True) ])\n",
        "        noisy_img = transform(image=image)[\"image\"]\n",
        "        out.append(noisy_img)\n",
        "    return out\n",
        "\n",
        "#given a list of samples, make a copy of each sample but with the image downscaled (lower resolution of image) to simulate lower quality cameras/images\n",
        "def resolutionAugment(images):\n",
        "    out = []\n",
        "    for image in images:\n",
        "        #interpolation=A.augmentations.transforms.Interpolation(downscale=cv2.INTER_NEAREST, upscale=cv2.INTER_NEAREST)\n",
        "        transform = A.Compose([ A.augmentations.transforms.Downscale(scale_min=0.25, scale_max=0.25, always_apply=True) ])\n",
        "        low_res_img = transform(image=image)[\"image\"]\n",
        "        out.append(low_res_img)\n",
        "    return out\n",
        "\n",
        "#increase intensity of blues in given image\n",
        "def make_bluer(img, color_shift_intensity):\n",
        "    img_b, img_g, img_r = cv2.split(img) #split by channel\n",
        "    img_b = np.uint16(img_b)\n",
        "    img_b += color_shift_intensity\n",
        "    np.clip(img_b, 0, 255, out=img_b)\n",
        "    img_b = np.uint8(img_b)\n",
        "    img = cv2.merge((img_b, img_g, img_r)) #merge adjusted channels\n",
        "    del img_b\n",
        "    del img_g\n",
        "    del img_r\n",
        "    return img\n",
        "\n",
        "#increase intensity of greens in given image\n",
        "def make_greener(img, color_shift_intensity):\n",
        "    img_b, img_g, img_r = cv2.split(img) #split by channel\n",
        "    img_g = np.uint16(img_g)\n",
        "    img_g += color_shift_intensity\n",
        "    np.clip(img_g, 0, 255, out=img_g)\n",
        "    img_g = np.uint8(img_g)\n",
        "    img = cv2.merge((img_b, img_g, img_r)) #merge adjusted channels\n",
        "    del img_b\n",
        "    del img_g\n",
        "    del img_r\n",
        "    return img\n",
        "\n",
        "#given a list of samples, make two copies of each sample (one bluer, one greener) to simulate different pools + color attenuation\n",
        "def colorAugment(images):\n",
        "    out = []\n",
        "    color_shift_intensity = int(255*0.1)\n",
        "    for image in images:\n",
        "        blue_img = make_bluer(image, color_shift_intensity)\n",
        "        green_img = make_greener(image, color_shift_intensity)\n",
        "        out.append(blue_img)\n",
        "        out.append(green_img)\n",
        "    return out\n",
        "\n",
        "#given a single image and augmentation function, displays the image before and images after augmentation\n",
        "def visualizeAugmentation(img, aug):\n",
        "    #show original image\n",
        "    cv2.imshow('og', img)\n",
        "    cv2.waitKey(0)\n",
        "    #show all augmented images\n",
        "    for augmented in aug([(img, \"\")])[1:]:\n",
        "        cv2.imshow('augmented',augmented[0])\n",
        "        cv2.waitKey(0)"
      ]
    },
    {
      "cell_type": "code",
      "execution_count": null,
      "metadata": {
        "id": "o94FDfOVyBvu"
      },
      "outputs": [],
      "source": [
        "def get_file_names(source_folder):\n",
        "    label_filenames = []\n",
        "    img_filenames = [f for f in listdir(source_folder + '/images') if isfile(join(source_folder + '/images', f))]\n",
        "    for img_filename in img_filenames:\n",
        "        label_filenames.append(os.path.splitext(img_filename)[0] + \".txt\")\n",
        "\n",
        "    return np.array(img_filenames), np.array(label_filenames)\n",
        "\n",
        "def split_file_names(images,labels,splits):\n",
        "    perm = np.random.permutation(len(images))\n",
        "    images = images[perm]\n",
        "    labels = labels[perm]\n",
        "    splits = [int(len(images)*s) for s in splits]\n",
        "    train_images = images[:splits[0]]\n",
        "    train_labels = labels[:splits[0]]\n",
        "    val_images = images[splits[0]: splits[0] + splits[1]]\n",
        "    val_labels = labels[splits[0]: splits[0] + splits[1]]\n",
        "    test_images = images[splits[0] + splits[1]:]\n",
        "    test_labels = labels[splits[0] + splits[1]:]\n",
        "    return train_images, train_labels, val_images, val_labels, test_images, test_labels\n",
        "\n",
        "def get_augs(img_filename,source_folder):\n",
        "    img = cv2.imread(source_folder + '/images/' + img_filename)\n",
        "    augs = [img]\n",
        "    if(np.random.rand() < colorAugmentProb):\n",
        "        augs = augs + colorAugment(augs)\n",
        "    if(np.random.rand() < noiseAugmentProb):\n",
        "        augs = augs + noiseAugment(augs)\n",
        "    if(np.random.rand() < resolutionAugmentProb):\n",
        "        augs = augs + resolutionAugment(augs)\n",
        "    if(np.random.rand() < contrastAugmentProb):\n",
        "        augs = augs + contrastAugment(augs)\n",
        "    if(np.random.rand() < blurAugmentProb):\n",
        "        augs = augs + blurAugment(augs)\n",
        "    if(np.random.rand() < brightnessAugmentProb):\n",
        "        augs = augs + brightnessAugment(augs)\n",
        "    return augs\n",
        "\n",
        "def do_augs_and_export(img_filenames,label_filenames,source_folder,output_folder):\n",
        "    name_num = 1\n",
        "    for (img_filename,label_filename) in zip(img_filenames,label_filenames):\n",
        "        augs = get_augs(img_filename,source_folder)\n",
        "        with open(source_folder + \"/labels/\" + label_filename) as f:\n",
        "            #build array of bounding boxes (each line its own element)\n",
        "            bounding_boxes = f.read()\n",
        "        for aug in augs:\n",
        "            cv2.imwrite(output_folder + '/images/img' + str(name_num) + '.png', aug)\n",
        "            with open(output_folder + '/labels/img' + str(name_num) + '.txt',\"w+\") as f:\n",
        "                f.write(bounding_boxes)\n",
        "            name_num+=1"
      ]
    },
    {
      "cell_type": "markdown",
      "metadata": {
        "id": "3gg8L31ZcdXv"
      },
      "source": [
        "## Download dataset from RoboFlow"
      ]
    },
    {
      "cell_type": "code",
      "execution_count": null,
      "metadata": {
        "colab": {
          "base_uri": "https://localhost:8080/"
        },
        "id": "p69--bQOySln",
        "outputId": "a449bd2a-41e3-41aa-ca24-3af4049c4e20"
      },
      "outputs": [],
      "source": [
        "rf = Roboflow(api_key=roboflow_api_key)\n",
        "project = rf.workspace(roboflow_workspace_name).project(roboflow_project_name)\n",
        "version = project.version(roboflow_project_version)\n",
        "dataset = version.download(\"yolov5\")"
      ]
    },
    {
      "cell_type": "code",
      "execution_count": null,
      "metadata": {
        "colab": {
          "base_uri": "https://localhost:8080/"
        },
        "id": "e2wDV0S-z5ft",
        "outputId": "2b6ab4a3-6081-46c8-a118-74398f46b055"
      },
      "outputs": [],
      "source": [
        "folder_name = \"{}-{}\".format(roboflow_project_name, roboflow_project_version)\n",
        "\n",
        "print(folder_name)\n",
        "\n",
        "!mv /content/$folder_name/train/ /content/data/raw\n",
        "!mv /content/$folder_name/test/images/* /content/data/raw/images/\n",
        "!mv /content/$folder_name/valid/images/* /content/data/raw/images/\n",
        "!mv /content/$folder_name/test/labels/* /content/data/raw/labels/\n",
        "!mv /content/$folder_name/valid/labels/* /content/data/raw/labels/\n",
        "!rm -r $folder_name"
      ]
    },
    {
      "cell_type": "markdown",
      "metadata": {
        "id": "s3uZyY_uer3H"
      },
      "source": [
        "## Augment data, split into train/test/val"
      ]
    },
    {
      "cell_type": "code",
      "execution_count": null,
      "metadata": {
        "colab": {
          "base_uri": "https://localhost:8080/"
        },
        "id": "Pkd3wksY0k2i",
        "outputId": "87d09b69-4bd9-47a7-ac4a-8c0f75018ee7"
      },
      "outputs": [],
      "source": [
        "out_folder = \"data/augmented\"\n",
        "in_folder = \"data/raw\"\n",
        "\n",
        "img_names, label_names = get_file_names(in_folder)\n",
        "num_raw_samples = len(img_names)\n",
        "train_images, train_labels, val_images, val_labels, test_images, test_labels = split_file_names(img_names,label_names,train_test_val_split)\n",
        "do_augs_and_export(train_images,train_labels,in_folder,out_folder + \"/train\")\n",
        "do_augs_and_export(val_images,val_labels,in_folder,out_folder + \"/val\")\n",
        "do_augs_and_export(test_images,test_labels,in_folder,out_folder + \"/test\")\n",
        "\n",
        "augmented_train_img_names, _ = get_file_names(out_folder + \"/train\")\n",
        "augmented_test_img_names, _ = get_file_names(out_folder + \"/test\")\n",
        "augmented_val_img_names, _ = get_file_names(out_folder + \"/val\")\n",
        "\n",
        "num_augmented_samples = len(augmented_train_img_names) + len(augmented_test_img_names) + len(augmented_val_img_names)\n",
        "\n",
        "print(\"Augmentation completed. Went from {} raw samples to a total of {} after augmentation.\".format(num_raw_samples, num_augmented_samples))"
      ]
    },
    {
      "cell_type": "markdown",
      "metadata": {
        "id": "mpkZGNqWgQ7E"
      },
      "source": [
        "# Check CUDA dependencies and start training"
      ]
    },
    {
      "cell_type": "code",
      "execution_count": null,
      "metadata": {
        "id": "0AotbSTe2pLU"
      },
      "outputs": [],
      "source": [
        "CUDA_setup_is_valid = torch.cuda.is_available() and torch.cuda.device_count() > 0\n",
        "\n",
        "if not CUDA_setup_is_valid:\n",
        "  raise Exception('No CUDA device detected. Make sure you set hardware accelerator to GPU in Edit > Notebook Settings > Hardware Accelerator')"
      ]
    },
    {
      "cell_type": "code",
      "execution_count": null,
      "metadata": {
        "id": "K9JgHc3R3950"
      },
      "outputs": [],
      "source": [
        "!rm -r runs/detect/train*\n",
        "!mkdir runs\n",
        "!mkdir runs/detect\n",
        "\n",
        "\n",
        "model = YOLO(\"yolov8n.pt\") #load a pretrained model\n",
        "\n",
        "\n",
        "# If there is a memory problem, check the params used in the windows script\n",
        "# Start the training process\n",
        "while True:\n",
        "    try:\n",
        "        model.train(\n",
        "            data=\"data.yaml\",\n",
        "            epochs=epoch_increments,\n",
        "            device=0,\n",
        "            batch=batch_size,\n",
        "            degrees=degrees,\n",
        "            flipud=flipud,\n",
        "            fliplr=fliplr,\n",
        "            perspective=max_perspective_change,\n",
        "            translate=max_translate,\n",
        "            scale=max_scale_change,\n",
        "            mosaic=mosaic,\n",
        "            mixup=mixup,\n",
        "            pretrained=True,\n",
        "            task='detect',\n",
        "        )\n",
        "        shutil.copyfile(\"runs/detect/train/weights/best.pt\", \"/content/drive/My Drive/{}\".format(model_save_filename))\n",
        "    except RuntimeError as e:\n",
        "        print(f\"Caught a RuntimeError: {e}\")\n",
        "        break  # Break out of the loop if an error occurs to prevent infinite loop\n"
      ]
    }
  ],
  "metadata": {
    "accelerator": "GPU",
    "colab": {
      "collapsed_sections": [
        "MTYLP5gRgelD"
      ],
      "gpuType": "T4",
      "provenance": []
    },
    "kernelspec": {
      "display_name": "Python 3",
      "name": "python3"
    },
    "language_info": {
      "codemirror_mode": {
        "name": "ipython",
        "version": 3
      },
      "file_extension": ".py",
      "mimetype": "text/x-python",
      "name": "python",
      "nbconvert_exporter": "python",
      "pygments_lexer": "ipython3",
      "version": "3.12.3"
    }
  },
  "nbformat": 4,
  "nbformat_minor": 0
}
