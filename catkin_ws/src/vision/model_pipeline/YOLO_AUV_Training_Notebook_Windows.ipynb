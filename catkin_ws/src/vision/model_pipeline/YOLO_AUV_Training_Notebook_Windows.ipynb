{
 "cells": [
  {
   "cell_type": "markdown",
   "metadata": {},
   "source": [
    "# DEFINE PARAMETERS (this is the only thing to modify if you just want to train a model)"
   ]
  },
  {
   "cell_type": "code",
   "execution_count": 2,
   "metadata": {},
   "outputs": [],
   "source": [
    "# Roboflow parameters\n",
    "roboflow_api_key = \"MJQUATZvpcKoBxRjLuXx\"\n",
    "roboflow_workspace_name = \"auv2024\"\n",
    "roboflow_project_name = \"front-cam-felps\"\n",
    "roboflow_project_version = 5\n",
    "\n",
    "# Training parameters\n",
    "target_classes = [\"Buoy\", \"Gate\"]\n",
    "train_test_val_split = (0.7, 0.2, 0.1)\n",
    "model_save_filename = \"best_AUV_sim_front_cam_model.pt\"\n",
    "epoch_increments = 200 # save the model weights to google drive every `epoch_increments` epochs\n",
    "batch_size = -1\n",
    "\n",
    "# Custom augmentation parameters\n",
    "colorAugmentProb = 0.3\n",
    "noiseAugmentProb = 0.3\n",
    "resolutionAugmentProb = 0.3\n",
    "contrastAugmentProb = 0.3\n",
    "blurAugmentProb = 0.3\n",
    "brightnessAugmentProb = 0.3\n",
    "\n",
    "# WARNING: do not change these \"randomly\", check the YoloV8 docs for what these parameters affect before modifying (these values have worked well)\n",
    "# See the last cell for where these parameters are used in the model\n",
    "degrees = 360\n",
    "flipud = 0.5\n",
    "fliplr = 0.5\n",
    "max_perspective_change = 0.001\n",
    "max_translate = 0.1\n",
    "max_scale_change = 0.3\n",
    "mosaic = 0.5\n",
    "mixup = 0.5"
   ]
  },
  {
   "cell_type": "markdown",
   "metadata": {},
   "source": [
    "# Implementation"
   ]
  },
  {
   "cell_type": "markdown",
   "metadata": {},
   "source": [
    "## Setup Python dependencies "
   ]
  },
  {
   "cell_type": "code",
   "execution_count": null,
   "metadata": {},
   "outputs": [],
   "source": [
    "!pip install roboflow\n",
    "!pip install albumentations\n",
    "!pip install opencv-python\n",
    "!pip install ultralytics"
   ]
  },
  {
   "cell_type": "code",
   "execution_count": 3,
   "metadata": {},
   "outputs": [],
   "source": [
    "!mkdir data\n",
    "!mkdir data\\augmented\n",
    "!mkdir data\\augmented\\train\n",
    "!mkdir data\\augmented\\test\n",
    "!mkdir data\\augmented\\val\n",
    "!mkdir data\\augmented\\train\\images\n",
    "!mkdir data\\augmented\\test\\images\n",
    "!mkdir data\\augmented\\val\\images\n",
    "!mkdir data\\augmented\\train\\labels\n",
    "!mkdir data\\augmented\\test\\labels\n",
    "!mkdir data\\augmented\\val\\labels\n",
    "!mkdir data\\raw\n",
    "!mkdir data\\raw\\images\n",
    "!mkdir data\\raw\\labels"
   ]
  },
  {
   "cell_type": "code",
   "execution_count": 4,
   "metadata": {},
   "outputs": [],
   "source": [
    "import os, shutil\n",
    "from os import listdir\n",
    "from os.path import isfile, join\n",
    "import cv2\n",
    "import albumentations as A\n",
    "import copy\n",
    "import random\n",
    "import numpy as np\n",
    "from ultralytics import YOLO\n",
    "import torch\n",
    "from roboflow import Roboflow"
   ]
  },
  {
   "cell_type": "markdown",
   "metadata": {},
   "source": [
    "## Define YOLO classes"
   ]
  },
  {
   "cell_type": "code",
   "execution_count": 5,
   "metadata": {},
   "outputs": [
    {
     "name": "stdout",
     "output_type": "stream",
     "text": [
      "Data absolute path: c:\\Users\\poten\\AUV-2024\\catkin_ws\\src\\vision\\model_pipeline\\data\n"
     ]
    }
   ],
   "source": [
    "data_folder_absolute_path = os.path.abspath(\"data\")\n",
    "print(\"Data absolute path:\", data_folder_absolute_path)\n",
    "\n",
    "with open('data.yaml', 'w+') as f:\n",
    "    f.write(\"train: {}\\\\augmented\\\\train\\\\images\\n\".format(data_folder_absolute_path))\n",
    "    f.write(\"test: {}\\\\augmented\\\\test\\\\images\\n\".format(data_folder_absolute_path))\n",
    "    f.write(\"val: {}\\\\augmented\\\\val\\\\images\\n\".format(data_folder_absolute_path))\n",
    "    f.write(\"nc: {}\\n\".format(len(target_classes)))\n",
    "    f.write('names: {}'.format(target_classes))"
   ]
  },
  {
   "cell_type": "markdown",
   "metadata": {},
   "source": [
    "## Define augmentation functions"
   ]
  },
  {
   "cell_type": "code",
   "execution_count": 6,
   "metadata": {},
   "outputs": [],
   "source": [
    "#given a list of samples, make two copies of each sample that are darker/brighter to simulate differently lit environments\n",
    "def brightnessAugment(images):\n",
    "    out = []\n",
    "    for image in images:\n",
    "        transform = A.Compose([ A.augmentations.transforms.ColorJitter (brightness=(1.5, 1.5), contrast=0, saturation=0, hue=0, always_apply=True) ])\n",
    "        bright_img = transform(image=image)[\"image\"]\n",
    "        transform = A.Compose([ A.augmentations.transforms.ColorJitter (brightness=(0.5, 0.5), contrast=0, saturation=0, hue=0, always_apply=True) ])\n",
    "        dark_img = transform(image=image)[\"image\"]\n",
    "        out.append(bright_img)\n",
    "        out.append(dark_img)\n",
    "    return out\n",
    "\n",
    "#given a list of samples, make a copy of each sample but more blurred to simulate objects out of focus, dirty lenses, and backscattering\n",
    "def blurAugment(images):\n",
    "    out = []\n",
    "    for image in images:\n",
    "        ksize = (8, 8) # lower to lower blur\n",
    "        blurred_img = cv2.blur(image, ksize)\n",
    "        out.append(blurred_img)\n",
    "    return out\n",
    "\n",
    "#given a list of samples, make a copy of each sample but with a lower contrast image to simulate backscattering and over/under-exposure\n",
    "def contrastAugment(images):\n",
    "    out = []\n",
    "    for image in images:\n",
    "        transform = A.Compose([ A.augmentations.transforms.ColorJitter (brightness=0, contrast=(0.5, 0.5), saturation=0, hue=0, always_apply=True) ])\n",
    "        decontrasted_img = transform(image=image)[\"image\"]\n",
    "        out.append(decontrasted_img)\n",
    "    return out\n",
    "\n",
    "#given a list of samples, make a copy of each sample but with camera noise added to the image to simulate different camera feeds\n",
    "def noiseAugment(images):\n",
    "    out = []\n",
    "    for image in images:\n",
    "        transform = A.Compose([ A.augmentations.transforms.ISONoise(color_shift=(0.1, 0.1), intensity=(0.5, 0.5), always_apply=True) ])\n",
    "        noisy_img = transform(image=image)[\"image\"]\n",
    "        out.append(noisy_img)\n",
    "    return out\n",
    "\n",
    "#given a list of samples, make a copy of each sample but with the image downscaled (lower resolution of image) to simulate lower quality cameras/images\n",
    "def resolutionAugment(images):\n",
    "    out = []\n",
    "    for image in images:\n",
    "        #interpolation=A.augmentations.transforms.Interpolation(downscale=cv2.INTER_NEAREST, upscale=cv2.INTER_NEAREST)\n",
    "        transform = A.Compose([ A.augmentations.transforms.Downscale(scale_min=0.2, scale_max=0.2, always_apply=True) ])\n",
    "        low_res_img = transform(image=image)[\"image\"]\n",
    "        out.append(low_res_img)\n",
    "    return out\n",
    "\n",
    "#increase intensity of blues in given image\n",
    "def make_bluer(img, color_shift_intensity):\n",
    "    img_b, img_g, img_r = cv2.split(img) #split by channel\n",
    "    img_b = np.uint16(img_b)\n",
    "    img_b += color_shift_intensity\n",
    "    np.clip(img_b, 0, 255, out=img_b)\n",
    "    img_b = np.uint8(img_b)\n",
    "    img = cv2.merge((img_b, img_g, img_r)) #merge adjusted channels\n",
    "    del img_b\n",
    "    del img_g\n",
    "    del img_r\n",
    "    return img\n",
    "\n",
    "#increase intensity of greens in given image\n",
    "def make_greener(img, color_shift_intensity):\n",
    "    img_b, img_g, img_r = cv2.split(img) #split by channel\n",
    "    img_g = np.uint16(img_g)\n",
    "    img_g += color_shift_intensity\n",
    "    np.clip(img_g, 0, 255, out=img_g)\n",
    "    img_g = np.uint8(img_g)\n",
    "    img = cv2.merge((img_b, img_g, img_r)) #merge adjusted channels\n",
    "    del img_b\n",
    "    del img_g\n",
    "    del img_r\n",
    "    return img\n",
    "\n",
    "#given a list of samples, make two copies of each sample (one bluer, one greener) to simulate different pools + color attenuation\n",
    "def colorAugment(images):\n",
    "    out = []\n",
    "    color_shift_intensity = int(255*0.05)\n",
    "    for image in images:\n",
    "        blue_img = make_bluer(image, color_shift_intensity)\n",
    "        green_img = make_greener(image, color_shift_intensity)\n",
    "        out.append(blue_img)\n",
    "        out.append(green_img)\n",
    "    return out\n",
    "\n",
    "#given a single image and augmentation function, displays the image before and images after augmentation\n",
    "def visualizeAugmentation(img, aug):\n",
    "    #show original image\n",
    "    cv2.imshow('og', img)\n",
    "    cv2.waitKey(0)\n",
    "    #show all augmented images\n",
    "    for augmented in aug([(img, \"\")])[1:]:\n",
    "        cv2.imshow('augmented',augmented[0])\n",
    "        cv2.waitKey(0)"
   ]
  },
  {
   "cell_type": "code",
   "execution_count": 7,
   "metadata": {},
   "outputs": [],
   "source": [
    "def get_file_names(source_folder):\n",
    "    label_filenames = []\n",
    "    img_filenames = [f for f in listdir(source_folder + '\\\\images') if isfile(join(source_folder + '\\\\images', f))]\n",
    "    for img_filename in img_filenames:\n",
    "        label_filenames.append(os.path.splitext(img_filename)[0] + \".txt\")\n",
    "\n",
    "    return np.array(img_filenames), np.array(label_filenames)\n",
    "\n",
    "def split_file_names(images,labels,splits):\n",
    "    perm = np.random.permutation(len(images))\n",
    "    images = images[perm]\n",
    "    labels = labels[perm]\n",
    "    splits = [int(len(images)*s) for s in splits]\n",
    "    train_images = images[:splits[0]]\n",
    "    train_labels = labels[:splits[0]]\n",
    "    val_images = images[splits[0]: splits[0] + splits[1]]\n",
    "    val_labels = labels[splits[0]: splits[0] + splits[1]]\n",
    "    test_images = images[splits[0] + splits[1]:]\n",
    "    test_labels = labels[splits[0] + splits[1]:]\n",
    "    return train_images, train_labels, val_images, val_labels, test_images, test_labels\n",
    "\n",
    "def get_augs(img_filename,source_folder):\n",
    "    img = cv2.imread(source_folder + '\\\\images\\\\' + img_filename)\n",
    "    augs = [img]\n",
    "    if(np.random.rand() < colorAugmentProb):\n",
    "        augs = augs + colorAugment(augs)\n",
    "    if(np.random.rand() < noiseAugmentProb):\n",
    "        augs = augs + noiseAugment(augs)\n",
    "    if(np.random.rand() < resolutionAugmentProb):\n",
    "        augs = augs + resolutionAugment(augs)\n",
    "    if(np.random.rand() < contrastAugmentProb):\n",
    "        augs = augs + contrastAugment(augs)\n",
    "    if(np.random.rand() < blurAugmentProb):\n",
    "        augs = augs + blurAugment(augs)\n",
    "    if(np.random.rand() < brightnessAugmentProb):\n",
    "        augs = augs + brightnessAugment(augs)\n",
    "    return augs\n",
    "\n",
    "def do_augs_and_export(img_filenames,label_filenames,source_folder,output_folder):\n",
    "    name_num = 1\n",
    "    for (img_filename,label_filename) in zip(img_filenames,label_filenames):\n",
    "        augs = get_augs(img_filename,source_folder)\n",
    "        with open(source_folder + \"\\\\labels\\\\\" + label_filename) as f:\n",
    "            #build array of bounding boxes (each line its own element)\n",
    "            bounding_boxes = f.read()\n",
    "        for aug in augs:\n",
    "            cv2.imwrite(output_folder + '\\\\images\\\\img' + str(name_num) + '.png', aug)\n",
    "            with open(output_folder + '\\\\labels\\\\img' + str(name_num) + '.txt',\"w+\") as f:\n",
    "                f.write(bounding_boxes)\n",
    "            name_num+=1"
   ]
  },
  {
   "cell_type": "markdown",
   "metadata": {},
   "source": [
    "## Download dataset from Roboflow"
   ]
  },
  {
   "cell_type": "code",
   "execution_count": 8,
   "metadata": {},
   "outputs": [
    {
     "name": "stdout",
     "output_type": "stream",
     "text": [
      "loading Roboflow workspace...\n",
      "loading Roboflow project...\n"
     ]
    },
    {
     "name": "stderr",
     "output_type": "stream",
     "text": [
      "Downloading Dataset Version Zip in front-cam-felps-5 to yolov5pytorch:: 100%|██████████| 1932/1932 [00:00<00:00, 8111.49it/s]"
     ]
    },
    {
     "name": "stdout",
     "output_type": "stream",
     "text": [
      "\n"
     ]
    },
    {
     "name": "stderr",
     "output_type": "stream",
     "text": [
      "\n",
      "Extracting Dataset Version Zip to front-cam-felps-5 in yolov5pytorch:: 100%|██████████| 212/212 [00:00<00:00, 4082.98it/s]\n"
     ]
    }
   ],
   "source": [
    "rf = Roboflow(api_key=roboflow_api_key)\n",
    "project = rf.workspace(roboflow_workspace_name).project(roboflow_project_name)\n",
    "version = project.version(roboflow_project_version)\n",
    "dataset = version.download(\"yolov5\")"
   ]
  },
  {
   "cell_type": "code",
   "execution_count": 9,
   "metadata": {},
   "outputs": [
    {
     "name": "stdout",
     "output_type": "stream",
     "text": [
      "Roboflow folder name: front-cam-felps-5\n",
      "Roboflow absolute path: c:\\Users\\poten\\AUV-2024\\catkin_ws\\src\\vision\\model_pipeline\\front-cam-felps-5\n",
      "Data absolute path: c:\\Users\\poten\\AUV-2024\\catkin_ws\\src\\vision\\model_pipeline\\data\n",
      "c:\\Users\\poten\\AUV-2024\\catkin_ws\\src\\vision\\model_pipeline\\front-cam-felps-5\\train\\images\\image_105546897640842_jpg.rf.6a13d300c70c3d5befa7c72b829258dd.jpg\n",
      "c:\\Users\\poten\\AUV-2024\\catkin_ws\\src\\vision\\model_pipeline\\front-cam-felps-5\\train\\images\\image_105560137640546_jpg.rf.53123fac1edf1287782d4cce5b3cdd52.jpg\n",
      "c:\\Users\\poten\\AUV-2024\\catkin_ws\\src\\vision\\model_pipeline\\front-cam-felps-5\\train\\images\\image_105579617640111_jpg.rf.0d5769b4904842f9eec9a283f4610206.jpg\n",
      "c:\\Users\\poten\\AUV-2024\\catkin_ws\\src\\vision\\model_pipeline\\front-cam-felps-5\\train\\images\\image_105591477639846_jpg.rf.4a4b975b030288eddf8a7d639469d0af.jpg\n",
      "c:\\Users\\poten\\AUV-2024\\catkin_ws\\src\\vision\\model_pipeline\\front-cam-felps-5\\train\\images\\image_105600077639654_jpg.rf.3e9bc046c280339f6d70472158b8b79b.jpg\n",
      "c:\\Users\\poten\\AUV-2024\\catkin_ws\\src\\vision\\model_pipeline\\front-cam-felps-5\\train\\images\\image_105612037639386_jpg.rf.4f69e5ecde5deee4864584ab0893e5da.jpg\n",
      "c:\\Users\\poten\\AUV-2024\\catkin_ws\\src\\vision\\model_pipeline\\front-cam-felps-5\\train\\images\\image_105639417638774_jpg.rf.6a0b04de9011befc617e94519d7e0daa.jpg\n",
      "c:\\Users\\poten\\AUV-2024\\catkin_ws\\src\\vision\\model_pipeline\\front-cam-felps-5\\train\\images\\image_105650797638520_jpg.rf.c2778adb382328a33f6764e9830d3fe1.jpg\n",
      "c:\\Users\\poten\\AUV-2024\\catkin_ws\\src\\vision\\model_pipeline\\front-cam-felps-5\\train\\images\\image_105668137638132_jpg.rf.ed9f9b5add487f1ea7dc80d09b90d8a7.jpg\n",
      "c:\\Users\\poten\\AUV-2024\\catkin_ws\\src\\vision\\model_pipeline\\front-cam-felps-5\\train\\images\\image_105693637637562_jpg.rf.42ecc3631de7d202cfcd609625bd3b86.jpg\n",
      "c:\\Users\\poten\\AUV-2024\\catkin_ws\\src\\vision\\model_pipeline\\front-cam-felps-5\\train\\images\\image_105703577637340_jpg.rf.a267c5cf1f756a51289d6b3799536fb2.jpg\n",
      "c:\\Users\\poten\\AUV-2024\\catkin_ws\\src\\vision\\model_pipeline\\front-cam-felps-5\\train\\images\\image_105716597637049_jpg.rf.7444dcbedaaf697b1dc6962e1fedd80d.jpg\n",
      "c:\\Users\\poten\\AUV-2024\\catkin_ws\\src\\vision\\model_pipeline\\front-cam-felps-5\\train\\images\\image_105725357636853_jpg.rf.a5ded55069c71416e3795ca8910edee2.jpg\n",
      "c:\\Users\\poten\\AUV-2024\\catkin_ws\\src\\vision\\model_pipeline\\front-cam-felps-5\\train\\images\\image_105738317636564_jpg.rf.3db9df67229b9f600a79c0b5fe5cd980.jpg\n",
      "c:\\Users\\poten\\AUV-2024\\catkin_ws\\src\\vision\\model_pipeline\\front-cam-felps-5\\train\\images\\image_105794477635309_jpg.rf.7cd69d8c056714cbcabbfe2beb5252df.jpg\n",
      "c:\\Users\\poten\\AUV-2024\\catkin_ws\\src\\vision\\model_pipeline\\front-cam-felps-5\\train\\images\\image_105806397635042_jpg.rf.6f170a75249207805d5011643b78eba0.jpg\n",
      "c:\\Users\\poten\\AUV-2024\\catkin_ws\\src\\vision\\model_pipeline\\front-cam-felps-5\\train\\images\\image_105832317634463_jpg.rf.c259633643f970d8620adaf090903e67.jpg\n",
      "c:\\Users\\poten\\AUV-2024\\catkin_ws\\src\\vision\\model_pipeline\\front-cam-felps-5\\train\\images\\image_105856217633929_jpg.rf.9c189a7ff447536cb3c204108fbf95db.jpg\n",
      "c:\\Users\\poten\\AUV-2024\\catkin_ws\\src\\vision\\model_pipeline\\front-cam-felps-5\\train\\images\\image_105863717633761_jpg.rf.58a5dae70c11a8ca18a39cf875b78f74.jpg\n",
      "c:\\Users\\poten\\AUV-2024\\catkin_ws\\src\\vision\\model_pipeline\\front-cam-felps-5\\train\\images\\image_105871497633587_jpg.rf.95acbc9e03d859b37ba94fbe915e706e.jpg\n",
      "c:\\Users\\poten\\AUV-2024\\catkin_ws\\src\\vision\\model_pipeline\\front-cam-felps-5\\train\\images\\image_105881697633359_jpg.rf.1d303007847d55fa6d1aed3c00f6cf6b.jpg\n",
      "c:\\Users\\poten\\AUV-2024\\catkin_ws\\src\\vision\\model_pipeline\\front-cam-felps-5\\train\\images\\image_105897877632997_jpg.rf.3cf4404c1c65adf6c514e9f071f3addb.jpg\n",
      "c:\\Users\\poten\\AUV-2024\\catkin_ws\\src\\vision\\model_pipeline\\front-cam-felps-5\\train\\images\\image_105905217632833_jpg.rf.ecd55fbaf9f5084c2267b0122d1b85ec.jpg\n",
      "c:\\Users\\poten\\AUV-2024\\catkin_ws\\src\\vision\\model_pipeline\\front-cam-felps-5\\train\\images\\image_106008037630535_jpg.rf.5b3a4380caca6eeeb9f2495f4ef8b118.jpg\n",
      "c:\\Users\\poten\\AUV-2024\\catkin_ws\\src\\vision\\model_pipeline\\front-cam-felps-5\\train\\images\\image_106016277630351_jpg.rf.0bed467ce46bf0aed510ce53bb6d1614.jpg\n",
      "c:\\Users\\poten\\AUV-2024\\catkin_ws\\src\\vision\\model_pipeline\\front-cam-felps-5\\train\\images\\image_106027837630093_jpg.rf.43086d6ee976e7b73860414ff2ec9024.jpg\n",
      "c:\\Users\\poten\\AUV-2024\\catkin_ws\\src\\vision\\model_pipeline\\front-cam-felps-5\\train\\images\\image_106055917629465_jpg.rf.8ea1c0c992ec93e9f7841a733b6d83a6.jpg\n",
      "c:\\Users\\poten\\AUV-2024\\catkin_ws\\src\\vision\\model_pipeline\\front-cam-felps-5\\train\\images\\image_106061437629342_jpg.rf.983712e2284133910147cbe26bafa4c6.jpg\n",
      "c:\\Users\\poten\\AUV-2024\\catkin_ws\\src\\vision\\model_pipeline\\front-cam-felps-5\\train\\images\\image_106074377629052_jpg.rf.e920408b9b464d23741a9396f8414a5a.jpg\n",
      "c:\\Users\\poten\\AUV-2024\\catkin_ws\\src\\vision\\model_pipeline\\front-cam-felps-5\\train\\images\\image_106080957628905_jpg.rf.4a7f5ec03a760a953fe742b3d88947b3.jpg\n",
      "c:\\Users\\poten\\AUV-2024\\catkin_ws\\src\\vision\\model_pipeline\\front-cam-felps-5\\train\\images\\image_106085317628808_jpg.rf.ab5efda5e0e673a52a55035bc82429dc.jpg\n",
      "c:\\Users\\poten\\AUV-2024\\catkin_ws\\src\\vision\\model_pipeline\\front-cam-felps-5\\train\\images\\image_106093837628617_jpg.rf.e41853a35221b1c07294638cb64a584c.jpg\n",
      "c:\\Users\\poten\\AUV-2024\\catkin_ws\\src\\vision\\model_pipeline\\front-cam-felps-5\\train\\images\\image_106101137628454_jpg.rf.3af1f07187dbff0819e4fd120dab4497.jpg\n",
      "c:\\Users\\poten\\AUV-2024\\catkin_ws\\src\\vision\\model_pipeline\\front-cam-felps-5\\train\\images\\image_106112537628199_jpg.rf.6f3cc2d978b46bd506f9b9a2e90c794c.jpg\n",
      "c:\\Users\\poten\\AUV-2024\\catkin_ws\\src\\vision\\model_pipeline\\front-cam-felps-5\\train\\images\\image_106119357628047_jpg.rf.37f33a582b2d423ae001db9a30293741.jpg\n",
      "c:\\Users\\poten\\AUV-2024\\catkin_ws\\src\\vision\\model_pipeline\\front-cam-felps-5\\train\\images\\image_106134417627710_jpg.rf.d9568a82711dd9869328c8c097874262.jpg\n",
      "c:\\Users\\poten\\AUV-2024\\catkin_ws\\src\\vision\\model_pipeline\\front-cam-felps-5\\train\\images\\image_106144437627486_jpg.rf.796f3e5af956f4c39aaabd82ed38c1a1.jpg\n",
      "c:\\Users\\poten\\AUV-2024\\catkin_ws\\src\\vision\\model_pipeline\\front-cam-felps-5\\train\\images\\image_106151517627328_jpg.rf.8e33ba453b96d2586ea63bb3071bdee3.jpg\n",
      "c:\\Users\\poten\\AUV-2024\\catkin_ws\\src\\vision\\model_pipeline\\front-cam-felps-5\\train\\images\\image_106162997627071_jpg.rf.2dcb9296a2e7c917189bfeff559c0a41.jpg\n",
      "c:\\Users\\poten\\AUV-2024\\catkin_ws\\src\\vision\\model_pipeline\\front-cam-felps-5\\train\\images\\image_106167277626976_jpg.rf.826f0bdd3465951d9d2be3596396ba64.jpg\n",
      "c:\\Users\\poten\\AUV-2024\\catkin_ws\\src\\vision\\model_pipeline\\front-cam-felps-5\\train\\images\\image_106174477626815_jpg.rf.782ee6c03d4769c739105339208c368e.jpg\n",
      "c:\\Users\\poten\\AUV-2024\\catkin_ws\\src\\vision\\model_pipeline\\front-cam-felps-5\\train\\images\\image_106180597626678_jpg.rf.b0e80417e22c68b4ff19f0e0e39413aa.jpg\n",
      "c:\\Users\\poten\\AUV-2024\\catkin_ws\\src\\vision\\model_pipeline\\front-cam-felps-5\\train\\images\\image_106227457625631_jpg.rf.546c46c9cb069e7c22704809741fcd83.jpg\n",
      "c:\\Users\\poten\\AUV-2024\\catkin_ws\\src\\vision\\model_pipeline\\front-cam-felps-5\\train\\images\\image_106237637625403_jpg.rf.2a306bde7b125224ac5b557a9ac3ed0f.jpg\n",
      "c:\\Users\\poten\\AUV-2024\\catkin_ws\\src\\vision\\model_pipeline\\front-cam-felps-5\\train\\images\\image_106243597625270_jpg.rf.8514d197eb391c06203fa172cef8aeba.jpg\n",
      "c:\\Users\\poten\\AUV-2024\\catkin_ws\\src\\vision\\model_pipeline\\front-cam-felps-5\\train\\images\\image_106249657625134_jpg.rf.276fec30925f5cd3fef6804c8621f686.jpg\n",
      "c:\\Users\\poten\\AUV-2024\\catkin_ws\\src\\vision\\model_pipeline\\front-cam-felps-5\\train\\images\\image_106279037624478_jpg.rf.f5d7d643bae5b396cdd499aa4e84cf77.jpg\n",
      "c:\\Users\\poten\\AUV-2024\\catkin_ws\\src\\vision\\model_pipeline\\front-cam-felps-5\\train\\images\\image_106285257624339_jpg.rf.578b6990e08343d6ba4057b878a128b4.jpg\n",
      "c:\\Users\\poten\\AUV-2024\\catkin_ws\\src\\vision\\model_pipeline\\front-cam-felps-5\\train\\images\\image_106356617622744_jpg.rf.1d819f2d4c6fadae7eca00d904a14485.jpg\n",
      "c:\\Users\\poten\\AUV-2024\\catkin_ws\\src\\vision\\model_pipeline\\front-cam-felps-5\\train\\images\\image_106361617622632_jpg.rf.30c0997f9af0b90391e3f1e252e4436c.jpg\n",
      "c:\\Users\\poten\\AUV-2024\\catkin_ws\\src\\vision\\model_pipeline\\front-cam-felps-5\\train\\images\\image_106376977622289_jpg.rf.4543cd955d8cbb467df78449f2b33350.jpg\n",
      "c:\\Users\\poten\\AUV-2024\\catkin_ws\\src\\vision\\model_pipeline\\front-cam-felps-5\\train\\images\\image_106428797621130_jpg.rf.a653c9940bedbb3daa658d291fcd5656.jpg\n",
      "c:\\Users\\poten\\AUV-2024\\catkin_ws\\src\\vision\\model_pipeline\\front-cam-felps-5\\train\\images\\image_106434977620992_jpg.rf.00d41a54f879bd07214194fa505d0576.jpg\n",
      "c:\\Users\\poten\\AUV-2024\\catkin_ws\\src\\vision\\model_pipeline\\front-cam-felps-5\\train\\images\\image_106440297620873_jpg.rf.23948a8ca92934e995399b839b5275be.jpg\n",
      "c:\\Users\\poten\\AUV-2024\\catkin_ws\\src\\vision\\model_pipeline\\front-cam-felps-5\\train\\images\\image_106446077620744_jpg.rf.02e89be3a3c1563e3f9c03ab7cb78f69.jpg\n",
      "c:\\Users\\poten\\AUV-2024\\catkin_ws\\src\\vision\\model_pipeline\\front-cam-felps-5\\train\\images\\image_106451197620630_jpg.rf.d1c3a8c90149c0d1457810eb062db06b.jpg\n",
      "c:\\Users\\poten\\AUV-2024\\catkin_ws\\src\\vision\\model_pipeline\\front-cam-felps-5\\train\\images\\image_106458777620460_jpg.rf.7d6d40d92fea0ff83509b7a997940d37.jpg\n",
      "c:\\Users\\poten\\AUV-2024\\catkin_ws\\src\\vision\\model_pipeline\\front-cam-felps-5\\train\\images\\image_106469417620222_jpg.rf.3f2bb22a24fbf80e385c7a9a08650c7e.jpg\n",
      "c:\\Users\\poten\\AUV-2024\\catkin_ws\\src\\vision\\model_pipeline\\front-cam-felps-5\\train\\images\\image_106480237619981_jpg.rf.793853953252fe00a09ce2ad9d397175.jpg\n",
      "c:\\Users\\poten\\AUV-2024\\catkin_ws\\src\\vision\\model_pipeline\\front-cam-felps-5\\train\\images\\image_106488397619798_jpg.rf.753d496d1335ace8e56bf64a03489de8.jpg\n",
      "c:\\Users\\poten\\AUV-2024\\catkin_ws\\src\\vision\\model_pipeline\\front-cam-felps-5\\train\\images\\image_106506837619386_jpg.rf.157f269be6ac2fe7177b1f6890fc3fc8.jpg\n",
      "c:\\Users\\poten\\AUV-2024\\catkin_ws\\src\\vision\\model_pipeline\\front-cam-felps-5\\train\\images\\image_106510757619298_jpg.rf.c2a0cedc5de0905572f89ba6a1c554f1.jpg\n",
      "c:\\Users\\poten\\AUV-2024\\catkin_ws\\src\\vision\\model_pipeline\\front-cam-felps-5\\train\\images\\image_106523377619016_jpg.rf.e2a2213b56a62bd08f214cdc46f82cb1.jpg\n",
      "c:\\Users\\poten\\AUV-2024\\catkin_ws\\src\\vision\\model_pipeline\\front-cam-felps-5\\train\\images\\image_106533037618800_jpg.rf.16433bbdd356b5053b0cf14fb1153b51.jpg\n",
      "c:\\Users\\poten\\AUV-2024\\catkin_ws\\src\\vision\\model_pipeline\\front-cam-felps-5\\train\\images\\image_106540137618642_jpg.rf.bfc034e8de678072ad19e80f6fabb6c2.jpg\n",
      "c:\\Users\\poten\\AUV-2024\\catkin_ws\\src\\vision\\model_pipeline\\front-cam-felps-5\\train\\images\\image_106554817618314_jpg.rf.bce92153f3e90ae15f8683e01ae12345.jpg\n",
      "c:\\Users\\poten\\AUV-2024\\catkin_ws\\src\\vision\\model_pipeline\\front-cam-felps-5\\train\\images\\image_106567737618025_jpg.rf.0827b8254eff679d5e6ab15cf59036f5.jpg\n",
      "c:\\Users\\poten\\AUV-2024\\catkin_ws\\src\\vision\\model_pipeline\\front-cam-felps-5\\train\\images\\image_106584057617660_jpg.rf.cafd747939909566cad6c51a74f31e1a.jpg\n",
      "c:\\Users\\poten\\AUV-2024\\catkin_ws\\src\\vision\\model_pipeline\\front-cam-felps-5\\train\\images\\image_106591077617503_jpg.rf.9491716618889f8e4aade42dfdc43a07.jpg\n",
      "c:\\Users\\poten\\AUV-2024\\catkin_ws\\src\\vision\\model_pipeline\\front-cam-felps-5\\train\\images\\image_106607497617136_jpg.rf.ed5a42a804720c4fa8a1b7abab99f396.jpg\n",
      "       70 file(s) moved.\n",
      "c:\\Users\\poten\\AUV-2024\\catkin_ws\\src\\vision\\model_pipeline\\front-cam-felps-5\\train\\labels\\image_105546897640842_jpg.rf.6a13d300c70c3d5befa7c72b829258dd.txt\n",
      "c:\\Users\\poten\\AUV-2024\\catkin_ws\\src\\vision\\model_pipeline\\front-cam-felps-5\\train\\labels\\image_105560137640546_jpg.rf.53123fac1edf1287782d4cce5b3cdd52.txt\n",
      "c:\\Users\\poten\\AUV-2024\\catkin_ws\\src\\vision\\model_pipeline\\front-cam-felps-5\\train\\labels\\image_105579617640111_jpg.rf.0d5769b4904842f9eec9a283f4610206.txt\n",
      "c:\\Users\\poten\\AUV-2024\\catkin_ws\\src\\vision\\model_pipeline\\front-cam-felps-5\\train\\labels\\image_105591477639846_jpg.rf.4a4b975b030288eddf8a7d639469d0af.txt\n",
      "c:\\Users\\poten\\AUV-2024\\catkin_ws\\src\\vision\\model_pipeline\\front-cam-felps-5\\train\\labels\\image_105600077639654_jpg.rf.3e9bc046c280339f6d70472158b8b79b.txt\n",
      "c:\\Users\\poten\\AUV-2024\\catkin_ws\\src\\vision\\model_pipeline\\front-cam-felps-5\\train\\labels\\image_105612037639386_jpg.rf.4f69e5ecde5deee4864584ab0893e5da.txt\n",
      "c:\\Users\\poten\\AUV-2024\\catkin_ws\\src\\vision\\model_pipeline\\front-cam-felps-5\\train\\labels\\image_105639417638774_jpg.rf.6a0b04de9011befc617e94519d7e0daa.txt\n",
      "c:\\Users\\poten\\AUV-2024\\catkin_ws\\src\\vision\\model_pipeline\\front-cam-felps-5\\train\\labels\\image_105650797638520_jpg.rf.c2778adb382328a33f6764e9830d3fe1.txt\n",
      "c:\\Users\\poten\\AUV-2024\\catkin_ws\\src\\vision\\model_pipeline\\front-cam-felps-5\\train\\labels\\image_105668137638132_jpg.rf.ed9f9b5add487f1ea7dc80d09b90d8a7.txt\n",
      "c:\\Users\\poten\\AUV-2024\\catkin_ws\\src\\vision\\model_pipeline\\front-cam-felps-5\\train\\labels\\image_105693637637562_jpg.rf.42ecc3631de7d202cfcd609625bd3b86.txt\n",
      "c:\\Users\\poten\\AUV-2024\\catkin_ws\\src\\vision\\model_pipeline\\front-cam-felps-5\\train\\labels\\image_105703577637340_jpg.rf.a267c5cf1f756a51289d6b3799536fb2.txt\n",
      "c:\\Users\\poten\\AUV-2024\\catkin_ws\\src\\vision\\model_pipeline\\front-cam-felps-5\\train\\labels\\image_105716597637049_jpg.rf.7444dcbedaaf697b1dc6962e1fedd80d.txt\n",
      "c:\\Users\\poten\\AUV-2024\\catkin_ws\\src\\vision\\model_pipeline\\front-cam-felps-5\\train\\labels\\image_105725357636853_jpg.rf.a5ded55069c71416e3795ca8910edee2.txt\n",
      "c:\\Users\\poten\\AUV-2024\\catkin_ws\\src\\vision\\model_pipeline\\front-cam-felps-5\\train\\labels\\image_105738317636564_jpg.rf.3db9df67229b9f600a79c0b5fe5cd980.txt\n",
      "c:\\Users\\poten\\AUV-2024\\catkin_ws\\src\\vision\\model_pipeline\\front-cam-felps-5\\train\\labels\\image_105794477635309_jpg.rf.7cd69d8c056714cbcabbfe2beb5252df.txt\n",
      "c:\\Users\\poten\\AUV-2024\\catkin_ws\\src\\vision\\model_pipeline\\front-cam-felps-5\\train\\labels\\image_105806397635042_jpg.rf.6f170a75249207805d5011643b78eba0.txt\n",
      "c:\\Users\\poten\\AUV-2024\\catkin_ws\\src\\vision\\model_pipeline\\front-cam-felps-5\\train\\labels\\image_105832317634463_jpg.rf.c259633643f970d8620adaf090903e67.txt\n",
      "c:\\Users\\poten\\AUV-2024\\catkin_ws\\src\\vision\\model_pipeline\\front-cam-felps-5\\train\\labels\\image_105856217633929_jpg.rf.9c189a7ff447536cb3c204108fbf95db.txt\n",
      "c:\\Users\\poten\\AUV-2024\\catkin_ws\\src\\vision\\model_pipeline\\front-cam-felps-5\\train\\labels\\image_105863717633761_jpg.rf.58a5dae70c11a8ca18a39cf875b78f74.txt\n",
      "c:\\Users\\poten\\AUV-2024\\catkin_ws\\src\\vision\\model_pipeline\\front-cam-felps-5\\train\\labels\\image_105871497633587_jpg.rf.95acbc9e03d859b37ba94fbe915e706e.txt\n",
      "c:\\Users\\poten\\AUV-2024\\catkin_ws\\src\\vision\\model_pipeline\\front-cam-felps-5\\train\\labels\\image_105881697633359_jpg.rf.1d303007847d55fa6d1aed3c00f6cf6b.txt\n",
      "c:\\Users\\poten\\AUV-2024\\catkin_ws\\src\\vision\\model_pipeline\\front-cam-felps-5\\train\\labels\\image_105897877632997_jpg.rf.3cf4404c1c65adf6c514e9f071f3addb.txt\n",
      "c:\\Users\\poten\\AUV-2024\\catkin_ws\\src\\vision\\model_pipeline\\front-cam-felps-5\\train\\labels\\image_105905217632833_jpg.rf.ecd55fbaf9f5084c2267b0122d1b85ec.txt\n",
      "c:\\Users\\poten\\AUV-2024\\catkin_ws\\src\\vision\\model_pipeline\\front-cam-felps-5\\train\\labels\\image_106008037630535_jpg.rf.5b3a4380caca6eeeb9f2495f4ef8b118.txt\n",
      "c:\\Users\\poten\\AUV-2024\\catkin_ws\\src\\vision\\model_pipeline\\front-cam-felps-5\\train\\labels\\image_106016277630351_jpg.rf.0bed467ce46bf0aed510ce53bb6d1614.txt\n",
      "c:\\Users\\poten\\AUV-2024\\catkin_ws\\src\\vision\\model_pipeline\\front-cam-felps-5\\train\\labels\\image_106027837630093_jpg.rf.43086d6ee976e7b73860414ff2ec9024.txt\n",
      "c:\\Users\\poten\\AUV-2024\\catkin_ws\\src\\vision\\model_pipeline\\front-cam-felps-5\\train\\labels\\image_106055917629465_jpg.rf.8ea1c0c992ec93e9f7841a733b6d83a6.txt\n",
      "c:\\Users\\poten\\AUV-2024\\catkin_ws\\src\\vision\\model_pipeline\\front-cam-felps-5\\train\\labels\\image_106061437629342_jpg.rf.983712e2284133910147cbe26bafa4c6.txt\n",
      "c:\\Users\\poten\\AUV-2024\\catkin_ws\\src\\vision\\model_pipeline\\front-cam-felps-5\\train\\labels\\image_106074377629052_jpg.rf.e920408b9b464d23741a9396f8414a5a.txt\n",
      "c:\\Users\\poten\\AUV-2024\\catkin_ws\\src\\vision\\model_pipeline\\front-cam-felps-5\\train\\labels\\image_106080957628905_jpg.rf.4a7f5ec03a760a953fe742b3d88947b3.txt\n",
      "c:\\Users\\poten\\AUV-2024\\catkin_ws\\src\\vision\\model_pipeline\\front-cam-felps-5\\train\\labels\\image_106085317628808_jpg.rf.ab5efda5e0e673a52a55035bc82429dc.txt\n",
      "c:\\Users\\poten\\AUV-2024\\catkin_ws\\src\\vision\\model_pipeline\\front-cam-felps-5\\train\\labels\\image_106093837628617_jpg.rf.e41853a35221b1c07294638cb64a584c.txt\n",
      "c:\\Users\\poten\\AUV-2024\\catkin_ws\\src\\vision\\model_pipeline\\front-cam-felps-5\\train\\labels\\image_106101137628454_jpg.rf.3af1f07187dbff0819e4fd120dab4497.txt\n",
      "c:\\Users\\poten\\AUV-2024\\catkin_ws\\src\\vision\\model_pipeline\\front-cam-felps-5\\train\\labels\\image_106112537628199_jpg.rf.6f3cc2d978b46bd506f9b9a2e90c794c.txt\n",
      "c:\\Users\\poten\\AUV-2024\\catkin_ws\\src\\vision\\model_pipeline\\front-cam-felps-5\\train\\labels\\image_106119357628047_jpg.rf.37f33a582b2d423ae001db9a30293741.txt\n",
      "c:\\Users\\poten\\AUV-2024\\catkin_ws\\src\\vision\\model_pipeline\\front-cam-felps-5\\train\\labels\\image_106134417627710_jpg.rf.d9568a82711dd9869328c8c097874262.txt\n",
      "c:\\Users\\poten\\AUV-2024\\catkin_ws\\src\\vision\\model_pipeline\\front-cam-felps-5\\train\\labels\\image_106144437627486_jpg.rf.796f3e5af956f4c39aaabd82ed38c1a1.txt\n",
      "c:\\Users\\poten\\AUV-2024\\catkin_ws\\src\\vision\\model_pipeline\\front-cam-felps-5\\train\\labels\\image_106151517627328_jpg.rf.8e33ba453b96d2586ea63bb3071bdee3.txt\n",
      "c:\\Users\\poten\\AUV-2024\\catkin_ws\\src\\vision\\model_pipeline\\front-cam-felps-5\\train\\labels\\image_106162997627071_jpg.rf.2dcb9296a2e7c917189bfeff559c0a41.txt\n",
      "c:\\Users\\poten\\AUV-2024\\catkin_ws\\src\\vision\\model_pipeline\\front-cam-felps-5\\train\\labels\\image_106167277626976_jpg.rf.826f0bdd3465951d9d2be3596396ba64.txt\n",
      "c:\\Users\\poten\\AUV-2024\\catkin_ws\\src\\vision\\model_pipeline\\front-cam-felps-5\\train\\labels\\image_106174477626815_jpg.rf.782ee6c03d4769c739105339208c368e.txt\n",
      "c:\\Users\\poten\\AUV-2024\\catkin_ws\\src\\vision\\model_pipeline\\front-cam-felps-5\\train\\labels\\image_106180597626678_jpg.rf.b0e80417e22c68b4ff19f0e0e39413aa.txt\n",
      "c:\\Users\\poten\\AUV-2024\\catkin_ws\\src\\vision\\model_pipeline\\front-cam-felps-5\\train\\labels\\image_106227457625631_jpg.rf.546c46c9cb069e7c22704809741fcd83.txt\n",
      "c:\\Users\\poten\\AUV-2024\\catkin_ws\\src\\vision\\model_pipeline\\front-cam-felps-5\\train\\labels\\image_106237637625403_jpg.rf.2a306bde7b125224ac5b557a9ac3ed0f.txt\n",
      "c:\\Users\\poten\\AUV-2024\\catkin_ws\\src\\vision\\model_pipeline\\front-cam-felps-5\\train\\labels\\image_106243597625270_jpg.rf.8514d197eb391c06203fa172cef8aeba.txt\n",
      "c:\\Users\\poten\\AUV-2024\\catkin_ws\\src\\vision\\model_pipeline\\front-cam-felps-5\\train\\labels\\image_106249657625134_jpg.rf.276fec30925f5cd3fef6804c8621f686.txt\n",
      "c:\\Users\\poten\\AUV-2024\\catkin_ws\\src\\vision\\model_pipeline\\front-cam-felps-5\\train\\labels\\image_106279037624478_jpg.rf.f5d7d643bae5b396cdd499aa4e84cf77.txt\n",
      "c:\\Users\\poten\\AUV-2024\\catkin_ws\\src\\vision\\model_pipeline\\front-cam-felps-5\\train\\labels\\image_106285257624339_jpg.rf.578b6990e08343d6ba4057b878a128b4.txt\n",
      "c:\\Users\\poten\\AUV-2024\\catkin_ws\\src\\vision\\model_pipeline\\front-cam-felps-5\\train\\labels\\image_106356617622744_jpg.rf.1d819f2d4c6fadae7eca00d904a14485.txt\n",
      "c:\\Users\\poten\\AUV-2024\\catkin_ws\\src\\vision\\model_pipeline\\front-cam-felps-5\\train\\labels\\image_106361617622632_jpg.rf.30c0997f9af0b90391e3f1e252e4436c.txt\n",
      "c:\\Users\\poten\\AUV-2024\\catkin_ws\\src\\vision\\model_pipeline\\front-cam-felps-5\\train\\labels\\image_106376977622289_jpg.rf.4543cd955d8cbb467df78449f2b33350.txt\n",
      "c:\\Users\\poten\\AUV-2024\\catkin_ws\\src\\vision\\model_pipeline\\front-cam-felps-5\\train\\labels\\image_106428797621130_jpg.rf.a653c9940bedbb3daa658d291fcd5656.txt\n",
      "c:\\Users\\poten\\AUV-2024\\catkin_ws\\src\\vision\\model_pipeline\\front-cam-felps-5\\train\\labels\\image_106434977620992_jpg.rf.00d41a54f879bd07214194fa505d0576.txt\n",
      "c:\\Users\\poten\\AUV-2024\\catkin_ws\\src\\vision\\model_pipeline\\front-cam-felps-5\\train\\labels\\image_106440297620873_jpg.rf.23948a8ca92934e995399b839b5275be.txt\n",
      "c:\\Users\\poten\\AUV-2024\\catkin_ws\\src\\vision\\model_pipeline\\front-cam-felps-5\\train\\labels\\image_106446077620744_jpg.rf.02e89be3a3c1563e3f9c03ab7cb78f69.txt\n",
      "c:\\Users\\poten\\AUV-2024\\catkin_ws\\src\\vision\\model_pipeline\\front-cam-felps-5\\train\\labels\\image_106451197620630_jpg.rf.d1c3a8c90149c0d1457810eb062db06b.txt\n",
      "c:\\Users\\poten\\AUV-2024\\catkin_ws\\src\\vision\\model_pipeline\\front-cam-felps-5\\train\\labels\\image_106458777620460_jpg.rf.7d6d40d92fea0ff83509b7a997940d37.txt\n",
      "c:\\Users\\poten\\AUV-2024\\catkin_ws\\src\\vision\\model_pipeline\\front-cam-felps-5\\train\\labels\\image_106469417620222_jpg.rf.3f2bb22a24fbf80e385c7a9a08650c7e.txt\n",
      "c:\\Users\\poten\\AUV-2024\\catkin_ws\\src\\vision\\model_pipeline\\front-cam-felps-5\\train\\labels\\image_106480237619981_jpg.rf.793853953252fe00a09ce2ad9d397175.txt\n",
      "c:\\Users\\poten\\AUV-2024\\catkin_ws\\src\\vision\\model_pipeline\\front-cam-felps-5\\train\\labels\\image_106488397619798_jpg.rf.753d496d1335ace8e56bf64a03489de8.txt\n",
      "c:\\Users\\poten\\AUV-2024\\catkin_ws\\src\\vision\\model_pipeline\\front-cam-felps-5\\train\\labels\\image_106506837619386_jpg.rf.157f269be6ac2fe7177b1f6890fc3fc8.txt\n",
      "c:\\Users\\poten\\AUV-2024\\catkin_ws\\src\\vision\\model_pipeline\\front-cam-felps-5\\train\\labels\\image_106510757619298_jpg.rf.c2a0cedc5de0905572f89ba6a1c554f1.txt\n",
      "c:\\Users\\poten\\AUV-2024\\catkin_ws\\src\\vision\\model_pipeline\\front-cam-felps-5\\train\\labels\\image_106523377619016_jpg.rf.e2a2213b56a62bd08f214cdc46f82cb1.txt\n",
      "c:\\Users\\poten\\AUV-2024\\catkin_ws\\src\\vision\\model_pipeline\\front-cam-felps-5\\train\\labels\\image_106533037618800_jpg.rf.16433bbdd356b5053b0cf14fb1153b51.txt\n",
      "c:\\Users\\poten\\AUV-2024\\catkin_ws\\src\\vision\\model_pipeline\\front-cam-felps-5\\train\\labels\\image_106540137618642_jpg.rf.bfc034e8de678072ad19e80f6fabb6c2.txt\n",
      "c:\\Users\\poten\\AUV-2024\\catkin_ws\\src\\vision\\model_pipeline\\front-cam-felps-5\\train\\labels\\image_106554817618314_jpg.rf.bce92153f3e90ae15f8683e01ae12345.txt\n",
      "c:\\Users\\poten\\AUV-2024\\catkin_ws\\src\\vision\\model_pipeline\\front-cam-felps-5\\train\\labels\\image_106567737618025_jpg.rf.0827b8254eff679d5e6ab15cf59036f5.txt\n",
      "c:\\Users\\poten\\AUV-2024\\catkin_ws\\src\\vision\\model_pipeline\\front-cam-felps-5\\train\\labels\\image_106584057617660_jpg.rf.cafd747939909566cad6c51a74f31e1a.txt\n",
      "c:\\Users\\poten\\AUV-2024\\catkin_ws\\src\\vision\\model_pipeline\\front-cam-felps-5\\train\\labels\\image_106591077617503_jpg.rf.9491716618889f8e4aade42dfdc43a07.txt\n",
      "c:\\Users\\poten\\AUV-2024\\catkin_ws\\src\\vision\\model_pipeline\\front-cam-felps-5\\train\\labels\\image_106607497617136_jpg.rf.ed5a42a804720c4fa8a1b7abab99f396.txt\n",
      "       70 file(s) moved.\n",
      "c:\\Users\\poten\\AUV-2024\\catkin_ws\\src\\vision\\model_pipeline\\front-cam-felps-5\\valid\\images\\image_105745457636404_jpg.rf.b607918134b6580c11cef67ed52b0f62.jpg\n",
      "c:\\Users\\poten\\AUV-2024\\catkin_ws\\src\\vision\\model_pipeline\\front-cam-felps-5\\valid\\images\\image_105762457636024_jpg.rf.1b8d14debd2c8df7bb5618d8744d12ce.jpg\n",
      "c:\\Users\\poten\\AUV-2024\\catkin_ws\\src\\vision\\model_pipeline\\front-cam-felps-5\\valid\\images\\image_106066817629221_jpg.rf.7786d2b488e5731b349ff90f0cb29aa6.jpg\n",
      "c:\\Users\\poten\\AUV-2024\\catkin_ws\\src\\vision\\model_pipeline\\front-cam-felps-5\\valid\\images\\image_106127297627869_jpg.rf.29fa023afcde6516537139be8d091ad6.jpg\n",
      "c:\\Users\\poten\\AUV-2024\\catkin_ws\\src\\vision\\model_pipeline\\front-cam-felps-5\\valid\\images\\image_106203177626173_jpg.rf.073aaffc1287e4dc8a32dc6cfdcb1e65.jpg\n",
      "c:\\Users\\poten\\AUV-2024\\catkin_ws\\src\\vision\\model_pipeline\\front-cam-felps-5\\valid\\images\\image_106215657625894_jpg.rf.daca8b24ac544a5da32e3b07c17c1002.jpg\n",
      "c:\\Users\\poten\\AUV-2024\\catkin_ws\\src\\vision\\model_pipeline\\front-cam-felps-5\\valid\\images\\image_106221297625768_jpg.rf.eb5555ed34fa187e4bff78c013da8559.jpg\n",
      "c:\\Users\\poten\\AUV-2024\\catkin_ws\\src\\vision\\model_pipeline\\front-cam-felps-5\\valid\\images\\image_106260177624899_jpg.rf.2dfcba42ea8181f7aa5a53915945b42f.jpg\n",
      "c:\\Users\\poten\\AUV-2024\\catkin_ws\\src\\vision\\model_pipeline\\front-cam-felps-5\\valid\\images\\image_106365677622541_jpg.rf.4be864fe5082fb7bb433c3f1b2dd81c0.jpg\n",
      "c:\\Users\\poten\\AUV-2024\\catkin_ws\\src\\vision\\model_pipeline\\front-cam-felps-5\\valid\\images\\image_106385637622095_jpg.rf.e3e8d6e66c9e37e0731773df23fee4a7.jpg\n",
      "c:\\Users\\poten\\AUV-2024\\catkin_ws\\src\\vision\\model_pipeline\\front-cam-felps-5\\valid\\images\\image_106390337621990_jpg.rf.40b9f790fb55aa73d092e8a1dc0d77d4.jpg\n",
      "c:\\Users\\poten\\AUV-2024\\catkin_ws\\src\\vision\\model_pipeline\\front-cam-felps-5\\valid\\images\\image_106396757621847_jpg.rf.0c3c896a59fc82a3d588f3dd970dda7f.jpg\n",
      "c:\\Users\\poten\\AUV-2024\\catkin_ws\\src\\vision\\model_pipeline\\front-cam-felps-5\\valid\\images\\image_106500237619534_jpg.rf.25fadcd865e408e6e786eba386b922b3.jpg\n",
      "c:\\Users\\poten\\AUV-2024\\catkin_ws\\src\\vision\\model_pipeline\\front-cam-felps-5\\valid\\images\\image_106518437619127_jpg.rf.e3e5b1326f19d425ba45bd877d1059ee.jpg\n",
      "c:\\Users\\poten\\AUV-2024\\catkin_ws\\src\\vision\\model_pipeline\\front-cam-felps-5\\valid\\images\\image_106544917618535_jpg.rf.13947a9b29141f39460d0890fa43d9c0.jpg\n",
      "c:\\Users\\poten\\AUV-2024\\catkin_ws\\src\\vision\\model_pipeline\\front-cam-felps-5\\valid\\images\\image_106572897617909_jpg.rf.919b09b77404be3edf6ebd3b85a2bfe9.jpg\n",
      "c:\\Users\\poten\\AUV-2024\\catkin_ws\\src\\vision\\model_pipeline\\front-cam-felps-5\\valid\\images\\image_106580377617742_jpg.rf.9b1d3112755107067eabfe5f248a9328.jpg\n",
      "c:\\Users\\poten\\AUV-2024\\catkin_ws\\src\\vision\\model_pipeline\\front-cam-felps-5\\valid\\images\\image_106599237617321_jpg.rf.13108ffde1d2286d470717b9aafcfe07.jpg\n",
      "c:\\Users\\poten\\AUV-2024\\catkin_ws\\src\\vision\\model_pipeline\\front-cam-felps-5\\valid\\images\\image_106603617617223_jpg.rf.761d1c794cb60c8b2adeec84f68cb314.jpg\n",
      "c:\\Users\\poten\\AUV-2024\\catkin_ws\\src\\vision\\model_pipeline\\front-cam-felps-5\\valid\\images\\image_106612437617026_jpg.rf.e8face0c2f3825a586361b50071847df.jpg\n",
      "       20 file(s) moved.\n",
      "c:\\Users\\poten\\AUV-2024\\catkin_ws\\src\\vision\\model_pipeline\\front-cam-felps-5\\valid\\labels\\image_105745457636404_jpg.rf.b607918134b6580c11cef67ed52b0f62.txt\n",
      "c:\\Users\\poten\\AUV-2024\\catkin_ws\\src\\vision\\model_pipeline\\front-cam-felps-5\\valid\\labels\\image_105762457636024_jpg.rf.1b8d14debd2c8df7bb5618d8744d12ce.txt\n",
      "c:\\Users\\poten\\AUV-2024\\catkin_ws\\src\\vision\\model_pipeline\\front-cam-felps-5\\valid\\labels\\image_106066817629221_jpg.rf.7786d2b488e5731b349ff90f0cb29aa6.txt\n",
      "c:\\Users\\poten\\AUV-2024\\catkin_ws\\src\\vision\\model_pipeline\\front-cam-felps-5\\valid\\labels\\image_106127297627869_jpg.rf.29fa023afcde6516537139be8d091ad6.txt\n",
      "c:\\Users\\poten\\AUV-2024\\catkin_ws\\src\\vision\\model_pipeline\\front-cam-felps-5\\valid\\labels\\image_106203177626173_jpg.rf.073aaffc1287e4dc8a32dc6cfdcb1e65.txt\n",
      "c:\\Users\\poten\\AUV-2024\\catkin_ws\\src\\vision\\model_pipeline\\front-cam-felps-5\\valid\\labels\\image_106215657625894_jpg.rf.daca8b24ac544a5da32e3b07c17c1002.txt\n",
      "c:\\Users\\poten\\AUV-2024\\catkin_ws\\src\\vision\\model_pipeline\\front-cam-felps-5\\valid\\labels\\image_106221297625768_jpg.rf.eb5555ed34fa187e4bff78c013da8559.txt\n",
      "c:\\Users\\poten\\AUV-2024\\catkin_ws\\src\\vision\\model_pipeline\\front-cam-felps-5\\valid\\labels\\image_106260177624899_jpg.rf.2dfcba42ea8181f7aa5a53915945b42f.txt\n",
      "c:\\Users\\poten\\AUV-2024\\catkin_ws\\src\\vision\\model_pipeline\\front-cam-felps-5\\valid\\labels\\image_106365677622541_jpg.rf.4be864fe5082fb7bb433c3f1b2dd81c0.txt\n",
      "c:\\Users\\poten\\AUV-2024\\catkin_ws\\src\\vision\\model_pipeline\\front-cam-felps-5\\valid\\labels\\image_106385637622095_jpg.rf.e3e8d6e66c9e37e0731773df23fee4a7.txt\n",
      "c:\\Users\\poten\\AUV-2024\\catkin_ws\\src\\vision\\model_pipeline\\front-cam-felps-5\\valid\\labels\\image_106390337621990_jpg.rf.40b9f790fb55aa73d092e8a1dc0d77d4.txt\n",
      "c:\\Users\\poten\\AUV-2024\\catkin_ws\\src\\vision\\model_pipeline\\front-cam-felps-5\\valid\\labels\\image_106396757621847_jpg.rf.0c3c896a59fc82a3d588f3dd970dda7f.txt\n",
      "c:\\Users\\poten\\AUV-2024\\catkin_ws\\src\\vision\\model_pipeline\\front-cam-felps-5\\valid\\labels\\image_106500237619534_jpg.rf.25fadcd865e408e6e786eba386b922b3.txt\n",
      "c:\\Users\\poten\\AUV-2024\\catkin_ws\\src\\vision\\model_pipeline\\front-cam-felps-5\\valid\\labels\\image_106518437619127_jpg.rf.e3e5b1326f19d425ba45bd877d1059ee.txt\n",
      "c:\\Users\\poten\\AUV-2024\\catkin_ws\\src\\vision\\model_pipeline\\front-cam-felps-5\\valid\\labels\\image_106544917618535_jpg.rf.13947a9b29141f39460d0890fa43d9c0.txt\n",
      "c:\\Users\\poten\\AUV-2024\\catkin_ws\\src\\vision\\model_pipeline\\front-cam-felps-5\\valid\\labels\\image_106572897617909_jpg.rf.919b09b77404be3edf6ebd3b85a2bfe9.txt\n",
      "c:\\Users\\poten\\AUV-2024\\catkin_ws\\src\\vision\\model_pipeline\\front-cam-felps-5\\valid\\labels\\image_106580377617742_jpg.rf.9b1d3112755107067eabfe5f248a9328.txt\n",
      "c:\\Users\\poten\\AUV-2024\\catkin_ws\\src\\vision\\model_pipeline\\front-cam-felps-5\\valid\\labels\\image_106599237617321_jpg.rf.13108ffde1d2286d470717b9aafcfe07.txt\n",
      "c:\\Users\\poten\\AUV-2024\\catkin_ws\\src\\vision\\model_pipeline\\front-cam-felps-5\\valid\\labels\\image_106603617617223_jpg.rf.761d1c794cb60c8b2adeec84f68cb314.txt\n",
      "c:\\Users\\poten\\AUV-2024\\catkin_ws\\src\\vision\\model_pipeline\\front-cam-felps-5\\valid\\labels\\image_106612437617026_jpg.rf.e8face0c2f3825a586361b50071847df.txt\n",
      "       20 file(s) moved.\n",
      "c:\\Users\\poten\\AUV-2024\\catkin_ws\\src\\vision\\model_pipeline\\front-cam-felps-5\\test\\images\\image_105753377636227_jpg.rf.b02681f57d7041e44292296c933e85c7.jpg\n",
      "c:\\Users\\poten\\AUV-2024\\catkin_ws\\src\\vision\\model_pipeline\\front-cam-felps-5\\test\\images\\image_105771357635825_jpg.rf.ef150f1723c4cce5d442ad45117ba6e6.jpg\n",
      "c:\\Users\\poten\\AUV-2024\\catkin_ws\\src\\vision\\model_pipeline\\front-cam-felps-5\\test\\images\\image_105783537635553_jpg.rf.df2b43219e08ecd50ea4585fe19ab224.jpg\n",
      "c:\\Users\\poten\\AUV-2024\\catkin_ws\\src\\vision\\model_pipeline\\front-cam-felps-5\\test\\images\\image_105840957634270_jpg.rf.6b41f7ae201b2a3327a407879499c412.jpg\n",
      "c:\\Users\\poten\\AUV-2024\\catkin_ws\\src\\vision\\model_pipeline\\front-cam-felps-5\\test\\images\\image_105890897633153_jpg.rf.3573de757842e73a82e0f7939e359bb6.jpg\n",
      "c:\\Users\\poten\\AUV-2024\\catkin_ws\\src\\vision\\model_pipeline\\front-cam-felps-5\\test\\images\\image_105913677632644_jpg.rf.3a833a7f7951219378db565d3d17d399.jpg\n",
      "c:\\Users\\poten\\AUV-2024\\catkin_ws\\src\\vision\\model_pipeline\\front-cam-felps-5\\test\\images\\image_106188117626510_jpg.rf.09d611930cf922a3e7aed7fbe5406de3.jpg\n",
      "c:\\Users\\poten\\AUV-2024\\catkin_ws\\src\\vision\\model_pipeline\\front-cam-felps-5\\test\\images\\image_106266557624757_jpg.rf.70a36e82cc9761ec9196e9bb0562d55b.jpg\n",
      "c:\\Users\\poten\\AUV-2024\\catkin_ws\\src\\vision\\model_pipeline\\front-cam-felps-5\\test\\images\\image_106370977622423_jpg.rf.b063217d818b3e3938bc1f1256b1e9c4.jpg\n",
      "c:\\Users\\poten\\AUV-2024\\catkin_ws\\src\\vision\\model_pipeline\\front-cam-felps-5\\test\\images\\image_106495457619640_jpg.rf.3c594ec6173149918b11ca20d41d08cb.jpg\n",
      "       10 file(s) moved.\n",
      "c:\\Users\\poten\\AUV-2024\\catkin_ws\\src\\vision\\model_pipeline\\front-cam-felps-5\\test\\labels\\image_105753377636227_jpg.rf.b02681f57d7041e44292296c933e85c7.txt\n",
      "c:\\Users\\poten\\AUV-2024\\catkin_ws\\src\\vision\\model_pipeline\\front-cam-felps-5\\test\\labels\\image_105771357635825_jpg.rf.ef150f1723c4cce5d442ad45117ba6e6.txt\n",
      "c:\\Users\\poten\\AUV-2024\\catkin_ws\\src\\vision\\model_pipeline\\front-cam-felps-5\\test\\labels\\image_105783537635553_jpg.rf.df2b43219e08ecd50ea4585fe19ab224.txt\n",
      "c:\\Users\\poten\\AUV-2024\\catkin_ws\\src\\vision\\model_pipeline\\front-cam-felps-5\\test\\labels\\image_105840957634270_jpg.rf.6b41f7ae201b2a3327a407879499c412.txt\n",
      "c:\\Users\\poten\\AUV-2024\\catkin_ws\\src\\vision\\model_pipeline\\front-cam-felps-5\\test\\labels\\image_105890897633153_jpg.rf.3573de757842e73a82e0f7939e359bb6.txt\n",
      "c:\\Users\\poten\\AUV-2024\\catkin_ws\\src\\vision\\model_pipeline\\front-cam-felps-5\\test\\labels\\image_105913677632644_jpg.rf.3a833a7f7951219378db565d3d17d399.txt\n",
      "c:\\Users\\poten\\AUV-2024\\catkin_ws\\src\\vision\\model_pipeline\\front-cam-felps-5\\test\\labels\\image_106188117626510_jpg.rf.09d611930cf922a3e7aed7fbe5406de3.txt\n",
      "c:\\Users\\poten\\AUV-2024\\catkin_ws\\src\\vision\\model_pipeline\\front-cam-felps-5\\test\\labels\\image_106266557624757_jpg.rf.70a36e82cc9761ec9196e9bb0562d55b.txt\n",
      "c:\\Users\\poten\\AUV-2024\\catkin_ws\\src\\vision\\model_pipeline\\front-cam-felps-5\\test\\labels\\image_106370977622423_jpg.rf.b063217d818b3e3938bc1f1256b1e9c4.txt\n",
      "c:\\Users\\poten\\AUV-2024\\catkin_ws\\src\\vision\\model_pipeline\\front-cam-felps-5\\test\\labels\\image_106495457619640_jpg.rf.3c594ec6173149918b11ca20d41d08cb.txt\n",
      "       10 file(s) moved.\n"
     ]
    }
   ],
   "source": [
    "folder_name = \"{}-{}\".format(roboflow_project_name, roboflow_project_version)\n",
    "roboflow_folder_absolute_path = os.path.abspath(folder_name)\n",
    "data_folder_absolute_path = os.path.abspath(\"data\")\n",
    "\n",
    "print(\"Roboflow folder name:\", folder_name)\n",
    "print(\"Roboflow absolute path:\", roboflow_folder_absolute_path)\n",
    "print(\"Data absolute path:\", data_folder_absolute_path)\n",
    "\n",
    "!move \"{roboflow_folder_absolute_path}\\train\\images\\*.*\" \"{data_folder_absolute_path}\\raw\\images\\\"\n",
    "!move \"{roboflow_folder_absolute_path}\\train\\labels\\*.*\" \"{data_folder_absolute_path}\\raw\\labels\\\"\n",
    "!move \"{roboflow_folder_absolute_path}\\valid\\images\\*.*\" \"{data_folder_absolute_path}\\raw\\images\\\"\n",
    "!move \"{roboflow_folder_absolute_path}\\valid\\labels\\*.*\" \"{data_folder_absolute_path}\\raw\\labels\\\"\n",
    "!move \"{roboflow_folder_absolute_path}\\test\\images\\*.*\" \"{data_folder_absolute_path}\\raw\\images\\\"\n",
    "!move \"{roboflow_folder_absolute_path}\\test\\labels\\*.*\" \"{data_folder_absolute_path}\\raw\\labels\\\"\n",
    "!rmdir /s /q \"{folder_name}\""
   ]
  },
  {
   "cell_type": "markdown",
   "metadata": {},
   "source": [
    "## Augment data, split into train/test/val"
   ]
  },
  {
   "cell_type": "code",
   "execution_count": 10,
   "metadata": {},
   "outputs": [
    {
     "name": "stderr",
     "output_type": "stream",
     "text": [
      "Pydantic serializer warnings:\n",
      "  Expected `Union[float, tuple[float, float]]` but got `list` - serialized value may not be as expected\n",
      "  Expected `Union[float, tuple[float, float]]` but got `list` - serialized value may not be as expected\n",
      "  Expected `Union[float, tuple[float, float]]` but got `list` - serialized value may not be as expected\n"
     ]
    },
    {
     "name": "stdout",
     "output_type": "stream",
     "text": [
      "Augmentation completed. Went from 100 raw samples to a total of 649 after augmentation.\n"
     ]
    }
   ],
   "source": [
    "out_folder = \"data\\\\augmented\"\n",
    "in_folder = \"data\\\\raw\"\n",
    "\n",
    "img_names, label_names = get_file_names(in_folder)\n",
    "num_raw_samples = len(img_names)\n",
    "train_images, train_labels, val_images, val_labels, test_images, test_labels = split_file_names(img_names,label_names,train_test_val_split)\n",
    "do_augs_and_export(train_images,train_labels,in_folder,out_folder + \"\\\\train\")\n",
    "do_augs_and_export(val_images,val_labels,in_folder,out_folder + \"\\\\val\")\n",
    "do_augs_and_export(test_images,test_labels,in_folder,out_folder + \"\\\\test\")\n",
    "\n",
    "augmented_train_img_names, _ = get_file_names(out_folder + \"\\\\train\")\n",
    "augmented_test_img_names, _ = get_file_names(out_folder + \"\\\\test\")\n",
    "augmented_val_img_names, _ = get_file_names(out_folder + \"\\\\val\")\n",
    "\n",
    "num_augmented_samples = len(augmented_train_img_names) + len(augmented_test_img_names) + len(augmented_val_img_names)\n",
    "\n",
    "print(\"Augmentation completed. Went from {} raw samples to a total of {} after augmentation.\".format(num_raw_samples, num_augmented_samples))"
   ]
  },
  {
   "cell_type": "markdown",
   "metadata": {},
   "source": [
    "# Check CUDA dependencies and start training"
   ]
  },
  {
   "cell_type": "code",
   "execution_count": 11,
   "metadata": {},
   "outputs": [
    {
     "name": "stdout",
     "output_type": "stream",
     "text": [
      "Cuda is available!!!\n"
     ]
    }
   ],
   "source": [
    "CUDA_setup_is_valid = int(torch.cuda.is_available() and torch.cuda.device_count())\n",
    "\n",
    "print(\"Cuda is {}available!!!\".format(\"\" if CUDA_setup_is_valid else \"NOT \"))"
   ]
  },
  {
   "cell_type": "code",
   "execution_count": 12,
   "metadata": {},
   "outputs": [
    {
     "name": "stderr",
     "output_type": "stream",
     "text": [
      "The system cannot find the file specified.\n"
     ]
    }
   ],
   "source": [
    "!rmdir /s /q \"runs\"\n",
    "!mkdir \"runs\"\n",
    "!mkdir \"runs/detect\""
   ]
  },
  {
   "cell_type": "code",
   "execution_count": 4,
   "metadata": {},
   "outputs": [
    {
     "name": "stdout",
     "output_type": "stream",
     "text": [
      "New https://pypi.org/project/ultralytics/8.2.22 available  Update with 'pip install -U ultralytics'\n",
      "Ultralytics YOLOv8.2.21  Python-3.12.3 torch-2.3.0+cu121 CUDA:0 (NVIDIA GeForce RTX 4060 Laptop GPU, 8188MiB)\n",
      "\u001b[34m\u001b[1mengine\\trainer: \u001b[0mtask=detect, mode=train, model=yolov8n.pt, data=c:\\Users\\poten\\AUV-2024\\catkin_ws\\src\\vision\\model_pipeline\\data.yaml, epochs=200, time=None, patience=100, batch=1, imgsz=640, save=True, save_period=-1, cache=False, device=None, workers=2, project=None, name=train, exist_ok=False, pretrained=True, optimizer=auto, verbose=True, seed=0, deterministic=True, single_cls=False, rect=False, cos_lr=False, close_mosaic=10, resume=False, amp=True, fraction=1.0, profile=False, freeze=None, multi_scale=False, overlap_mask=True, mask_ratio=4, dropout=0.0, val=True, split=val, save_json=False, save_hybrid=False, conf=None, iou=0.7, max_det=300, half=False, dnn=False, plots=True, source=None, vid_stride=1, stream_buffer=False, visualize=False, augment=False, agnostic_nms=False, classes=None, retina_masks=False, embed=None, show=False, save_frames=False, save_txt=False, save_conf=False, save_crop=False, show_labels=True, show_conf=True, show_boxes=True, line_width=None, format=torchscript, keras=False, optimize=False, int8=False, dynamic=False, simplify=False, opset=None, workspace=4, nms=False, lr0=0.01, lrf=0.01, momentum=0.937, weight_decay=0.0005, warmup_epochs=3.0, warmup_momentum=0.8, warmup_bias_lr=0.1, box=7.5, cls=0.5, dfl=1.5, pose=12.0, kobj=1.0, label_smoothing=0.0, nbs=64, hsv_h=0.015, hsv_s=0.7, hsv_v=0.4, degrees=360, translate=0.1, scale=0.3, shear=0.0, perspective=0.001, flipud=0.5, fliplr=0.5, bgr=0.0, mosaic=0.5, mixup=0.5, copy_paste=0.0, auto_augment=randaugment, erasing=0.4, crop_fraction=1.0, cfg=None, tracker=botsort.yaml, save_dir=runs\\detect\\train\n",
      "Overriding model.yaml nc=80 with nc=2\n",
      "\n",
      "                   from  n    params  module                                       arguments                     \n",
      "  0                  -1  1       464  ultralytics.nn.modules.conv.Conv             [3, 16, 3, 2]                 \n",
      "  1                  -1  1      4672  ultralytics.nn.modules.conv.Conv             [16, 32, 3, 2]                \n",
      "  2                  -1  1      7360  ultralytics.nn.modules.block.C2f             [32, 32, 1, True]             \n",
      "  3                  -1  1     18560  ultralytics.nn.modules.conv.Conv             [32, 64, 3, 2]                \n",
      "  4                  -1  2     49664  ultralytics.nn.modules.block.C2f             [64, 64, 2, True]             \n",
      "  5                  -1  1     73984  ultralytics.nn.modules.conv.Conv             [64, 128, 3, 2]               \n",
      "  6                  -1  2    197632  ultralytics.nn.modules.block.C2f             [128, 128, 2, True]           \n",
      "  7                  -1  1    295424  ultralytics.nn.modules.conv.Conv             [128, 256, 3, 2]              \n",
      "  8                  -1  1    460288  ultralytics.nn.modules.block.C2f             [256, 256, 1, True]           \n",
      "  9                  -1  1    164608  ultralytics.nn.modules.block.SPPF            [256, 256, 5]                 \n",
      " 10                  -1  1         0  torch.nn.modules.upsampling.Upsample         [None, 2, 'nearest']          \n",
      " 11             [-1, 6]  1         0  ultralytics.nn.modules.conv.Concat           [1]                           \n",
      " 12                  -1  1    148224  ultralytics.nn.modules.block.C2f             [384, 128, 1]                 \n",
      " 13                  -1  1         0  torch.nn.modules.upsampling.Upsample         [None, 2, 'nearest']          \n",
      " 14             [-1, 4]  1         0  ultralytics.nn.modules.conv.Concat           [1]                           \n",
      " 15                  -1  1     37248  ultralytics.nn.modules.block.C2f             [192, 64, 1]                  \n",
      " 16                  -1  1     36992  ultralytics.nn.modules.conv.Conv             [64, 64, 3, 2]                \n",
      " 17            [-1, 12]  1         0  ultralytics.nn.modules.conv.Concat           [1]                           \n",
      " 18                  -1  1    123648  ultralytics.nn.modules.block.C2f             [192, 128, 1]                 \n",
      " 19                  -1  1    147712  ultralytics.nn.modules.conv.Conv             [128, 128, 3, 2]              \n",
      " 20             [-1, 9]  1         0  ultralytics.nn.modules.conv.Concat           [1]                           \n",
      " 21                  -1  1    493056  ultralytics.nn.modules.block.C2f             [384, 256, 1]                 \n",
      " 22        [15, 18, 21]  1    751702  ultralytics.nn.modules.head.Detect           [2, [64, 128, 256]]           \n",
      "Model summary: 225 layers, 3011238 parameters, 3011222 gradients\n",
      "\n",
      "Transferred 319/355 items from pretrained weights\n",
      "Freezing layer 'model.22.dfl.conv.weight'\n",
      "\u001b[34m\u001b[1mAMP: \u001b[0mrunning Automatic Mixed Precision (AMP) checks with YOLOv8n...\n",
      "\u001b[34m\u001b[1mAMP: \u001b[0mchecks passed \n"
     ]
    },
    {
     "name": "stderr",
     "output_type": "stream",
     "text": [
      "\u001b[34m\u001b[1mtrain: \u001b[0mScanning C:\\Users\\poten\\AUV-2024\\catkin_ws\\src\\vision\\model_pipeline\\data\\augmented\\train\\labels.cache... 695 images, 145 backgrounds, 0 corrupt: 100%|██████████| 695/695 [00:00<?, ?it/s]"
     ]
    },
    {
     "name": "stdout",
     "output_type": "stream",
     "text": [
      "\u001b[34m\u001b[1malbumentations: \u001b[0mBlur(p=0.01, blur_limit=(3, 7)), MedianBlur(p=0.01, blur_limit=(3, 7)), ToGray(p=0.01), CLAHE(p=0.01, clip_limit=(1, 4.0), tile_grid_size=(8, 8))\n"
     ]
    },
    {
     "name": "stderr",
     "output_type": "stream",
     "text": [
      "\n",
      "Got processor for bboxes, but no transform to process it.\n",
      "\u001b[34m\u001b[1mval: \u001b[0mScanning C:\\Users\\poten\\AUV-2024\\catkin_ws\\src\\vision\\model_pipeline\\data\\augmented\\val\\labels.cache... 191 images, 27 backgrounds, 0 corrupt: 100%|██████████| 191/191 [00:00<?, ?it/s]\n"
     ]
    },
    {
     "name": "stdout",
     "output_type": "stream",
     "text": [
      "Plotting labels to runs\\detect\\train\\labels.jpg... \n",
      "\u001b[34m\u001b[1moptimizer:\u001b[0m 'optimizer=auto' found, ignoring 'lr0=0.01' and 'momentum=0.937' and determining best 'optimizer', 'lr0' and 'momentum' automatically... \n",
      "\u001b[34m\u001b[1moptimizer:\u001b[0m AdamW(lr=0.001667, momentum=0.9) with parameter groups 57 weight(decay=0.0), 64 weight(decay=0.0005), 63 bias(decay=0.0)\n",
      "Image sizes 640 train, 640 val\n",
      "Using 2 dataloader workers\n",
      "Logging results to \u001b[1mruns\\detect\\train\u001b[0m\n",
      "Starting training for 200 epochs...\n",
      "\n",
      "      Epoch    GPU_mem   box_loss   cls_loss   dfl_loss  Instances       Size\n"
     ]
    },
    {
     "name": "stderr",
     "output_type": "stream",
     "text": [
      "      1/200     0.585G      1.852      3.774      1.625          3        640: 100%|██████████| 695/695 [00:40<00:00, 17.18it/s]\n",
      "                 Class     Images  Instances      Box(P          R      mAP50  mAP50-95): 100%|██████████| 96/96 [00:03<00:00, 27.85it/s]"
     ]
    },
    {
     "name": "stdout",
     "output_type": "stream",
     "text": [
      "                   all        191        227      0.424      0.478      0.488      0.232\n"
     ]
    },
    {
     "name": "stderr",
     "output_type": "stream",
     "text": [
      "\n"
     ]
    },
    {
     "name": "stdout",
     "output_type": "stream",
     "text": [
      "\n",
      "      Epoch    GPU_mem   box_loss   cls_loss   dfl_loss  Instances       Size\n"
     ]
    },
    {
     "name": "stderr",
     "output_type": "stream",
     "text": [
      "      2/200     0.587G      1.717      3.263      1.591          3        640: 100%|██████████| 695/695 [00:37<00:00, 18.69it/s]\n",
      "                 Class     Images  Instances      Box(P          R      mAP50  mAP50-95): 100%|██████████| 96/96 [00:02<00:00, 33.59it/s]"
     ]
    },
    {
     "name": "stdout",
     "output_type": "stream",
     "text": [
      "                   all        191        227       0.41      0.348      0.374       0.18\n"
     ]
    },
    {
     "name": "stderr",
     "output_type": "stream",
     "text": [
      "\n"
     ]
    },
    {
     "name": "stdout",
     "output_type": "stream",
     "text": [
      "\n",
      "      Epoch    GPU_mem   box_loss   cls_loss   dfl_loss  Instances       Size\n"
     ]
    },
    {
     "name": "stderr",
     "output_type": "stream",
     "text": [
      "      3/200     0.608G      1.707      2.939      1.621          2        640: 100%|██████████| 695/695 [00:36<00:00, 18.81it/s]\n",
      "                 Class     Images  Instances      Box(P          R      mAP50  mAP50-95): 100%|██████████| 96/96 [00:02<00:00, 33.55it/s]"
     ]
    },
    {
     "name": "stdout",
     "output_type": "stream",
     "text": [
      "                   all        191        227      0.546      0.538       0.58      0.215\n"
     ]
    },
    {
     "name": "stderr",
     "output_type": "stream",
     "text": [
      "\n"
     ]
    },
    {
     "name": "stdout",
     "output_type": "stream",
     "text": [
      "\n",
      "      Epoch    GPU_mem   box_loss   cls_loss   dfl_loss  Instances       Size\n"
     ]
    },
    {
     "name": "stderr",
     "output_type": "stream",
     "text": [
      "      4/200     0.608G      1.699      2.528      1.584          1        640: 100%|██████████| 695/695 [00:36<00:00, 18.93it/s]\n",
      "                 Class     Images  Instances      Box(P          R      mAP50  mAP50-95): 100%|██████████| 96/96 [00:02<00:00, 33.39it/s]"
     ]
    },
    {
     "name": "stdout",
     "output_type": "stream",
     "text": [
      "                   all        191        227      0.487      0.537      0.487      0.185\n"
     ]
    },
    {
     "name": "stderr",
     "output_type": "stream",
     "text": [
      "\n"
     ]
    },
    {
     "name": "stdout",
     "output_type": "stream",
     "text": [
      "\n",
      "      Epoch    GPU_mem   box_loss   cls_loss   dfl_loss  Instances       Size\n"
     ]
    },
    {
     "name": "stderr",
     "output_type": "stream",
     "text": [
      "      5/200     0.608G        1.7      2.432      1.574          3        640: 100%|██████████| 695/695 [00:39<00:00, 17.79it/s]\n",
      "                 Class     Images  Instances      Box(P          R      mAP50  mAP50-95): 100%|██████████| 96/96 [00:02<00:00, 33.28it/s]"
     ]
    },
    {
     "name": "stdout",
     "output_type": "stream",
     "text": [
      "                   all        191        227      0.525      0.281      0.412      0.157\n"
     ]
    },
    {
     "name": "stderr",
     "output_type": "stream",
     "text": [
      "\n"
     ]
    },
    {
     "name": "stdout",
     "output_type": "stream",
     "text": [
      "\n",
      "      Epoch    GPU_mem   box_loss   cls_loss   dfl_loss  Instances       Size\n"
     ]
    },
    {
     "name": "stderr",
     "output_type": "stream",
     "text": [
      "      6/200     0.608G      1.668      2.177       1.58          3        640: 100%|██████████| 695/695 [00:37<00:00, 18.76it/s]\n",
      "                 Class     Images  Instances      Box(P          R      mAP50  mAP50-95): 100%|██████████| 96/96 [00:02<00:00, 33.25it/s]"
     ]
    },
    {
     "name": "stdout",
     "output_type": "stream",
     "text": [
      "                   all        191        227       0.36      0.452      0.374      0.148\n"
     ]
    },
    {
     "name": "stderr",
     "output_type": "stream",
     "text": [
      "\n"
     ]
    },
    {
     "name": "stdout",
     "output_type": "stream",
     "text": [
      "\n",
      "      Epoch    GPU_mem   box_loss   cls_loss   dfl_loss  Instances       Size\n"
     ]
    },
    {
     "name": "stderr",
     "output_type": "stream",
     "text": [
      "      7/200      0.61G      1.677      2.121       1.57          1        640: 100%|██████████| 695/695 [00:36<00:00, 18.89it/s]\n",
      "                 Class     Images  Instances      Box(P          R      mAP50  mAP50-95): 100%|██████████| 96/96 [00:02<00:00, 32.58it/s]"
     ]
    },
    {
     "name": "stdout",
     "output_type": "stream",
     "text": [
      "                   all        191        227      0.393      0.448      0.415      0.173\n"
     ]
    },
    {
     "name": "stderr",
     "output_type": "stream",
     "text": [
      "\n"
     ]
    },
    {
     "name": "stdout",
     "output_type": "stream",
     "text": [
      "\n",
      "      Epoch    GPU_mem   box_loss   cls_loss   dfl_loss  Instances       Size\n"
     ]
    },
    {
     "name": "stderr",
     "output_type": "stream",
     "text": [
      "      8/200     0.608G      1.636      1.883      1.535          7        640: 100%|██████████| 695/695 [00:38<00:00, 18.28it/s]\n",
      "                 Class     Images  Instances      Box(P          R      mAP50  mAP50-95): 100%|██████████| 96/96 [00:02<00:00, 34.43it/s]"
     ]
    },
    {
     "name": "stdout",
     "output_type": "stream",
     "text": [
      "                   all        191        227      0.289      0.604      0.316      0.113\n"
     ]
    },
    {
     "name": "stderr",
     "output_type": "stream",
     "text": [
      "\n"
     ]
    },
    {
     "name": "stdout",
     "output_type": "stream",
     "text": [
      "\n",
      "      Epoch    GPU_mem   box_loss   cls_loss   dfl_loss  Instances       Size\n"
     ]
    },
    {
     "name": "stderr",
     "output_type": "stream",
     "text": [
      "      9/200     0.608G      1.625      1.834      1.575          7        640: 100%|██████████| 695/695 [00:36<00:00, 18.95it/s]\n",
      "                 Class     Images  Instances      Box(P          R      mAP50  mAP50-95): 100%|██████████| 96/96 [00:02<00:00, 35.76it/s]"
     ]
    },
    {
     "name": "stdout",
     "output_type": "stream",
     "text": [
      "                   all        191        227      0.536      0.586      0.506      0.211\n"
     ]
    },
    {
     "name": "stderr",
     "output_type": "stream",
     "text": [
      "\n"
     ]
    },
    {
     "name": "stdout",
     "output_type": "stream",
     "text": [
      "\n",
      "      Epoch    GPU_mem   box_loss   cls_loss   dfl_loss  Instances       Size\n"
     ]
    },
    {
     "name": "stderr",
     "output_type": "stream",
     "text": [
      "     10/200     0.608G      1.584      1.752       1.54          9        640: 100%|██████████| 695/695 [00:36<00:00, 18.89it/s]\n",
      "                 Class     Images  Instances      Box(P          R      mAP50  mAP50-95): 100%|██████████| 96/96 [00:02<00:00, 33.38it/s]"
     ]
    },
    {
     "name": "stdout",
     "output_type": "stream",
     "text": [
      "                   all        191        227      0.616      0.473      0.471      0.144\n"
     ]
    },
    {
     "name": "stderr",
     "output_type": "stream",
     "text": [
      "\n"
     ]
    },
    {
     "name": "stdout",
     "output_type": "stream",
     "text": [
      "\n",
      "      Epoch    GPU_mem   box_loss   cls_loss   dfl_loss  Instances       Size\n"
     ]
    },
    {
     "name": "stderr",
     "output_type": "stream",
     "text": [
      "     11/200     0.606G      1.539      1.623      1.501          3        640: 100%|██████████| 695/695 [00:37<00:00, 18.75it/s]\n",
      "                 Class     Images  Instances      Box(P          R      mAP50  mAP50-95): 100%|██████████| 96/96 [00:02<00:00, 33.57it/s]"
     ]
    },
    {
     "name": "stdout",
     "output_type": "stream",
     "text": [
      "                   all        191        227      0.445      0.711      0.487      0.153\n"
     ]
    },
    {
     "name": "stderr",
     "output_type": "stream",
     "text": [
      "\n"
     ]
    },
    {
     "name": "stdout",
     "output_type": "stream",
     "text": [
      "\n",
      "      Epoch    GPU_mem   box_loss   cls_loss   dfl_loss  Instances       Size\n"
     ]
    },
    {
     "name": "stderr",
     "output_type": "stream",
     "text": [
      "     12/200     0.606G       1.56      1.581      1.509          2        640: 100%|██████████| 695/695 [00:37<00:00, 18.74it/s]\n",
      "                 Class     Images  Instances      Box(P          R      mAP50  mAP50-95): 100%|██████████| 96/96 [00:02<00:00, 34.89it/s]"
     ]
    },
    {
     "name": "stdout",
     "output_type": "stream",
     "text": [
      "                   all        191        227      0.436      0.704      0.397      0.134\n"
     ]
    },
    {
     "name": "stderr",
     "output_type": "stream",
     "text": [
      "\n"
     ]
    },
    {
     "name": "stdout",
     "output_type": "stream",
     "text": [
      "\n",
      "      Epoch    GPU_mem   box_loss   cls_loss   dfl_loss  Instances       Size\n"
     ]
    },
    {
     "name": "stderr",
     "output_type": "stream",
     "text": [
      "     13/200     0.606G      1.573      1.564      1.495          1        640: 100%|██████████| 695/695 [00:36<00:00, 18.92it/s]\n",
      "                 Class     Images  Instances      Box(P          R      mAP50  mAP50-95): 100%|██████████| 96/96 [00:02<00:00, 35.24it/s]"
     ]
    },
    {
     "name": "stdout",
     "output_type": "stream",
     "text": [
      "                   all        191        227      0.485      0.349      0.422      0.162\n"
     ]
    },
    {
     "name": "stderr",
     "output_type": "stream",
     "text": [
      "\n"
     ]
    },
    {
     "name": "stdout",
     "output_type": "stream",
     "text": [
      "\n",
      "      Epoch    GPU_mem   box_loss   cls_loss   dfl_loss  Instances       Size\n"
     ]
    },
    {
     "name": "stderr",
     "output_type": "stream",
     "text": [
      "     14/200     0.608G      1.554      1.588      1.508          4        640: 100%|██████████| 695/695 [00:37<00:00, 18.54it/s]\n",
      "                 Class     Images  Instances      Box(P          R      mAP50  mAP50-95): 100%|██████████| 96/96 [00:02<00:00, 33.19it/s]"
     ]
    },
    {
     "name": "stdout",
     "output_type": "stream",
     "text": [
      "                   all        191        227      0.446      0.577      0.411      0.149\n"
     ]
    },
    {
     "name": "stderr",
     "output_type": "stream",
     "text": [
      "\n"
     ]
    },
    {
     "name": "stdout",
     "output_type": "stream",
     "text": [
      "\n",
      "      Epoch    GPU_mem   box_loss   cls_loss   dfl_loss  Instances       Size\n"
     ]
    },
    {
     "name": "stderr",
     "output_type": "stream",
     "text": [
      "     15/200     0.606G      1.484      1.461      1.438          3        640: 100%|██████████| 695/695 [00:58<00:00, 11.84it/s]\n",
      "                 Class     Images  Instances      Box(P          R      mAP50  mAP50-95): 100%|██████████| 96/96 [00:05<00:00, 16.36it/s]"
     ]
    },
    {
     "name": "stdout",
     "output_type": "stream",
     "text": [
      "                   all        191        227      0.607      0.751      0.608      0.193\n"
     ]
    },
    {
     "name": "stderr",
     "output_type": "stream",
     "text": [
      "\n"
     ]
    },
    {
     "name": "stdout",
     "output_type": "stream",
     "text": [
      "\n",
      "      Epoch    GPU_mem   box_loss   cls_loss   dfl_loss  Instances       Size\n"
     ]
    },
    {
     "name": "stderr",
     "output_type": "stream",
     "text": [
      "     16/200     0.606G      1.525      1.497      1.462          1        640: 100%|██████████| 695/695 [01:16<00:00,  9.11it/s]\n",
      "                 Class     Images  Instances      Box(P          R      mAP50  mAP50-95): 100%|██████████| 96/96 [00:05<00:00, 16.34it/s]"
     ]
    },
    {
     "name": "stdout",
     "output_type": "stream",
     "text": [
      "                   all        191        227      0.609      0.836      0.662      0.246\n"
     ]
    },
    {
     "name": "stderr",
     "output_type": "stream",
     "text": [
      "\n"
     ]
    },
    {
     "name": "stdout",
     "output_type": "stream",
     "text": [
      "\n",
      "      Epoch    GPU_mem   box_loss   cls_loss   dfl_loss  Instances       Size\n"
     ]
    },
    {
     "name": "stderr",
     "output_type": "stream",
     "text": [
      "     17/200     0.606G      1.519      1.503      1.472          1        640: 100%|██████████| 695/695 [01:15<00:00,  9.24it/s]\n",
      "                 Class     Images  Instances      Box(P          R      mAP50  mAP50-95): 100%|██████████| 96/96 [00:05<00:00, 16.41it/s]\n"
     ]
    },
    {
     "name": "stdout",
     "output_type": "stream",
     "text": [
      "                   all        191        227       0.44        0.7      0.505      0.179\n",
      "\n",
      "      Epoch    GPU_mem   box_loss   cls_loss   dfl_loss  Instances       Size\n"
     ]
    },
    {
     "name": "stderr",
     "output_type": "stream",
     "text": [
      "     18/200     0.608G      1.488      1.387      1.417          2        640: 100%|██████████| 695/695 [01:15<00:00,  9.18it/s]\n",
      "                 Class     Images  Instances      Box(P          R      mAP50  mAP50-95): 100%|██████████| 96/96 [00:05<00:00, 17.15it/s]"
     ]
    },
    {
     "name": "stdout",
     "output_type": "stream",
     "text": [
      "                   all        191        227      0.586      0.657      0.573      0.192\n"
     ]
    },
    {
     "name": "stderr",
     "output_type": "stream",
     "text": [
      "\n"
     ]
    },
    {
     "name": "stdout",
     "output_type": "stream",
     "text": [
      "\n",
      "      Epoch    GPU_mem   box_loss   cls_loss   dfl_loss  Instances       Size\n"
     ]
    },
    {
     "name": "stderr",
     "output_type": "stream",
     "text": [
      "     19/200     0.606G       1.48      1.378      1.418          2        640: 100%|██████████| 695/695 [01:15<00:00,  9.22it/s]\n",
      "                 Class     Images  Instances      Box(P          R      mAP50  mAP50-95): 100%|██████████| 96/96 [00:05<00:00, 16.85it/s]"
     ]
    },
    {
     "name": "stdout",
     "output_type": "stream",
     "text": [
      "                   all        191        227      0.682      0.676      0.692      0.265\n"
     ]
    },
    {
     "name": "stderr",
     "output_type": "stream",
     "text": [
      "\n"
     ]
    },
    {
     "name": "stdout",
     "output_type": "stream",
     "text": [
      "\n",
      "      Epoch    GPU_mem   box_loss   cls_loss   dfl_loss  Instances       Size\n"
     ]
    },
    {
     "name": "stderr",
     "output_type": "stream",
     "text": [
      "     20/200     0.606G      1.521      1.451      1.468          2        640: 100%|██████████| 695/695 [01:15<00:00,  9.18it/s]\n",
      "                 Class     Images  Instances      Box(P          R      mAP50  mAP50-95): 100%|██████████| 96/96 [00:05<00:00, 16.27it/s]"
     ]
    },
    {
     "name": "stdout",
     "output_type": "stream",
     "text": [
      "                   all        191        227      0.497       0.73      0.481      0.153\n"
     ]
    },
    {
     "name": "stderr",
     "output_type": "stream",
     "text": [
      "\n"
     ]
    },
    {
     "name": "stdout",
     "output_type": "stream",
     "text": [
      "\n",
      "      Epoch    GPU_mem   box_loss   cls_loss   dfl_loss  Instances       Size\n"
     ]
    },
    {
     "name": "stderr",
     "output_type": "stream",
     "text": [
      "     21/200     0.606G      1.478      1.368      1.433          2        640: 100%|██████████| 695/695 [01:15<00:00,  9.24it/s]\n",
      "                 Class     Images  Instances      Box(P          R      mAP50  mAP50-95): 100%|██████████| 96/96 [00:05<00:00, 16.47it/s]"
     ]
    },
    {
     "name": "stdout",
     "output_type": "stream",
     "text": [
      "                   all        191        227      0.509      0.737      0.565      0.198\n"
     ]
    },
    {
     "name": "stderr",
     "output_type": "stream",
     "text": [
      "\n"
     ]
    },
    {
     "name": "stdout",
     "output_type": "stream",
     "text": [
      "\n",
      "      Epoch    GPU_mem   box_loss   cls_loss   dfl_loss  Instances       Size\n"
     ]
    },
    {
     "name": "stderr",
     "output_type": "stream",
     "text": [
      "     22/200     0.608G      1.492      1.365      1.441          6        640: 100%|██████████| 695/695 [01:16<00:00,  9.12it/s]\n",
      "                 Class     Images  Instances      Box(P          R      mAP50  mAP50-95): 100%|██████████| 96/96 [00:05<00:00, 16.11it/s]"
     ]
    },
    {
     "name": "stdout",
     "output_type": "stream",
     "text": [
      "                   all        191        227      0.422      0.668      0.486       0.18\n"
     ]
    },
    {
     "name": "stderr",
     "output_type": "stream",
     "text": [
      "\n"
     ]
    },
    {
     "name": "stdout",
     "output_type": "stream",
     "text": [
      "\n",
      "      Epoch    GPU_mem   box_loss   cls_loss   dfl_loss  Instances       Size\n"
     ]
    },
    {
     "name": "stderr",
     "output_type": "stream",
     "text": [
      "     23/200     0.608G      1.445      1.331      1.438          1        640: 100%|██████████| 695/695 [01:15<00:00,  9.18it/s]\n",
      "                 Class     Images  Instances      Box(P          R      mAP50  mAP50-95): 100%|██████████| 96/96 [00:05<00:00, 17.00it/s]"
     ]
    },
    {
     "name": "stdout",
     "output_type": "stream",
     "text": [
      "                   all        191        227      0.582      0.817      0.641      0.203\n"
     ]
    },
    {
     "name": "stderr",
     "output_type": "stream",
     "text": [
      "\n"
     ]
    },
    {
     "name": "stdout",
     "output_type": "stream",
     "text": [
      "\n",
      "      Epoch    GPU_mem   box_loss   cls_loss   dfl_loss  Instances       Size\n"
     ]
    },
    {
     "name": "stderr",
     "output_type": "stream",
     "text": [
      "     24/200     0.608G      1.443      1.301      1.408          2        640: 100%|██████████| 695/695 [01:15<00:00,  9.20it/s]\n",
      "                 Class     Images  Instances      Box(P          R      mAP50  mAP50-95): 100%|██████████| 96/96 [00:05<00:00, 17.07it/s]"
     ]
    },
    {
     "name": "stdout",
     "output_type": "stream",
     "text": [
      "                   all        191        227      0.677      0.784      0.664      0.233\n"
     ]
    },
    {
     "name": "stderr",
     "output_type": "stream",
     "text": [
      "\n"
     ]
    },
    {
     "name": "stdout",
     "output_type": "stream",
     "text": [
      "\n",
      "      Epoch    GPU_mem   box_loss   cls_loss   dfl_loss  Instances       Size\n"
     ]
    },
    {
     "name": "stderr",
     "output_type": "stream",
     "text": [
      "     25/200     0.606G      1.461      1.289      1.426          4        640: 100%|██████████| 695/695 [01:15<00:00,  9.21it/s]\n",
      "                 Class     Images  Instances      Box(P          R      mAP50  mAP50-95): 100%|██████████| 96/96 [00:05<00:00, 17.12it/s]"
     ]
    },
    {
     "name": "stdout",
     "output_type": "stream",
     "text": [
      "                   all        191        227      0.689      0.811      0.682      0.212\n"
     ]
    },
    {
     "name": "stderr",
     "output_type": "stream",
     "text": [
      "\n"
     ]
    },
    {
     "name": "stdout",
     "output_type": "stream",
     "text": [
      "\n",
      "      Epoch    GPU_mem   box_loss   cls_loss   dfl_loss  Instances       Size\n"
     ]
    },
    {
     "name": "stderr",
     "output_type": "stream",
     "text": [
      "     26/200     0.608G      1.427      1.292      1.413          1        640: 100%|██████████| 695/695 [01:15<00:00,  9.15it/s]\n",
      "                 Class     Images  Instances      Box(P          R      mAP50  mAP50-95): 100%|██████████| 96/96 [00:05<00:00, 16.55it/s]"
     ]
    },
    {
     "name": "stdout",
     "output_type": "stream",
     "text": [
      "                   all        191        227      0.712      0.695      0.687      0.219\n"
     ]
    },
    {
     "name": "stderr",
     "output_type": "stream",
     "text": [
      "\n"
     ]
    },
    {
     "name": "stdout",
     "output_type": "stream",
     "text": [
      "\n",
      "      Epoch    GPU_mem   box_loss   cls_loss   dfl_loss  Instances       Size\n"
     ]
    },
    {
     "name": "stderr",
     "output_type": "stream",
     "text": [
      "     27/200     0.606G      1.475      1.237      1.446          7        640: 100%|██████████| 695/695 [01:04<00:00, 10.78it/s]\n",
      "                 Class     Images  Instances      Box(P          R      mAP50  mAP50-95): 100%|██████████| 96/96 [00:02<00:00, 33.78it/s]"
     ]
    },
    {
     "name": "stdout",
     "output_type": "stream",
     "text": [
      "                   all        191        227        0.7       0.77      0.717      0.246\n"
     ]
    },
    {
     "name": "stderr",
     "output_type": "stream",
     "text": [
      "\n"
     ]
    },
    {
     "name": "stdout",
     "output_type": "stream",
     "text": [
      "\n",
      "      Epoch    GPU_mem   box_loss   cls_loss   dfl_loss  Instances       Size\n"
     ]
    },
    {
     "name": "stderr",
     "output_type": "stream",
     "text": [
      "     28/200     0.606G      1.504      1.287      1.458          2        640: 100%|██████████| 695/695 [00:38<00:00, 17.90it/s]\n",
      "                 Class     Images  Instances      Box(P          R      mAP50  mAP50-95): 100%|██████████| 96/96 [00:02<00:00, 33.91it/s]"
     ]
    },
    {
     "name": "stdout",
     "output_type": "stream",
     "text": [
      "                   all        191        227      0.592      0.721      0.642      0.256\n"
     ]
    },
    {
     "name": "stderr",
     "output_type": "stream",
     "text": [
      "\n"
     ]
    },
    {
     "name": "stdout",
     "output_type": "stream",
     "text": [
      "\n",
      "      Epoch    GPU_mem   box_loss   cls_loss   dfl_loss  Instances       Size\n"
     ]
    },
    {
     "name": "stderr",
     "output_type": "stream",
     "text": [
      "     29/200     0.606G      1.449      1.217      1.412          3        640: 100%|██████████| 695/695 [00:37<00:00, 18.74it/s]\n",
      "                 Class     Images  Instances      Box(P          R      mAP50  mAP50-95): 100%|██████████| 96/96 [00:02<00:00, 33.50it/s]"
     ]
    },
    {
     "name": "stdout",
     "output_type": "stream",
     "text": [
      "                   all        191        227      0.772      0.814       0.78      0.237\n"
     ]
    },
    {
     "name": "stderr",
     "output_type": "stream",
     "text": [
      "\n"
     ]
    },
    {
     "name": "stdout",
     "output_type": "stream",
     "text": [
      "\n",
      "      Epoch    GPU_mem   box_loss   cls_loss   dfl_loss  Instances       Size\n"
     ]
    },
    {
     "name": "stderr",
     "output_type": "stream",
     "text": [
      "     30/200     0.606G      1.447      1.276      1.404          3        640: 100%|██████████| 695/695 [01:04<00:00, 10.72it/s]\n",
      "                 Class     Images  Instances      Box(P          R      mAP50  mAP50-95): 100%|██████████| 96/96 [00:05<00:00, 18.99it/s]"
     ]
    },
    {
     "name": "stdout",
     "output_type": "stream",
     "text": [
      "                   all        191        227      0.605      0.852      0.649      0.234\n"
     ]
    },
    {
     "name": "stderr",
     "output_type": "stream",
     "text": [
      "\n"
     ]
    },
    {
     "name": "stdout",
     "output_type": "stream",
     "text": [
      "\n",
      "      Epoch    GPU_mem   box_loss   cls_loss   dfl_loss  Instances       Size\n"
     ]
    },
    {
     "name": "stderr",
     "output_type": "stream",
     "text": [
      "     31/200     0.606G      1.402      1.201      1.371          2        640: 100%|██████████| 695/695 [00:40<00:00, 17.23it/s]\n",
      "                 Class     Images  Instances      Box(P          R      mAP50  mAP50-95): 100%|██████████| 96/96 [00:02<00:00, 34.69it/s]"
     ]
    },
    {
     "name": "stdout",
     "output_type": "stream",
     "text": [
      "                   all        191        227      0.676      0.766      0.659      0.238\n"
     ]
    },
    {
     "name": "stderr",
     "output_type": "stream",
     "text": [
      "\n"
     ]
    },
    {
     "name": "stdout",
     "output_type": "stream",
     "text": [
      "\n",
      "      Epoch    GPU_mem   box_loss   cls_loss   dfl_loss  Instances       Size\n"
     ]
    },
    {
     "name": "stderr",
     "output_type": "stream",
     "text": [
      "     32/200     0.606G      1.432      1.215      1.378          2        640: 100%|██████████| 695/695 [00:50<00:00, 13.75it/s]\n",
      "                 Class     Images  Instances      Box(P          R      mAP50  mAP50-95): 100%|██████████| 96/96 [00:05<00:00, 17.70it/s]"
     ]
    },
    {
     "name": "stdout",
     "output_type": "stream",
     "text": [
      "                   all        191        227      0.686      0.709      0.696      0.279\n"
     ]
    },
    {
     "name": "stderr",
     "output_type": "stream",
     "text": [
      "\n"
     ]
    },
    {
     "name": "stdout",
     "output_type": "stream",
     "text": [
      "\n",
      "      Epoch    GPU_mem   box_loss   cls_loss   dfl_loss  Instances       Size\n"
     ]
    },
    {
     "name": "stderr",
     "output_type": "stream",
     "text": [
      "     33/200     0.606G       1.38      1.187      1.361          5        640: 100%|██████████| 695/695 [01:07<00:00, 10.32it/s]\n",
      "                 Class     Images  Instances      Box(P          R      mAP50  mAP50-95): 100%|██████████| 96/96 [00:05<00:00, 18.93it/s]"
     ]
    },
    {
     "name": "stdout",
     "output_type": "stream",
     "text": [
      "                   all        191        227      0.754      0.796      0.788      0.276\n"
     ]
    },
    {
     "name": "stderr",
     "output_type": "stream",
     "text": [
      "\n"
     ]
    },
    {
     "name": "stdout",
     "output_type": "stream",
     "text": [
      "\n",
      "      Epoch    GPU_mem   box_loss   cls_loss   dfl_loss  Instances       Size\n"
     ]
    },
    {
     "name": "stderr",
     "output_type": "stream",
     "text": [
      "     34/200     0.606G      1.432      1.215      1.425          1        640: 100%|██████████| 695/695 [00:59<00:00, 11.68it/s]\n",
      "                 Class     Images  Instances      Box(P          R      mAP50  mAP50-95): 100%|██████████| 96/96 [00:05<00:00, 18.97it/s]"
     ]
    },
    {
     "name": "stdout",
     "output_type": "stream",
     "text": [
      "                   all        191        227      0.764      0.605      0.735      0.257\n"
     ]
    },
    {
     "name": "stderr",
     "output_type": "stream",
     "text": [
      "\n"
     ]
    },
    {
     "name": "stdout",
     "output_type": "stream",
     "text": [
      "\n",
      "      Epoch    GPU_mem   box_loss   cls_loss   dfl_loss  Instances       Size\n"
     ]
    },
    {
     "name": "stderr",
     "output_type": "stream",
     "text": [
      "     35/200     0.606G      1.399      1.198      1.368          2        640: 100%|██████████| 695/695 [01:04<00:00, 10.84it/s]\n",
      "                 Class     Images  Instances      Box(P          R      mAP50  mAP50-95): 100%|██████████| 96/96 [00:04<00:00, 20.74it/s]"
     ]
    },
    {
     "name": "stdout",
     "output_type": "stream",
     "text": [
      "                   all        191        227      0.632      0.835      0.674      0.232\n"
     ]
    },
    {
     "name": "stderr",
     "output_type": "stream",
     "text": [
      "\n"
     ]
    },
    {
     "name": "stdout",
     "output_type": "stream",
     "text": [
      "\n",
      "      Epoch    GPU_mem   box_loss   cls_loss   dfl_loss  Instances       Size\n"
     ]
    },
    {
     "name": "stderr",
     "output_type": "stream",
     "text": [
      "     36/200     0.608G      1.399       1.19      1.366          5        640: 100%|██████████| 695/695 [01:04<00:00, 10.78it/s]\n",
      "                 Class     Images  Instances      Box(P          R      mAP50  mAP50-95): 100%|██████████| 96/96 [00:05<00:00, 19.15it/s]"
     ]
    },
    {
     "name": "stdout",
     "output_type": "stream",
     "text": [
      "                   all        191        227      0.541      0.601      0.535        0.2\n"
     ]
    },
    {
     "name": "stderr",
     "output_type": "stream",
     "text": [
      "\n"
     ]
    },
    {
     "name": "stdout",
     "output_type": "stream",
     "text": [
      "\n",
      "      Epoch    GPU_mem   box_loss   cls_loss   dfl_loss  Instances       Size\n"
     ]
    },
    {
     "name": "stderr",
     "output_type": "stream",
     "text": [
      "     37/200     0.606G       1.44      1.203      1.413          2        640: 100%|██████████| 695/695 [01:08<00:00, 10.09it/s]\n",
      "                 Class     Images  Instances      Box(P          R      mAP50  mAP50-95): 100%|██████████| 96/96 [00:06<00:00, 15.86it/s]"
     ]
    },
    {
     "name": "stdout",
     "output_type": "stream",
     "text": [
      "                   all        191        227      0.632       0.69      0.627      0.202\n"
     ]
    },
    {
     "name": "stderr",
     "output_type": "stream",
     "text": [
      "\n"
     ]
    },
    {
     "name": "stdout",
     "output_type": "stream",
     "text": [
      "\n",
      "      Epoch    GPU_mem   box_loss   cls_loss   dfl_loss  Instances       Size\n"
     ]
    },
    {
     "name": "stderr",
     "output_type": "stream",
     "text": [
      "     38/200     0.608G       1.38      1.116      1.347          0        640: 100%|██████████| 695/695 [01:16<00:00,  9.08it/s]\n",
      "                 Class     Images  Instances      Box(P          R      mAP50  mAP50-95): 100%|██████████| 96/96 [00:05<00:00, 16.28it/s]"
     ]
    },
    {
     "name": "stdout",
     "output_type": "stream",
     "text": [
      "                   all        191        227      0.621      0.662      0.615       0.17\n"
     ]
    },
    {
     "name": "stderr",
     "output_type": "stream",
     "text": [
      "\n"
     ]
    },
    {
     "name": "stdout",
     "output_type": "stream",
     "text": [
      "\n",
      "      Epoch    GPU_mem   box_loss   cls_loss   dfl_loss  Instances       Size\n"
     ]
    },
    {
     "name": "stderr",
     "output_type": "stream",
     "text": [
      "     39/200     0.606G       1.38      1.138      1.333          0        640: 100%|██████████| 695/695 [00:58<00:00, 11.95it/s]\n",
      "                 Class     Images  Instances      Box(P          R      mAP50  mAP50-95): 100%|██████████| 96/96 [00:05<00:00, 17.63it/s]"
     ]
    },
    {
     "name": "stdout",
     "output_type": "stream",
     "text": [
      "                   all        191        227      0.628      0.776      0.683      0.231\n"
     ]
    },
    {
     "name": "stderr",
     "output_type": "stream",
     "text": [
      "\n"
     ]
    },
    {
     "name": "stdout",
     "output_type": "stream",
     "text": [
      "\n",
      "      Epoch    GPU_mem   box_loss   cls_loss   dfl_loss  Instances       Size\n"
     ]
    },
    {
     "name": "stderr",
     "output_type": "stream",
     "text": [
      "     40/200     0.606G       1.41      1.228      1.377          0        640: 100%|██████████| 695/695 [00:52<00:00, 13.31it/s]\n",
      "                 Class     Images  Instances      Box(P          R      mAP50  mAP50-95): 100%|██████████| 96/96 [00:05<00:00, 16.99it/s]"
     ]
    },
    {
     "name": "stdout",
     "output_type": "stream",
     "text": [
      "                   all        191        227      0.713      0.664      0.657      0.194\n"
     ]
    },
    {
     "name": "stderr",
     "output_type": "stream",
     "text": [
      "\n"
     ]
    },
    {
     "name": "stdout",
     "output_type": "stream",
     "text": [
      "\n",
      "      Epoch    GPU_mem   box_loss   cls_loss   dfl_loss  Instances       Size\n"
     ]
    },
    {
     "name": "stderr",
     "output_type": "stream",
     "text": [
      "     41/200     0.606G      1.404      1.136      1.366          3        640: 100%|██████████| 695/695 [01:09<00:00,  9.96it/s]\n",
      "                 Class     Images  Instances      Box(P          R      mAP50  mAP50-95): 100%|██████████| 96/96 [00:05<00:00, 17.52it/s]"
     ]
    },
    {
     "name": "stdout",
     "output_type": "stream",
     "text": [
      "                   all        191        227      0.492      0.592      0.508      0.179\n"
     ]
    },
    {
     "name": "stderr",
     "output_type": "stream",
     "text": [
      "\n"
     ]
    },
    {
     "name": "stdout",
     "output_type": "stream",
     "text": [
      "\n",
      "      Epoch    GPU_mem   box_loss   cls_loss   dfl_loss  Instances       Size\n"
     ]
    },
    {
     "name": "stderr",
     "output_type": "stream",
     "text": [
      "     42/200     0.606G      1.388      1.123       1.36          6        640: 100%|██████████| 695/695 [01:11<00:00,  9.69it/s]\n",
      "                 Class     Images  Instances      Box(P          R      mAP50  mAP50-95): 100%|██████████| 96/96 [00:05<00:00, 18.23it/s]"
     ]
    },
    {
     "name": "stdout",
     "output_type": "stream",
     "text": [
      "                   all        191        227      0.349      0.628      0.361      0.124\n"
     ]
    },
    {
     "name": "stderr",
     "output_type": "stream",
     "text": [
      "\n"
     ]
    },
    {
     "name": "stdout",
     "output_type": "stream",
     "text": [
      "\n",
      "      Epoch    GPU_mem   box_loss   cls_loss   dfl_loss  Instances       Size\n"
     ]
    },
    {
     "name": "stderr",
     "output_type": "stream",
     "text": [
      "     43/200     0.606G      1.379      1.169      1.364          3        640: 100%|██████████| 695/695 [01:08<00:00, 10.19it/s]\n",
      "                 Class     Images  Instances      Box(P          R      mAP50  mAP50-95): 100%|██████████| 96/96 [00:05<00:00, 19.01it/s]"
     ]
    },
    {
     "name": "stdout",
     "output_type": "stream",
     "text": [
      "                   all        191        227      0.403      0.711      0.428      0.154\n"
     ]
    },
    {
     "name": "stderr",
     "output_type": "stream",
     "text": [
      "\n"
     ]
    },
    {
     "name": "stdout",
     "output_type": "stream",
     "text": [
      "\n",
      "      Epoch    GPU_mem   box_loss   cls_loss   dfl_loss  Instances       Size\n"
     ]
    },
    {
     "name": "stderr",
     "output_type": "stream",
     "text": [
      "     44/200     0.606G      1.357      1.096      1.359          3        640: 100%|██████████| 695/695 [01:09<00:00, 10.03it/s]\n",
      "                 Class     Images  Instances      Box(P          R      mAP50  mAP50-95): 100%|██████████| 96/96 [00:05<00:00, 17.39it/s]"
     ]
    },
    {
     "name": "stdout",
     "output_type": "stream",
     "text": [
      "                   all        191        227      0.602      0.667      0.614      0.185\n"
     ]
    },
    {
     "name": "stderr",
     "output_type": "stream",
     "text": [
      "\n"
     ]
    },
    {
     "name": "stdout",
     "output_type": "stream",
     "text": [
      "\n",
      "      Epoch    GPU_mem   box_loss   cls_loss   dfl_loss  Instances       Size\n"
     ]
    },
    {
     "name": "stderr",
     "output_type": "stream",
     "text": [
      "     45/200     0.606G      1.336      1.121      1.325          3        640: 100%|██████████| 695/695 [01:06<00:00, 10.40it/s]\n",
      "                 Class     Images  Instances      Box(P          R      mAP50  mAP50-95): 100%|██████████| 96/96 [00:04<00:00, 19.70it/s]"
     ]
    },
    {
     "name": "stdout",
     "output_type": "stream",
     "text": [
      "                   all        191        227      0.735      0.728      0.724      0.252\n"
     ]
    },
    {
     "name": "stderr",
     "output_type": "stream",
     "text": [
      "\n"
     ]
    },
    {
     "name": "stdout",
     "output_type": "stream",
     "text": [
      "\n",
      "      Epoch    GPU_mem   box_loss   cls_loss   dfl_loss  Instances       Size\n"
     ]
    },
    {
     "name": "stderr",
     "output_type": "stream",
     "text": [
      "     46/200     0.608G      1.358        1.1      1.342          2        640: 100%|██████████| 695/695 [01:04<00:00, 10.73it/s]\n",
      "                 Class     Images  Instances      Box(P          R      mAP50  mAP50-95): 100%|██████████| 96/96 [00:04<00:00, 21.12it/s]"
     ]
    },
    {
     "name": "stdout",
     "output_type": "stream",
     "text": [
      "                   all        191        227      0.782      0.703      0.718      0.241\n"
     ]
    },
    {
     "name": "stderr",
     "output_type": "stream",
     "text": [
      "\n"
     ]
    },
    {
     "name": "stdout",
     "output_type": "stream",
     "text": [
      "\n",
      "      Epoch    GPU_mem   box_loss   cls_loss   dfl_loss  Instances       Size\n"
     ]
    },
    {
     "name": "stderr",
     "output_type": "stream",
     "text": [
      "     47/200     0.608G      1.351      1.097      1.325          0        640: 100%|██████████| 695/695 [01:04<00:00, 10.80it/s]\n",
      "                 Class     Images  Instances      Box(P          R      mAP50  mAP50-95): 100%|██████████| 96/96 [00:05<00:00, 18.78it/s]"
     ]
    },
    {
     "name": "stdout",
     "output_type": "stream",
     "text": [
      "                   all        191        227      0.767      0.749      0.765      0.269\n"
     ]
    },
    {
     "name": "stderr",
     "output_type": "stream",
     "text": [
      "\n"
     ]
    },
    {
     "name": "stdout",
     "output_type": "stream",
     "text": [
      "\n",
      "      Epoch    GPU_mem   box_loss   cls_loss   dfl_loss  Instances       Size\n"
     ]
    },
    {
     "name": "stderr",
     "output_type": "stream",
     "text": [
      "     48/200     0.606G      1.361      1.127      1.331          3        640: 100%|██████████| 695/695 [01:04<00:00, 10.74it/s]\n",
      "                 Class     Images  Instances      Box(P          R      mAP50  mAP50-95): 100%|██████████| 96/96 [00:04<00:00, 19.80it/s]"
     ]
    },
    {
     "name": "stdout",
     "output_type": "stream",
     "text": [
      "                   all        191        227      0.642      0.746      0.649      0.207\n"
     ]
    },
    {
     "name": "stderr",
     "output_type": "stream",
     "text": [
      "\n"
     ]
    },
    {
     "name": "stdout",
     "output_type": "stream",
     "text": [
      "\n",
      "      Epoch    GPU_mem   box_loss   cls_loss   dfl_loss  Instances       Size\n"
     ]
    },
    {
     "name": "stderr",
     "output_type": "stream",
     "text": [
      "     49/200     0.606G      1.368      1.122      1.321          2        640: 100%|██████████| 695/695 [01:05<00:00, 10.58it/s]\n",
      "                 Class     Images  Instances      Box(P          R      mAP50  mAP50-95): 100%|██████████| 96/96 [00:05<00:00, 18.94it/s]"
     ]
    },
    {
     "name": "stdout",
     "output_type": "stream",
     "text": [
      "                   all        191        227      0.613      0.683       0.64      0.203\n"
     ]
    },
    {
     "name": "stderr",
     "output_type": "stream",
     "text": [
      "\n"
     ]
    },
    {
     "name": "stdout",
     "output_type": "stream",
     "text": [
      "\n",
      "      Epoch    GPU_mem   box_loss   cls_loss   dfl_loss  Instances       Size\n"
     ]
    },
    {
     "name": "stderr",
     "output_type": "stream",
     "text": [
      "     50/200     0.606G      1.362      1.054      1.324          1        640: 100%|██████████| 695/695 [01:04<00:00, 10.81it/s]\n",
      "                 Class     Images  Instances      Box(P          R      mAP50  mAP50-95): 100%|██████████| 96/96 [00:05<00:00, 18.67it/s]"
     ]
    },
    {
     "name": "stdout",
     "output_type": "stream",
     "text": [
      "                   all        191        227      0.662      0.619      0.601      0.247\n"
     ]
    },
    {
     "name": "stderr",
     "output_type": "stream",
     "text": [
      "\n"
     ]
    },
    {
     "name": "stdout",
     "output_type": "stream",
     "text": [
      "\n",
      "      Epoch    GPU_mem   box_loss   cls_loss   dfl_loss  Instances       Size\n"
     ]
    },
    {
     "name": "stderr",
     "output_type": "stream",
     "text": [
      "     51/200     0.608G      1.376      1.089       1.35          4        640: 100%|██████████| 695/695 [01:05<00:00, 10.63it/s]\n",
      "                 Class     Images  Instances      Box(P          R      mAP50  mAP50-95): 100%|██████████| 96/96 [00:05<00:00, 19.07it/s]"
     ]
    },
    {
     "name": "stdout",
     "output_type": "stream",
     "text": [
      "                   all        191        227      0.712       0.68      0.753      0.229\n"
     ]
    },
    {
     "name": "stderr",
     "output_type": "stream",
     "text": [
      "\n"
     ]
    },
    {
     "name": "stdout",
     "output_type": "stream",
     "text": [
      "\n",
      "      Epoch    GPU_mem   box_loss   cls_loss   dfl_loss  Instances       Size\n"
     ]
    },
    {
     "name": "stderr",
     "output_type": "stream",
     "text": [
      "     52/200     0.606G      1.371      1.096      1.353          3        640: 100%|██████████| 695/695 [01:04<00:00, 10.83it/s]\n",
      "                 Class     Images  Instances      Box(P          R      mAP50  mAP50-95): 100%|██████████| 96/96 [00:05<00:00, 18.80it/s]"
     ]
    },
    {
     "name": "stdout",
     "output_type": "stream",
     "text": [
      "                   all        191        227      0.849      0.671      0.812      0.279\n"
     ]
    },
    {
     "name": "stderr",
     "output_type": "stream",
     "text": [
      "\n"
     ]
    },
    {
     "name": "stdout",
     "output_type": "stream",
     "text": [
      "\n",
      "      Epoch    GPU_mem   box_loss   cls_loss   dfl_loss  Instances       Size\n"
     ]
    },
    {
     "name": "stderr",
     "output_type": "stream",
     "text": [
      "     53/200     0.606G      1.342      1.079      1.327          1        640: 100%|██████████| 695/695 [01:04<00:00, 10.73it/s]\n",
      "                 Class     Images  Instances      Box(P          R      mAP50  mAP50-95): 100%|██████████| 96/96 [00:05<00:00, 18.85it/s]"
     ]
    },
    {
     "name": "stdout",
     "output_type": "stream",
     "text": [
      "                   all        191        227      0.583      0.695       0.63      0.194\n"
     ]
    },
    {
     "name": "stderr",
     "output_type": "stream",
     "text": [
      "\n"
     ]
    },
    {
     "name": "stdout",
     "output_type": "stream",
     "text": [
      "\n",
      "      Epoch    GPU_mem   box_loss   cls_loss   dfl_loss  Instances       Size\n"
     ]
    },
    {
     "name": "stderr",
     "output_type": "stream",
     "text": [
      "     54/200     0.606G      1.335      1.043      1.305          2        640: 100%|██████████| 695/695 [01:04<00:00, 10.81it/s]\n",
      "                 Class     Images  Instances      Box(P          R      mAP50  mAP50-95): 100%|██████████| 96/96 [00:05<00:00, 18.81it/s]"
     ]
    },
    {
     "name": "stdout",
     "output_type": "stream",
     "text": [
      "                   all        191        227       0.72      0.747      0.727      0.263\n"
     ]
    },
    {
     "name": "stderr",
     "output_type": "stream",
     "text": [
      "\n"
     ]
    },
    {
     "name": "stdout",
     "output_type": "stream",
     "text": [
      "\n",
      "      Epoch    GPU_mem   box_loss   cls_loss   dfl_loss  Instances       Size\n"
     ]
    },
    {
     "name": "stderr",
     "output_type": "stream",
     "text": [
      "     55/200     0.606G      1.331      1.064      1.318          3        640: 100%|██████████| 695/695 [01:05<00:00, 10.59it/s]\n",
      "                 Class     Images  Instances      Box(P          R      mAP50  mAP50-95): 100%|██████████| 96/96 [00:05<00:00, 18.66it/s]"
     ]
    },
    {
     "name": "stdout",
     "output_type": "stream",
     "text": [
      "                   all        191        227      0.788       0.73      0.713      0.272\n"
     ]
    },
    {
     "name": "stderr",
     "output_type": "stream",
     "text": [
      "\n"
     ]
    },
    {
     "name": "stdout",
     "output_type": "stream",
     "text": [
      "\n",
      "      Epoch    GPU_mem   box_loss   cls_loss   dfl_loss  Instances       Size\n"
     ]
    },
    {
     "name": "stderr",
     "output_type": "stream",
     "text": [
      "     56/200     0.606G      1.324      1.028      1.301          3        640: 100%|██████████| 695/695 [01:05<00:00, 10.66it/s]\n",
      "                 Class     Images  Instances      Box(P          R      mAP50  mAP50-95): 100%|██████████| 96/96 [00:05<00:00, 19.08it/s]"
     ]
    },
    {
     "name": "stdout",
     "output_type": "stream",
     "text": [
      "                   all        191        227      0.795      0.717      0.719      0.248\n"
     ]
    },
    {
     "name": "stderr",
     "output_type": "stream",
     "text": [
      "\n"
     ]
    },
    {
     "name": "stdout",
     "output_type": "stream",
     "text": [
      "\n",
      "      Epoch    GPU_mem   box_loss   cls_loss   dfl_loss  Instances       Size\n"
     ]
    },
    {
     "name": "stderr",
     "output_type": "stream",
     "text": [
      "     57/200     0.606G      1.323      1.015      1.287          2        640: 100%|██████████| 695/695 [01:02<00:00, 11.12it/s]\n",
      "                 Class     Images  Instances      Box(P          R      mAP50  mAP50-95): 100%|██████████| 96/96 [00:03<00:00, 31.70it/s]"
     ]
    },
    {
     "name": "stdout",
     "output_type": "stream",
     "text": [
      "                   all        191        227      0.689      0.703       0.68      0.237\n"
     ]
    },
    {
     "name": "stderr",
     "output_type": "stream",
     "text": [
      "\n"
     ]
    },
    {
     "name": "stdout",
     "output_type": "stream",
     "text": [
      "\n",
      "      Epoch    GPU_mem   box_loss   cls_loss   dfl_loss  Instances       Size\n"
     ]
    },
    {
     "name": "stderr",
     "output_type": "stream",
     "text": [
      "     58/200     0.606G      1.371      1.042      1.346          4        640: 100%|██████████| 695/695 [01:15<00:00,  9.22it/s]\n",
      "                 Class     Images  Instances      Box(P          R      mAP50  mAP50-95): 100%|██████████| 96/96 [00:05<00:00, 16.23it/s]"
     ]
    },
    {
     "name": "stdout",
     "output_type": "stream",
     "text": [
      "                   all        191        227      0.661      0.656      0.634      0.175\n"
     ]
    },
    {
     "name": "stderr",
     "output_type": "stream",
     "text": [
      "\n"
     ]
    },
    {
     "name": "stdout",
     "output_type": "stream",
     "text": [
      "\n",
      "      Epoch    GPU_mem   box_loss   cls_loss   dfl_loss  Instances       Size\n"
     ]
    },
    {
     "name": "stderr",
     "output_type": "stream",
     "text": [
      "     59/200     0.606G       1.33      1.033      1.297          1        640: 100%|██████████| 695/695 [01:18<00:00,  8.87it/s]\n",
      "                 Class     Images  Instances      Box(P          R      mAP50  mAP50-95): 100%|██████████| 96/96 [00:05<00:00, 16.46it/s]"
     ]
    },
    {
     "name": "stdout",
     "output_type": "stream",
     "text": [
      "                   all        191        227      0.639      0.823      0.686      0.244\n"
     ]
    },
    {
     "name": "stderr",
     "output_type": "stream",
     "text": [
      "\n"
     ]
    },
    {
     "name": "stdout",
     "output_type": "stream",
     "text": [
      "\n",
      "      Epoch    GPU_mem   box_loss   cls_loss   dfl_loss  Instances       Size\n"
     ]
    },
    {
     "name": "stderr",
     "output_type": "stream",
     "text": [
      "     60/200     0.606G      1.347      1.034      1.339          3        640: 100%|██████████| 695/695 [01:18<00:00,  8.83it/s]\n",
      "                 Class     Images  Instances      Box(P          R      mAP50  mAP50-95): 100%|██████████| 96/96 [00:05<00:00, 16.45it/s]\n"
     ]
    },
    {
     "name": "stdout",
     "output_type": "stream",
     "text": [
      "                   all        191        227      0.689        0.7        0.7      0.217\n",
      "\n",
      "      Epoch    GPU_mem   box_loss   cls_loss   dfl_loss  Instances       Size\n"
     ]
    },
    {
     "name": "stderr",
     "output_type": "stream",
     "text": [
      "     61/200     0.608G      1.271     0.9546      1.286          5        640: 100%|██████████| 695/695 [01:17<00:00,  8.97it/s]\n",
      "                 Class     Images  Instances      Box(P          R      mAP50  mAP50-95): 100%|██████████| 96/96 [00:05<00:00, 16.53it/s]"
     ]
    },
    {
     "name": "stdout",
     "output_type": "stream",
     "text": [
      "                   all        191        227      0.695      0.648      0.673       0.23\n"
     ]
    },
    {
     "name": "stderr",
     "output_type": "stream",
     "text": [
      "\n"
     ]
    },
    {
     "name": "stdout",
     "output_type": "stream",
     "text": [
      "\n",
      "      Epoch    GPU_mem   box_loss   cls_loss   dfl_loss  Instances       Size\n"
     ]
    },
    {
     "name": "stderr",
     "output_type": "stream",
     "text": [
      "     62/200     0.606G      1.344      1.074       1.33          2        640: 100%|██████████| 695/695 [01:17<00:00,  9.00it/s]\n",
      "                 Class     Images  Instances      Box(P          R      mAP50  mAP50-95): 100%|██████████| 96/96 [00:05<00:00, 16.16it/s]"
     ]
    },
    {
     "name": "stdout",
     "output_type": "stream",
     "text": [
      "                   all        191        227      0.909       0.83      0.849      0.326\n"
     ]
    },
    {
     "name": "stderr",
     "output_type": "stream",
     "text": [
      "\n"
     ]
    },
    {
     "name": "stdout",
     "output_type": "stream",
     "text": [
      "\n",
      "      Epoch    GPU_mem   box_loss   cls_loss   dfl_loss  Instances       Size\n"
     ]
    },
    {
     "name": "stderr",
     "output_type": "stream",
     "text": [
      "     63/200     0.606G      1.314     0.9809      1.291          2        640: 100%|██████████| 695/695 [01:17<00:00,  8.98it/s]\n",
      "                 Class     Images  Instances      Box(P          R      mAP50  mAP50-95): 100%|██████████| 96/96 [00:05<00:00, 16.37it/s]"
     ]
    },
    {
     "name": "stdout",
     "output_type": "stream",
     "text": [
      "                   all        191        227      0.697       0.63      0.663      0.224\n"
     ]
    },
    {
     "name": "stderr",
     "output_type": "stream",
     "text": [
      "\n"
     ]
    },
    {
     "name": "stdout",
     "output_type": "stream",
     "text": [
      "\n",
      "      Epoch    GPU_mem   box_loss   cls_loss   dfl_loss  Instances       Size\n"
     ]
    },
    {
     "name": "stderr",
     "output_type": "stream",
     "text": [
      "     64/200     0.606G      1.313      0.986      1.286          1        640: 100%|██████████| 695/695 [01:18<00:00,  8.89it/s]\n",
      "                 Class     Images  Instances      Box(P          R      mAP50  mAP50-95): 100%|██████████| 96/96 [00:05<00:00, 16.32it/s]"
     ]
    },
    {
     "name": "stdout",
     "output_type": "stream",
     "text": [
      "                   all        191        227      0.785      0.748      0.728      0.226\n"
     ]
    },
    {
     "name": "stderr",
     "output_type": "stream",
     "text": [
      "\n"
     ]
    },
    {
     "name": "stdout",
     "output_type": "stream",
     "text": [
      "\n",
      "      Epoch    GPU_mem   box_loss   cls_loss   dfl_loss  Instances       Size\n"
     ]
    },
    {
     "name": "stderr",
     "output_type": "stream",
     "text": [
      "     65/200     0.608G      1.331      1.023      1.312          5        640: 100%|██████████| 695/695 [01:18<00:00,  8.89it/s]\n",
      "                 Class     Images  Instances      Box(P          R      mAP50  mAP50-95): 100%|██████████| 96/96 [00:05<00:00, 16.49it/s]"
     ]
    },
    {
     "name": "stdout",
     "output_type": "stream",
     "text": [
      "                   all        191        227      0.775      0.667      0.727       0.22\n"
     ]
    },
    {
     "name": "stderr",
     "output_type": "stream",
     "text": [
      "\n"
     ]
    },
    {
     "name": "stdout",
     "output_type": "stream",
     "text": [
      "\n",
      "      Epoch    GPU_mem   box_loss   cls_loss   dfl_loss  Instances       Size\n"
     ]
    },
    {
     "name": "stderr",
     "output_type": "stream",
     "text": [
      "     66/200     0.606G      1.333      1.019      1.325          3        640: 100%|██████████| 695/695 [01:18<00:00,  8.90it/s]\n",
      "                 Class     Images  Instances      Box(P          R      mAP50  mAP50-95): 100%|██████████| 96/96 [00:05<00:00, 16.18it/s]"
     ]
    },
    {
     "name": "stdout",
     "output_type": "stream",
     "text": [
      "                   all        191        227      0.685      0.814      0.657      0.227\n"
     ]
    },
    {
     "name": "stderr",
     "output_type": "stream",
     "text": [
      "\n"
     ]
    },
    {
     "name": "stdout",
     "output_type": "stream",
     "text": [
      "\n",
      "      Epoch    GPU_mem   box_loss   cls_loss   dfl_loss  Instances       Size\n"
     ]
    },
    {
     "name": "stderr",
     "output_type": "stream",
     "text": [
      "     67/200     0.606G      1.313     0.9967      1.291          6        640: 100%|██████████| 695/695 [01:18<00:00,  8.87it/s]\n",
      "                 Class     Images  Instances      Box(P          R      mAP50  mAP50-95): 100%|██████████| 96/96 [00:05<00:00, 16.28it/s]"
     ]
    },
    {
     "name": "stdout",
     "output_type": "stream",
     "text": [
      "                   all        191        227      0.695      0.722      0.659      0.212\n"
     ]
    },
    {
     "name": "stderr",
     "output_type": "stream",
     "text": [
      "\n"
     ]
    },
    {
     "name": "stdout",
     "output_type": "stream",
     "text": [
      "\n",
      "      Epoch    GPU_mem   box_loss   cls_loss   dfl_loss  Instances       Size\n"
     ]
    },
    {
     "name": "stderr",
     "output_type": "stream",
     "text": [
      "     68/200     0.606G       1.33      1.015      1.314          0        640: 100%|██████████| 695/695 [01:18<00:00,  8.90it/s]\n",
      "                 Class     Images  Instances      Box(P          R      mAP50  mAP50-95): 100%|██████████| 96/96 [00:06<00:00, 15.62it/s]\n"
     ]
    },
    {
     "name": "stdout",
     "output_type": "stream",
     "text": [
      "                   all        191        227      0.519      0.585      0.517      0.176\n",
      "\n",
      "      Epoch    GPU_mem   box_loss   cls_loss   dfl_loss  Instances       Size\n"
     ]
    },
    {
     "name": "stderr",
     "output_type": "stream",
     "text": [
      "     69/200     0.606G      1.305     0.9987      1.299          3        640: 100%|██████████| 695/695 [01:17<00:00,  8.93it/s]\n",
      "                 Class     Images  Instances      Box(P          R      mAP50  mAP50-95): 100%|██████████| 96/96 [00:05<00:00, 16.38it/s]"
     ]
    },
    {
     "name": "stdout",
     "output_type": "stream",
     "text": [
      "                   all        191        227      0.643      0.668      0.555      0.193\n"
     ]
    },
    {
     "name": "stderr",
     "output_type": "stream",
     "text": [
      "\n"
     ]
    },
    {
     "name": "stdout",
     "output_type": "stream",
     "text": [
      "\n",
      "      Epoch    GPU_mem   box_loss   cls_loss   dfl_loss  Instances       Size\n"
     ]
    },
    {
     "name": "stderr",
     "output_type": "stream",
     "text": [
      "     70/200     0.606G      1.311     0.9454      1.271          7        640: 100%|██████████| 695/695 [01:17<00:00,  8.94it/s]\n",
      "                 Class     Images  Instances      Box(P          R      mAP50  mAP50-95): 100%|██████████| 96/96 [00:05<00:00, 16.49it/s]"
     ]
    },
    {
     "name": "stdout",
     "output_type": "stream",
     "text": [
      "                   all        191        227      0.805       0.75      0.757      0.209\n"
     ]
    },
    {
     "name": "stderr",
     "output_type": "stream",
     "text": [
      "\n"
     ]
    },
    {
     "name": "stdout",
     "output_type": "stream",
     "text": [
      "\n",
      "      Epoch    GPU_mem   box_loss   cls_loss   dfl_loss  Instances       Size\n"
     ]
    },
    {
     "name": "stderr",
     "output_type": "stream",
     "text": [
      "     71/200     0.606G      1.341      1.008      1.309          4        640: 100%|██████████| 695/695 [01:18<00:00,  8.88it/s]\n",
      "                 Class     Images  Instances      Box(P          R      mAP50  mAP50-95): 100%|██████████| 96/96 [00:05<00:00, 16.32it/s]"
     ]
    },
    {
     "name": "stdout",
     "output_type": "stream",
     "text": [
      "                   all        191        227      0.749      0.812      0.762      0.252\n"
     ]
    },
    {
     "name": "stderr",
     "output_type": "stream",
     "text": [
      "\n"
     ]
    },
    {
     "name": "stdout",
     "output_type": "stream",
     "text": [
      "\n",
      "      Epoch    GPU_mem   box_loss   cls_loss   dfl_loss  Instances       Size\n"
     ]
    },
    {
     "name": "stderr",
     "output_type": "stream",
     "text": [
      "     72/200     0.606G       1.27      0.986       1.28          4        640: 100%|██████████| 695/695 [01:17<00:00,  8.94it/s]\n",
      "                 Class     Images  Instances      Box(P          R      mAP50  mAP50-95): 100%|██████████| 96/96 [00:05<00:00, 16.65it/s]"
     ]
    },
    {
     "name": "stdout",
     "output_type": "stream",
     "text": [
      "                   all        191        227      0.584      0.817      0.666      0.233\n"
     ]
    },
    {
     "name": "stderr",
     "output_type": "stream",
     "text": [
      "\n"
     ]
    },
    {
     "name": "stdout",
     "output_type": "stream",
     "text": [
      "\n",
      "      Epoch    GPU_mem   box_loss   cls_loss   dfl_loss  Instances       Size\n"
     ]
    },
    {
     "name": "stderr",
     "output_type": "stream",
     "text": [
      "     73/200     0.606G      1.267     0.9442       1.27          3        640: 100%|██████████| 695/695 [01:17<00:00,  8.95it/s]\n",
      "                 Class     Images  Instances      Box(P          R      mAP50  mAP50-95): 100%|██████████| 96/96 [00:05<00:00, 16.79it/s]"
     ]
    },
    {
     "name": "stdout",
     "output_type": "stream",
     "text": [
      "                   all        191        227      0.674      0.682      0.638      0.207\n"
     ]
    },
    {
     "name": "stderr",
     "output_type": "stream",
     "text": [
      "\n"
     ]
    },
    {
     "name": "stdout",
     "output_type": "stream",
     "text": [
      "\n",
      "      Epoch    GPU_mem   box_loss   cls_loss   dfl_loss  Instances       Size\n"
     ]
    },
    {
     "name": "stderr",
     "output_type": "stream",
     "text": [
      "     74/200     0.606G      1.262     0.9127      1.249          0        640: 100%|██████████| 695/695 [01:17<00:00,  8.96it/s]\n",
      "                 Class     Images  Instances      Box(P          R      mAP50  mAP50-95): 100%|██████████| 96/96 [00:05<00:00, 16.67it/s]"
     ]
    },
    {
     "name": "stdout",
     "output_type": "stream",
     "text": [
      "                   all        191        227      0.683      0.716       0.65      0.231\n"
     ]
    },
    {
     "name": "stderr",
     "output_type": "stream",
     "text": [
      "\n"
     ]
    },
    {
     "name": "stdout",
     "output_type": "stream",
     "text": [
      "\n",
      "      Epoch    GPU_mem   box_loss   cls_loss   dfl_loss  Instances       Size\n"
     ]
    },
    {
     "name": "stderr",
     "output_type": "stream",
     "text": [
      "     75/200     0.606G      1.352     0.9882      1.313          5        640: 100%|██████████| 695/695 [01:17<00:00,  8.94it/s]\n",
      "                 Class     Images  Instances      Box(P          R      mAP50  mAP50-95): 100%|██████████| 96/96 [00:05<00:00, 16.73it/s]"
     ]
    },
    {
     "name": "stdout",
     "output_type": "stream",
     "text": [
      "                   all        191        227      0.674      0.716      0.654      0.206\n"
     ]
    },
    {
     "name": "stderr",
     "output_type": "stream",
     "text": [
      "\n"
     ]
    },
    {
     "name": "stdout",
     "output_type": "stream",
     "text": [
      "\n",
      "      Epoch    GPU_mem   box_loss   cls_loss   dfl_loss  Instances       Size\n"
     ]
    },
    {
     "name": "stderr",
     "output_type": "stream",
     "text": [
      "     76/200     0.608G      1.294     0.9747      1.287          2        640: 100%|██████████| 695/695 [01:14<00:00,  9.27it/s]\n",
      "                 Class     Images  Instances      Box(P          R      mAP50  mAP50-95): 100%|██████████| 96/96 [00:05<00:00, 16.92it/s]"
     ]
    },
    {
     "name": "stdout",
     "output_type": "stream",
     "text": [
      "                   all        191        227      0.727       0.71      0.683      0.196\n"
     ]
    },
    {
     "name": "stderr",
     "output_type": "stream",
     "text": [
      "\n"
     ]
    },
    {
     "name": "stdout",
     "output_type": "stream",
     "text": [
      "\n",
      "      Epoch    GPU_mem   box_loss   cls_loss   dfl_loss  Instances       Size\n"
     ]
    },
    {
     "name": "stderr",
     "output_type": "stream",
     "text": [
      "     77/200     0.606G      1.306     0.9396      1.282          9        640: 100%|██████████| 695/695 [01:15<00:00,  9.24it/s]\n",
      "                 Class     Images  Instances      Box(P          R      mAP50  mAP50-95): 100%|██████████| 96/96 [00:05<00:00, 17.16it/s]"
     ]
    },
    {
     "name": "stdout",
     "output_type": "stream",
     "text": [
      "                   all        191        227      0.833      0.815       0.86      0.287\n"
     ]
    },
    {
     "name": "stderr",
     "output_type": "stream",
     "text": [
      "\n"
     ]
    },
    {
     "name": "stdout",
     "output_type": "stream",
     "text": [
      "\n",
      "      Epoch    GPU_mem   box_loss   cls_loss   dfl_loss  Instances       Size\n"
     ]
    },
    {
     "name": "stderr",
     "output_type": "stream",
     "text": [
      "     78/200     0.606G      1.291     0.9465      1.291          6        640: 100%|██████████| 695/695 [01:16<00:00,  9.12it/s]\n",
      "                 Class     Images  Instances      Box(P          R      mAP50  mAP50-95): 100%|██████████| 96/96 [00:05<00:00, 16.70it/s]"
     ]
    },
    {
     "name": "stdout",
     "output_type": "stream",
     "text": [
      "                   all        191        227      0.677       0.67      0.643      0.223\n"
     ]
    },
    {
     "name": "stderr",
     "output_type": "stream",
     "text": [
      "\n"
     ]
    },
    {
     "name": "stdout",
     "output_type": "stream",
     "text": [
      "\n",
      "      Epoch    GPU_mem   box_loss   cls_loss   dfl_loss  Instances       Size\n"
     ]
    },
    {
     "name": "stderr",
     "output_type": "stream",
     "text": [
      "     79/200     0.606G      1.298     0.9603      1.296          1        640: 100%|██████████| 695/695 [01:15<00:00,  9.18it/s]\n",
      "                 Class     Images  Instances      Box(P          R      mAP50  mAP50-95): 100%|██████████| 96/96 [00:05<00:00, 17.11it/s]"
     ]
    },
    {
     "name": "stdout",
     "output_type": "stream",
     "text": [
      "                   all        191        227      0.711        0.7      0.672      0.218\n"
     ]
    },
    {
     "name": "stderr",
     "output_type": "stream",
     "text": [
      "\n"
     ]
    },
    {
     "name": "stdout",
     "output_type": "stream",
     "text": [
      "\n",
      "      Epoch    GPU_mem   box_loss   cls_loss   dfl_loss  Instances       Size\n"
     ]
    },
    {
     "name": "stderr",
     "output_type": "stream",
     "text": [
      "     80/200     0.606G      1.252     0.9377      1.254          4        640: 100%|██████████| 695/695 [01:16<00:00,  9.08it/s]\n",
      "                 Class     Images  Instances      Box(P          R      mAP50  mAP50-95): 100%|██████████| 96/96 [00:05<00:00, 16.94it/s]"
     ]
    },
    {
     "name": "stdout",
     "output_type": "stream",
     "text": [
      "                   all        191        227      0.702      0.739       0.67      0.191\n"
     ]
    },
    {
     "name": "stderr",
     "output_type": "stream",
     "text": [
      "\n"
     ]
    },
    {
     "name": "stdout",
     "output_type": "stream",
     "text": [
      "\n",
      "      Epoch    GPU_mem   box_loss   cls_loss   dfl_loss  Instances       Size\n"
     ]
    },
    {
     "name": "stderr",
     "output_type": "stream",
     "text": [
      "     81/200     0.606G      1.287     0.9128      1.284          0        640: 100%|██████████| 695/695 [01:15<00:00,  9.16it/s]\n",
      "                 Class     Images  Instances      Box(P          R      mAP50  mAP50-95): 100%|██████████| 96/96 [00:05<00:00, 16.64it/s]"
     ]
    },
    {
     "name": "stdout",
     "output_type": "stream",
     "text": [
      "                   all        191        227      0.682      0.656       0.65      0.203\n"
     ]
    },
    {
     "name": "stderr",
     "output_type": "stream",
     "text": [
      "\n"
     ]
    },
    {
     "name": "stdout",
     "output_type": "stream",
     "text": [
      "\n",
      "      Epoch    GPU_mem   box_loss   cls_loss   dfl_loss  Instances       Size\n"
     ]
    },
    {
     "name": "stderr",
     "output_type": "stream",
     "text": [
      "     82/200     0.606G       1.25     0.9121      1.254          4        640: 100%|██████████| 695/695 [01:16<00:00,  9.07it/s]\n",
      "                 Class     Images  Instances      Box(P          R      mAP50  mAP50-95): 100%|██████████| 96/96 [00:06<00:00, 15.97it/s]"
     ]
    },
    {
     "name": "stdout",
     "output_type": "stream",
     "text": [
      "                   all        191        227      0.681      0.741      0.679      0.231\n"
     ]
    },
    {
     "name": "stderr",
     "output_type": "stream",
     "text": [
      "\n"
     ]
    },
    {
     "name": "stdout",
     "output_type": "stream",
     "text": [
      "\n",
      "      Epoch    GPU_mem   box_loss   cls_loss   dfl_loss  Instances       Size\n"
     ]
    },
    {
     "name": "stderr",
     "output_type": "stream",
     "text": [
      "     83/200     0.608G      1.284     0.9475       1.28          5        640: 100%|██████████| 695/695 [01:16<00:00,  9.07it/s]\n",
      "                 Class     Images  Instances      Box(P          R      mAP50  mAP50-95): 100%|██████████| 96/96 [00:05<00:00, 16.22it/s]"
     ]
    },
    {
     "name": "stdout",
     "output_type": "stream",
     "text": [
      "                   all        191        227      0.548      0.707       0.63      0.198\n"
     ]
    },
    {
     "name": "stderr",
     "output_type": "stream",
     "text": [
      "\n"
     ]
    },
    {
     "name": "stdout",
     "output_type": "stream",
     "text": [
      "\n",
      "      Epoch    GPU_mem   box_loss   cls_loss   dfl_loss  Instances       Size\n"
     ]
    },
    {
     "name": "stderr",
     "output_type": "stream",
     "text": [
      "     84/200     0.606G      1.256     0.8746      1.253          3        640: 100%|██████████| 695/695 [01:15<00:00,  9.17it/s]\n",
      "                 Class     Images  Instances      Box(P          R      mAP50  mAP50-95): 100%|██████████| 96/96 [00:05<00:00, 17.07it/s]"
     ]
    },
    {
     "name": "stdout",
     "output_type": "stream",
     "text": [
      "                   all        191        227      0.559      0.672      0.606      0.191\n"
     ]
    },
    {
     "name": "stderr",
     "output_type": "stream",
     "text": [
      "\n"
     ]
    },
    {
     "name": "stdout",
     "output_type": "stream",
     "text": [
      "\n",
      "      Epoch    GPU_mem   box_loss   cls_loss   dfl_loss  Instances       Size\n"
     ]
    },
    {
     "name": "stderr",
     "output_type": "stream",
     "text": [
      "     85/200     0.608G      1.231     0.9138      1.241          1        640: 100%|██████████| 695/695 [00:57<00:00, 12.02it/s]\n",
      "                 Class     Images  Instances      Box(P          R      mAP50  mAP50-95): 100%|██████████| 96/96 [00:05<00:00, 17.32it/s]"
     ]
    },
    {
     "name": "stdout",
     "output_type": "stream",
     "text": [
      "                   all        191        227      0.672      0.703      0.645      0.184\n"
     ]
    },
    {
     "name": "stderr",
     "output_type": "stream",
     "text": [
      "\n"
     ]
    },
    {
     "name": "stdout",
     "output_type": "stream",
     "text": [
      "\n",
      "      Epoch    GPU_mem   box_loss   cls_loss   dfl_loss  Instances       Size\n"
     ]
    },
    {
     "name": "stderr",
     "output_type": "stream",
     "text": [
      "     86/200     0.606G      1.234     0.8974      1.256          3        640: 100%|██████████| 695/695 [01:15<00:00,  9.16it/s]\n",
      "                 Class     Images  Instances      Box(P          R      mAP50  mAP50-95): 100%|██████████| 96/96 [00:05<00:00, 17.32it/s]"
     ]
    },
    {
     "name": "stdout",
     "output_type": "stream",
     "text": [
      "                   all        191        227      0.677      0.699      0.658      0.181\n"
     ]
    },
    {
     "name": "stderr",
     "output_type": "stream",
     "text": [
      "\n"
     ]
    },
    {
     "name": "stdout",
     "output_type": "stream",
     "text": [
      "\n",
      "      Epoch    GPU_mem   box_loss   cls_loss   dfl_loss  Instances       Size\n"
     ]
    },
    {
     "name": "stderr",
     "output_type": "stream",
     "text": [
      "     87/200     0.606G      1.276     0.9282       1.27          5        640: 100%|██████████| 695/695 [01:15<00:00,  9.24it/s]\n",
      "                 Class     Images  Instances      Box(P          R      mAP50  mAP50-95): 100%|██████████| 96/96 [00:05<00:00, 17.08it/s]"
     ]
    },
    {
     "name": "stdout",
     "output_type": "stream",
     "text": [
      "                   all        191        227      0.636       0.83      0.711      0.239\n"
     ]
    },
    {
     "name": "stderr",
     "output_type": "stream",
     "text": [
      "\n"
     ]
    },
    {
     "name": "stdout",
     "output_type": "stream",
     "text": [
      "\n",
      "      Epoch    GPU_mem   box_loss   cls_loss   dfl_loss  Instances       Size\n"
     ]
    },
    {
     "name": "stderr",
     "output_type": "stream",
     "text": [
      "     88/200     0.606G      1.257     0.9407       1.25          1        640: 100%|██████████| 695/695 [01:15<00:00,  9.19it/s]\n",
      "                 Class     Images  Instances      Box(P          R      mAP50  mAP50-95): 100%|██████████| 96/96 [00:05<00:00, 16.94it/s]"
     ]
    },
    {
     "name": "stdout",
     "output_type": "stream",
     "text": [
      "                   all        191        227      0.686      0.769      0.725      0.268\n"
     ]
    },
    {
     "name": "stderr",
     "output_type": "stream",
     "text": [
      "\n"
     ]
    },
    {
     "name": "stdout",
     "output_type": "stream",
     "text": [
      "\n",
      "      Epoch    GPU_mem   box_loss   cls_loss   dfl_loss  Instances       Size\n"
     ]
    },
    {
     "name": "stderr",
     "output_type": "stream",
     "text": [
      "     89/200     0.606G       1.26     0.8985       1.26          1        640: 100%|██████████| 695/695 [01:16<00:00,  9.09it/s]\n",
      "                 Class     Images  Instances      Box(P          R      mAP50  mAP50-95): 100%|██████████| 96/96 [00:05<00:00, 16.19it/s]"
     ]
    },
    {
     "name": "stdout",
     "output_type": "stream",
     "text": [
      "                   all        191        227      0.692      0.725      0.618      0.212\n"
     ]
    },
    {
     "name": "stderr",
     "output_type": "stream",
     "text": [
      "\n"
     ]
    },
    {
     "name": "stdout",
     "output_type": "stream",
     "text": [
      "\n",
      "      Epoch    GPU_mem   box_loss   cls_loss   dfl_loss  Instances       Size\n"
     ]
    },
    {
     "name": "stderr",
     "output_type": "stream",
     "text": [
      "     90/200     0.606G      1.279     0.9469      1.279          4        640: 100%|██████████| 695/695 [01:16<00:00,  9.09it/s]\n",
      "                 Class     Images  Instances      Box(P          R      mAP50  mAP50-95): 100%|██████████| 96/96 [00:05<00:00, 16.64it/s]"
     ]
    },
    {
     "name": "stdout",
     "output_type": "stream",
     "text": [
      "                   all        191        227       0.66      0.641      0.597      0.177\n"
     ]
    },
    {
     "name": "stderr",
     "output_type": "stream",
     "text": [
      "\n"
     ]
    },
    {
     "name": "stdout",
     "output_type": "stream",
     "text": [
      "\n",
      "      Epoch    GPU_mem   box_loss   cls_loss   dfl_loss  Instances       Size\n"
     ]
    },
    {
     "name": "stderr",
     "output_type": "stream",
     "text": [
      "     91/200     0.606G       1.28     0.9987      1.281          4        640: 100%|██████████| 695/695 [00:39<00:00, 17.39it/s]\n",
      "                 Class     Images  Instances      Box(P          R      mAP50  mAP50-95): 100%|██████████| 96/96 [00:02<00:00, 34.82it/s]"
     ]
    },
    {
     "name": "stdout",
     "output_type": "stream",
     "text": [
      "                   all        191        227      0.617      0.676      0.629      0.189\n"
     ]
    },
    {
     "name": "stderr",
     "output_type": "stream",
     "text": [
      "\n"
     ]
    },
    {
     "name": "stdout",
     "output_type": "stream",
     "text": [
      "\n",
      "      Epoch    GPU_mem   box_loss   cls_loss   dfl_loss  Instances       Size\n"
     ]
    },
    {
     "name": "stderr",
     "output_type": "stream",
     "text": [
      "     92/200     0.606G      1.274     0.9183      1.276          3        640: 100%|██████████| 695/695 [00:39<00:00, 17.78it/s]\n",
      "                 Class     Images  Instances      Box(P          R      mAP50  mAP50-95): 100%|██████████| 96/96 [00:02<00:00, 33.84it/s]"
     ]
    },
    {
     "name": "stdout",
     "output_type": "stream",
     "text": [
      "                   all        191        227       0.62      0.632      0.655      0.188\n"
     ]
    },
    {
     "name": "stderr",
     "output_type": "stream",
     "text": [
      "\n"
     ]
    },
    {
     "name": "stdout",
     "output_type": "stream",
     "text": [
      "\n",
      "      Epoch    GPU_mem   box_loss   cls_loss   dfl_loss  Instances       Size\n"
     ]
    },
    {
     "name": "stderr",
     "output_type": "stream",
     "text": [
      "     93/200     0.606G      1.293     0.9486      1.284          2        640: 100%|██████████| 695/695 [01:07<00:00, 10.31it/s]\n",
      "                 Class     Images  Instances      Box(P          R      mAP50  mAP50-95): 100%|██████████| 96/96 [00:05<00:00, 16.97it/s]"
     ]
    },
    {
     "name": "stdout",
     "output_type": "stream",
     "text": [
      "                   all        191        227      0.835      0.795       0.86      0.269\n"
     ]
    },
    {
     "name": "stderr",
     "output_type": "stream",
     "text": [
      "\n"
     ]
    },
    {
     "name": "stdout",
     "output_type": "stream",
     "text": [
      "\n",
      "      Epoch    GPU_mem   box_loss   cls_loss   dfl_loss  Instances       Size\n"
     ]
    },
    {
     "name": "stderr",
     "output_type": "stream",
     "text": [
      "     94/200     0.606G      1.296     0.9476      1.298          5        640: 100%|██████████| 695/695 [01:15<00:00,  9.20it/s]\n",
      "                 Class     Images  Instances      Box(P          R      mAP50  mAP50-95): 100%|██████████| 96/96 [00:05<00:00, 16.50it/s]"
     ]
    },
    {
     "name": "stdout",
     "output_type": "stream",
     "text": [
      "                   all        191        227      0.733      0.798      0.724      0.208\n"
     ]
    },
    {
     "name": "stderr",
     "output_type": "stream",
     "text": [
      "\n"
     ]
    },
    {
     "name": "stdout",
     "output_type": "stream",
     "text": [
      "\n",
      "      Epoch    GPU_mem   box_loss   cls_loss   dfl_loss  Instances       Size\n"
     ]
    },
    {
     "name": "stderr",
     "output_type": "stream",
     "text": [
      "     95/200     0.606G      1.224      0.887      1.236          0        640: 100%|██████████| 695/695 [01:16<00:00,  9.06it/s]\n",
      "                 Class     Images  Instances      Box(P          R      mAP50  mAP50-95): 100%|██████████| 96/96 [00:06<00:00, 14.97it/s]"
     ]
    },
    {
     "name": "stdout",
     "output_type": "stream",
     "text": [
      "                   all        191        227      0.657      0.701      0.698      0.205\n"
     ]
    },
    {
     "name": "stderr",
     "output_type": "stream",
     "text": [
      "\n"
     ]
    },
    {
     "name": "stdout",
     "output_type": "stream",
     "text": [
      "\n",
      "      Epoch    GPU_mem   box_loss   cls_loss   dfl_loss  Instances       Size\n"
     ]
    },
    {
     "name": "stderr",
     "output_type": "stream",
     "text": [
      "     96/200     0.606G      1.242     0.8786      1.237          3        640: 100%|██████████| 695/695 [01:17<00:00,  8.97it/s]\n",
      "                 Class     Images  Instances      Box(P          R      mAP50  mAP50-95): 100%|██████████| 96/96 [00:06<00:00, 15.97it/s]"
     ]
    },
    {
     "name": "stdout",
     "output_type": "stream",
     "text": [
      "                   all        191        227      0.575      0.678      0.632      0.199\n"
     ]
    },
    {
     "name": "stderr",
     "output_type": "stream",
     "text": [
      "\n"
     ]
    },
    {
     "name": "stdout",
     "output_type": "stream",
     "text": [
      "\n",
      "      Epoch    GPU_mem   box_loss   cls_loss   dfl_loss  Instances       Size\n"
     ]
    },
    {
     "name": "stderr",
     "output_type": "stream",
     "text": [
      "     97/200     0.606G      1.224     0.8863      1.237          1        640: 100%|██████████| 695/695 [01:15<00:00,  9.17it/s]\n",
      "                 Class     Images  Instances      Box(P          R      mAP50  mAP50-95): 100%|██████████| 96/96 [00:05<00:00, 16.52it/s]"
     ]
    },
    {
     "name": "stdout",
     "output_type": "stream",
     "text": [
      "                   all        191        227      0.688      0.735      0.651      0.207\n"
     ]
    },
    {
     "name": "stderr",
     "output_type": "stream",
     "text": [
      "\n"
     ]
    },
    {
     "name": "stdout",
     "output_type": "stream",
     "text": [
      "\n",
      "      Epoch    GPU_mem   box_loss   cls_loss   dfl_loss  Instances       Size\n"
     ]
    },
    {
     "name": "stderr",
     "output_type": "stream",
     "text": [
      "     98/200     0.606G      1.235     0.8803       1.24          1        640: 100%|██████████| 695/695 [01:16<00:00,  9.14it/s]\n",
      "                 Class     Images  Instances      Box(P          R      mAP50  mAP50-95): 100%|██████████| 96/96 [00:05<00:00, 17.09it/s]"
     ]
    },
    {
     "name": "stdout",
     "output_type": "stream",
     "text": [
      "                   all        191        227      0.713      0.754      0.711      0.197\n"
     ]
    },
    {
     "name": "stderr",
     "output_type": "stream",
     "text": [
      "\n"
     ]
    },
    {
     "name": "stdout",
     "output_type": "stream",
     "text": [
      "\n",
      "      Epoch    GPU_mem   box_loss   cls_loss   dfl_loss  Instances       Size\n"
     ]
    },
    {
     "name": "stderr",
     "output_type": "stream",
     "text": [
      "     99/200     0.606G      1.237      0.874      1.259          6        640: 100%|██████████| 695/695 [01:18<00:00,  8.83it/s]\n",
      "                 Class     Images  Instances      Box(P          R      mAP50  mAP50-95): 100%|██████████| 96/96 [00:05<00:00, 16.66it/s]"
     ]
    },
    {
     "name": "stdout",
     "output_type": "stream",
     "text": [
      "                   all        191        227      0.669      0.743      0.686      0.201\n"
     ]
    },
    {
     "name": "stderr",
     "output_type": "stream",
     "text": [
      "\n"
     ]
    },
    {
     "name": "stdout",
     "output_type": "stream",
     "text": [
      "\n",
      "      Epoch    GPU_mem   box_loss   cls_loss   dfl_loss  Instances       Size\n"
     ]
    },
    {
     "name": "stderr",
     "output_type": "stream",
     "text": [
      "    100/200     0.606G      1.245     0.9017      1.237          4        640: 100%|██████████| 695/695 [01:14<00:00,  9.35it/s]\n",
      "                 Class     Images  Instances      Box(P          R      mAP50  mAP50-95): 100%|██████████| 96/96 [00:05<00:00, 17.24it/s]"
     ]
    },
    {
     "name": "stdout",
     "output_type": "stream",
     "text": [
      "                   all        191        227      0.824       0.82      0.853      0.249\n"
     ]
    },
    {
     "name": "stderr",
     "output_type": "stream",
     "text": [
      "\n"
     ]
    },
    {
     "name": "stdout",
     "output_type": "stream",
     "text": [
      "\n",
      "      Epoch    GPU_mem   box_loss   cls_loss   dfl_loss  Instances       Size\n"
     ]
    },
    {
     "name": "stderr",
     "output_type": "stream",
     "text": [
      "    101/200     0.606G      1.233     0.9075       1.24          2        640: 100%|██████████| 695/695 [00:51<00:00, 13.62it/s]\n",
      "                 Class     Images  Instances      Box(P          R      mAP50  mAP50-95): 100%|██████████| 96/96 [00:02<00:00, 33.17it/s]"
     ]
    },
    {
     "name": "stdout",
     "output_type": "stream",
     "text": [
      "                   all        191        227      0.701      0.717      0.685      0.233\n"
     ]
    },
    {
     "name": "stderr",
     "output_type": "stream",
     "text": [
      "\n"
     ]
    },
    {
     "name": "stdout",
     "output_type": "stream",
     "text": [
      "\n",
      "      Epoch    GPU_mem   box_loss   cls_loss   dfl_loss  Instances       Size\n"
     ]
    },
    {
     "name": "stderr",
     "output_type": "stream",
     "text": [
      "    102/200     0.606G      1.254     0.8894      1.259          1        640: 100%|██████████| 695/695 [01:00<00:00, 11.58it/s]\n",
      "                 Class     Images  Instances      Box(P          R      mAP50  mAP50-95): 100%|██████████| 96/96 [00:05<00:00, 16.83it/s]"
     ]
    },
    {
     "name": "stdout",
     "output_type": "stream",
     "text": [
      "                   all        191        227      0.818      0.794      0.783       0.22\n"
     ]
    },
    {
     "name": "stderr",
     "output_type": "stream",
     "text": [
      "\n"
     ]
    },
    {
     "name": "stdout",
     "output_type": "stream",
     "text": [
      "\n",
      "      Epoch    GPU_mem   box_loss   cls_loss   dfl_loss  Instances       Size\n"
     ]
    },
    {
     "name": "stderr",
     "output_type": "stream",
     "text": [
      "    103/200     0.606G      1.258     0.9185      1.244          4        640: 100%|██████████| 695/695 [01:15<00:00,  9.18it/s]\n",
      "                 Class     Images  Instances      Box(P          R      mAP50  mAP50-95): 100%|██████████| 96/96 [00:06<00:00, 15.56it/s]"
     ]
    },
    {
     "name": "stdout",
     "output_type": "stream",
     "text": [
      "                   all        191        227      0.761      0.813      0.773       0.22\n"
     ]
    },
    {
     "name": "stderr",
     "output_type": "stream",
     "text": [
      "\n"
     ]
    },
    {
     "name": "stdout",
     "output_type": "stream",
     "text": [
      "\n",
      "      Epoch    GPU_mem   box_loss   cls_loss   dfl_loss  Instances       Size\n"
     ]
    },
    {
     "name": "stderr",
     "output_type": "stream",
     "text": [
      "    104/200     0.606G      1.231     0.8707      1.254          1        640: 100%|██████████| 695/695 [01:15<00:00,  9.15it/s]\n",
      "                 Class     Images  Instances      Box(P          R      mAP50  mAP50-95): 100%|██████████| 96/96 [00:05<00:00, 17.17it/s]"
     ]
    },
    {
     "name": "stdout",
     "output_type": "stream",
     "text": [
      "                   all        191        227      0.663       0.75      0.691      0.224\n"
     ]
    },
    {
     "name": "stderr",
     "output_type": "stream",
     "text": [
      "\n"
     ]
    },
    {
     "name": "stdout",
     "output_type": "stream",
     "text": [
      "\n",
      "      Epoch    GPU_mem   box_loss   cls_loss   dfl_loss  Instances       Size\n"
     ]
    },
    {
     "name": "stderr",
     "output_type": "stream",
     "text": [
      "    105/200     0.606G      1.232     0.8686      1.244          3        640: 100%|██████████| 695/695 [01:16<00:00,  9.06it/s]\n",
      "                 Class     Images  Instances      Box(P          R      mAP50  mAP50-95): 100%|██████████| 96/96 [00:05<00:00, 16.15it/s]"
     ]
    },
    {
     "name": "stdout",
     "output_type": "stream",
     "text": [
      "                   all        191        227      0.676      0.722       0.68       0.23\n"
     ]
    },
    {
     "name": "stderr",
     "output_type": "stream",
     "text": [
      "\n"
     ]
    },
    {
     "name": "stdout",
     "output_type": "stream",
     "text": [
      "\n",
      "      Epoch    GPU_mem   box_loss   cls_loss   dfl_loss  Instances       Size\n"
     ]
    },
    {
     "name": "stderr",
     "output_type": "stream",
     "text": [
      "    106/200     0.606G      1.233     0.8138      1.234          2        640: 100%|██████████| 695/695 [01:15<00:00,  9.15it/s]\n",
      "                 Class     Images  Instances      Box(P          R      mAP50  mAP50-95): 100%|██████████| 96/96 [00:05<00:00, 16.95it/s]"
     ]
    },
    {
     "name": "stdout",
     "output_type": "stream",
     "text": [
      "                   all        191        227      0.686       0.64      0.684      0.209\n"
     ]
    },
    {
     "name": "stderr",
     "output_type": "stream",
     "text": [
      "\n"
     ]
    },
    {
     "name": "stdout",
     "output_type": "stream",
     "text": [
      "\n",
      "      Epoch    GPU_mem   box_loss   cls_loss   dfl_loss  Instances       Size\n"
     ]
    },
    {
     "name": "stderr",
     "output_type": "stream",
     "text": [
      "    107/200     0.606G      1.245     0.8891      1.246          3        640: 100%|██████████| 695/695 [01:15<00:00,  9.22it/s]\n",
      "                 Class     Images  Instances      Box(P          R      mAP50  mAP50-95): 100%|██████████| 96/96 [00:05<00:00, 17.09it/s]\n"
     ]
    },
    {
     "name": "stdout",
     "output_type": "stream",
     "text": [
      "                   all        191        227      0.775      0.755       0.75      0.219\n",
      "\n",
      "      Epoch    GPU_mem   box_loss   cls_loss   dfl_loss  Instances       Size\n"
     ]
    },
    {
     "name": "stderr",
     "output_type": "stream",
     "text": [
      "    108/200     0.606G      1.303     0.9139      1.287          8        640: 100%|██████████| 695/695 [01:06<00:00, 10.42it/s]\n",
      "                 Class     Images  Instances      Box(P          R      mAP50  mAP50-95): 100%|██████████| 96/96 [00:05<00:00, 17.28it/s]"
     ]
    },
    {
     "name": "stdout",
     "output_type": "stream",
     "text": [
      "                   all        191        227       0.68      0.634      0.629      0.168\n"
     ]
    },
    {
     "name": "stderr",
     "output_type": "stream",
     "text": [
      "\n"
     ]
    },
    {
     "name": "stdout",
     "output_type": "stream",
     "text": [
      "\n",
      "      Epoch    GPU_mem   box_loss   cls_loss   dfl_loss  Instances       Size\n"
     ]
    },
    {
     "name": "stderr",
     "output_type": "stream",
     "text": [
      "    109/200     0.606G      1.206     0.8455      1.222          0        640: 100%|██████████| 695/695 [01:15<00:00,  9.24it/s]\n",
      "                 Class     Images  Instances      Box(P          R      mAP50  mAP50-95): 100%|██████████| 96/96 [00:05<00:00, 16.72it/s]"
     ]
    },
    {
     "name": "stdout",
     "output_type": "stream",
     "text": [
      "                   all        191        227      0.627      0.677      0.674      0.191\n"
     ]
    },
    {
     "name": "stderr",
     "output_type": "stream",
     "text": [
      "\n"
     ]
    },
    {
     "name": "stdout",
     "output_type": "stream",
     "text": [
      "\n",
      "      Epoch    GPU_mem   box_loss   cls_loss   dfl_loss  Instances       Size\n"
     ]
    },
    {
     "name": "stderr",
     "output_type": "stream",
     "text": [
      "    110/200     0.606G      1.254     0.8617      1.263          1        640: 100%|██████████| 695/695 [01:18<00:00,  8.91it/s]\n",
      "                 Class     Images  Instances      Box(P          R      mAP50  mAP50-95): 100%|██████████| 96/96 [00:06<00:00, 15.68it/s]"
     ]
    },
    {
     "name": "stdout",
     "output_type": "stream",
     "text": [
      "                   all        191        227      0.747      0.703      0.694      0.211\n"
     ]
    },
    {
     "name": "stderr",
     "output_type": "stream",
     "text": [
      "\n"
     ]
    },
    {
     "name": "stdout",
     "output_type": "stream",
     "text": [
      "\n",
      "      Epoch    GPU_mem   box_loss   cls_loss   dfl_loss  Instances       Size\n"
     ]
    },
    {
     "name": "stderr",
     "output_type": "stream",
     "text": [
      "    111/200     0.606G      1.198     0.8479      1.212          1        640: 100%|██████████| 695/695 [01:24<00:00,  8.19it/s]\n",
      "                 Class     Images  Instances      Box(P          R      mAP50  mAP50-95): 100%|██████████| 96/96 [00:05<00:00, 16.69it/s]"
     ]
    },
    {
     "name": "stdout",
     "output_type": "stream",
     "text": [
      "                   all        191        227      0.741      0.746      0.697       0.23\n"
     ]
    },
    {
     "name": "stderr",
     "output_type": "stream",
     "text": [
      "\n"
     ]
    },
    {
     "name": "stdout",
     "output_type": "stream",
     "text": [
      "\n",
      "      Epoch    GPU_mem   box_loss   cls_loss   dfl_loss  Instances       Size\n"
     ]
    },
    {
     "name": "stderr",
     "output_type": "stream",
     "text": [
      "    112/200     0.606G      1.206      0.846      1.224          4        640: 100%|██████████| 695/695 [01:17<00:00,  9.02it/s]\n",
      "                 Class     Images  Instances      Box(P          R      mAP50  mAP50-95): 100%|██████████| 96/96 [00:05<00:00, 16.54it/s]"
     ]
    },
    {
     "name": "stdout",
     "output_type": "stream",
     "text": [
      "                   all        191        227      0.748      0.682      0.724       0.22\n"
     ]
    },
    {
     "name": "stderr",
     "output_type": "stream",
     "text": [
      "\n"
     ]
    },
    {
     "name": "stdout",
     "output_type": "stream",
     "text": [
      "\n",
      "      Epoch    GPU_mem   box_loss   cls_loss   dfl_loss  Instances       Size\n"
     ]
    },
    {
     "name": "stderr",
     "output_type": "stream",
     "text": [
      "    113/200     0.606G      1.184     0.8335      1.199          4        640: 100%|██████████| 695/695 [01:17<00:00,  8.98it/s]\n",
      "                 Class     Images  Instances      Box(P          R      mAP50  mAP50-95): 100%|██████████| 96/96 [00:04<00:00, 19.99it/s]\n"
     ]
    },
    {
     "name": "stdout",
     "output_type": "stream",
     "text": [
      "                   all        191        227      0.822      0.784      0.785      0.248\n",
      "\n",
      "      Epoch    GPU_mem   box_loss   cls_loss   dfl_loss  Instances       Size\n"
     ]
    },
    {
     "name": "stderr",
     "output_type": "stream",
     "text": [
      "    114/200     0.606G      1.248     0.8762      1.265          2        640: 100%|██████████| 695/695 [01:07<00:00, 10.30it/s]\n",
      "                 Class     Images  Instances      Box(P          R      mAP50  mAP50-95): 100%|██████████| 96/96 [00:05<00:00, 16.77it/s]"
     ]
    },
    {
     "name": "stdout",
     "output_type": "stream",
     "text": [
      "                   all        191        227      0.648      0.665      0.634      0.188\n"
     ]
    },
    {
     "name": "stderr",
     "output_type": "stream",
     "text": [
      "\n"
     ]
    },
    {
     "name": "stdout",
     "output_type": "stream",
     "text": [
      "\n",
      "      Epoch    GPU_mem   box_loss   cls_loss   dfl_loss  Instances       Size\n"
     ]
    },
    {
     "name": "stderr",
     "output_type": "stream",
     "text": [
      "    115/200     0.608G      1.228     0.8543      1.238          3        640: 100%|██████████| 695/695 [00:40<00:00, 17.21it/s]\n",
      "                 Class     Images  Instances      Box(P          R      mAP50  mAP50-95): 100%|██████████| 96/96 [00:02<00:00, 33.11it/s]"
     ]
    },
    {
     "name": "stdout",
     "output_type": "stream",
     "text": [
      "                   all        191        227      0.824      0.858      0.837       0.27\n"
     ]
    },
    {
     "name": "stderr",
     "output_type": "stream",
     "text": [
      "\n"
     ]
    },
    {
     "name": "stdout",
     "output_type": "stream",
     "text": [
      "\n",
      "      Epoch    GPU_mem   box_loss   cls_loss   dfl_loss  Instances       Size\n"
     ]
    },
    {
     "name": "stderr",
     "output_type": "stream",
     "text": [
      "    116/200     0.606G      1.255     0.9175      1.277          4        640: 100%|██████████| 695/695 [00:38<00:00, 17.91it/s]\n",
      "                 Class     Images  Instances      Box(P          R      mAP50  mAP50-95): 100%|██████████| 96/96 [00:02<00:00, 33.10it/s]"
     ]
    },
    {
     "name": "stdout",
     "output_type": "stream",
     "text": [
      "                   all        191        227      0.694      0.635      0.607      0.206\n"
     ]
    },
    {
     "name": "stderr",
     "output_type": "stream",
     "text": [
      "\n"
     ]
    },
    {
     "name": "stdout",
     "output_type": "stream",
     "text": [
      "\n",
      "      Epoch    GPU_mem   box_loss   cls_loss   dfl_loss  Instances       Size\n"
     ]
    },
    {
     "name": "stderr",
     "output_type": "stream",
     "text": [
      "    117/200     0.608G      1.239     0.8771      1.252          2        640: 100%|██████████| 695/695 [00:39<00:00, 17.76it/s]\n",
      "                 Class     Images  Instances      Box(P          R      mAP50  mAP50-95): 100%|██████████| 96/96 [00:02<00:00, 33.29it/s]"
     ]
    },
    {
     "name": "stdout",
     "output_type": "stream",
     "text": [
      "                   all        191        227      0.732      0.723      0.711      0.227\n"
     ]
    },
    {
     "name": "stderr",
     "output_type": "stream",
     "text": [
      "\n"
     ]
    },
    {
     "name": "stdout",
     "output_type": "stream",
     "text": [
      "\n",
      "      Epoch    GPU_mem   box_loss   cls_loss   dfl_loss  Instances       Size\n"
     ]
    },
    {
     "name": "stderr",
     "output_type": "stream",
     "text": [
      "    118/200     0.606G      1.191      0.838      1.212          6        640: 100%|██████████| 695/695 [00:38<00:00, 18.00it/s]\n",
      "                 Class     Images  Instances      Box(P          R      mAP50  mAP50-95): 100%|██████████| 96/96 [00:02<00:00, 33.07it/s]"
     ]
    },
    {
     "name": "stdout",
     "output_type": "stream",
     "text": [
      "                   all        191        227      0.797      0.714      0.711      0.212\n"
     ]
    },
    {
     "name": "stderr",
     "output_type": "stream",
     "text": [
      "\n"
     ]
    },
    {
     "name": "stdout",
     "output_type": "stream",
     "text": [
      "\n",
      "      Epoch    GPU_mem   box_loss   cls_loss   dfl_loss  Instances       Size\n"
     ]
    },
    {
     "name": "stderr",
     "output_type": "stream",
     "text": [
      "    119/200     0.606G      1.206      0.867      1.222          3        640: 100%|██████████| 695/695 [00:38<00:00, 17.95it/s]\n",
      "                 Class     Images  Instances      Box(P          R      mAP50  mAP50-95): 100%|██████████| 96/96 [00:02<00:00, 33.18it/s]"
     ]
    },
    {
     "name": "stdout",
     "output_type": "stream",
     "text": [
      "                   all        191        227      0.797      0.846      0.788      0.246\n"
     ]
    },
    {
     "name": "stderr",
     "output_type": "stream",
     "text": [
      "\n"
     ]
    },
    {
     "name": "stdout",
     "output_type": "stream",
     "text": [
      "\n",
      "      Epoch    GPU_mem   box_loss   cls_loss   dfl_loss  Instances       Size\n"
     ]
    },
    {
     "name": "stderr",
     "output_type": "stream",
     "text": [
      "    120/200     0.606G       1.17     0.8114      1.187          2        640: 100%|██████████| 695/695 [00:38<00:00, 18.07it/s]\n",
      "                 Class     Images  Instances      Box(P          R      mAP50  mAP50-95): 100%|██████████| 96/96 [00:02<00:00, 33.11it/s]"
     ]
    },
    {
     "name": "stdout",
     "output_type": "stream",
     "text": [
      "                   all        191        227       0.86       0.89       0.86      0.301\n"
     ]
    },
    {
     "name": "stderr",
     "output_type": "stream",
     "text": [
      "\n"
     ]
    },
    {
     "name": "stdout",
     "output_type": "stream",
     "text": [
      "\n",
      "      Epoch    GPU_mem   box_loss   cls_loss   dfl_loss  Instances       Size\n"
     ]
    },
    {
     "name": "stderr",
     "output_type": "stream",
     "text": [
      "    121/200     0.608G      1.205     0.8173       1.21          0        640: 100%|██████████| 695/695 [00:38<00:00, 18.07it/s]\n",
      "                 Class     Images  Instances      Box(P          R      mAP50  mAP50-95): 100%|██████████| 96/96 [00:02<00:00, 32.98it/s]"
     ]
    },
    {
     "name": "stdout",
     "output_type": "stream",
     "text": [
      "                   all        191        227      0.868      0.886      0.876       0.29\n"
     ]
    },
    {
     "name": "stderr",
     "output_type": "stream",
     "text": [
      "\n"
     ]
    },
    {
     "name": "stdout",
     "output_type": "stream",
     "text": [
      "\n",
      "      Epoch    GPU_mem   box_loss   cls_loss   dfl_loss  Instances       Size\n"
     ]
    },
    {
     "name": "stderr",
     "output_type": "stream",
     "text": [
      "    122/200     0.608G      1.202     0.8467      1.226          9        640: 100%|██████████| 695/695 [00:38<00:00, 17.98it/s]\n",
      "                 Class     Images  Instances      Box(P          R      mAP50  mAP50-95): 100%|██████████| 96/96 [00:02<00:00, 33.62it/s]"
     ]
    },
    {
     "name": "stdout",
     "output_type": "stream",
     "text": [
      "                   all        191        227      0.677      0.709      0.661      0.198\n"
     ]
    },
    {
     "name": "stderr",
     "output_type": "stream",
     "text": [
      "\n"
     ]
    },
    {
     "name": "stdout",
     "output_type": "stream",
     "text": [
      "\n",
      "      Epoch    GPU_mem   box_loss   cls_loss   dfl_loss  Instances       Size\n"
     ]
    },
    {
     "name": "stderr",
     "output_type": "stream",
     "text": [
      "    123/200     0.606G      1.194      0.823      1.221          4        640: 100%|██████████| 695/695 [00:37<00:00, 18.40it/s]\n",
      "                 Class     Images  Instances      Box(P          R      mAP50  mAP50-95): 100%|██████████| 96/96 [00:02<00:00, 33.42it/s]"
     ]
    },
    {
     "name": "stdout",
     "output_type": "stream",
     "text": [
      "                   all        191        227      0.623      0.674       0.65      0.202\n"
     ]
    },
    {
     "name": "stderr",
     "output_type": "stream",
     "text": [
      "\n"
     ]
    },
    {
     "name": "stdout",
     "output_type": "stream",
     "text": [
      "\n",
      "      Epoch    GPU_mem   box_loss   cls_loss   dfl_loss  Instances       Size\n"
     ]
    },
    {
     "name": "stderr",
     "output_type": "stream",
     "text": [
      "    124/200     0.606G      1.194     0.8069      1.212          1        640: 100%|██████████| 695/695 [01:08<00:00, 10.17it/s]\n",
      "                 Class     Images  Instances      Box(P          R      mAP50  mAP50-95): 100%|██████████| 96/96 [00:05<00:00, 16.45it/s]"
     ]
    },
    {
     "name": "stdout",
     "output_type": "stream",
     "text": [
      "                   all        191        227      0.775      0.806      0.782      0.229\n"
     ]
    },
    {
     "name": "stderr",
     "output_type": "stream",
     "text": [
      "\n"
     ]
    },
    {
     "name": "stdout",
     "output_type": "stream",
     "text": [
      "\n",
      "      Epoch    GPU_mem   box_loss   cls_loss   dfl_loss  Instances       Size\n"
     ]
    },
    {
     "name": "stderr",
     "output_type": "stream",
     "text": [
      "    125/200     0.606G       1.15     0.8203      1.178          2        640: 100%|██████████| 695/695 [01:17<00:00,  9.01it/s]\n",
      "                 Class     Images  Instances      Box(P          R      mAP50  mAP50-95): 100%|██████████| 96/96 [00:05<00:00, 16.18it/s]"
     ]
    },
    {
     "name": "stdout",
     "output_type": "stream",
     "text": [
      "                   all        191        227      0.767      0.796      0.745      0.241\n"
     ]
    },
    {
     "name": "stderr",
     "output_type": "stream",
     "text": [
      "\n"
     ]
    },
    {
     "name": "stdout",
     "output_type": "stream",
     "text": [
      "\n",
      "      Epoch    GPU_mem   box_loss   cls_loss   dfl_loss  Instances       Size\n"
     ]
    },
    {
     "name": "stderr",
     "output_type": "stream",
     "text": [
      "    126/200     0.606G      1.229      0.857      1.233          4        640: 100%|██████████| 695/695 [01:18<00:00,  8.89it/s]\n",
      "                 Class     Images  Instances      Box(P          R      mAP50  mAP50-95): 100%|██████████| 96/96 [00:06<00:00, 15.71it/s]"
     ]
    },
    {
     "name": "stdout",
     "output_type": "stream",
     "text": [
      "                   all        191        227      0.763      0.787      0.716      0.266\n"
     ]
    },
    {
     "name": "stderr",
     "output_type": "stream",
     "text": [
      "\n"
     ]
    },
    {
     "name": "stdout",
     "output_type": "stream",
     "text": [
      "\n",
      "      Epoch    GPU_mem   box_loss   cls_loss   dfl_loss  Instances       Size\n"
     ]
    },
    {
     "name": "stderr",
     "output_type": "stream",
     "text": [
      "    127/200     0.608G      1.185     0.8569        1.2          2        640: 100%|██████████| 695/695 [01:19<00:00,  8.73it/s]\n",
      "                 Class     Images  Instances      Box(P          R      mAP50  mAP50-95): 100%|██████████| 96/96 [00:05<00:00, 16.33it/s]"
     ]
    },
    {
     "name": "stdout",
     "output_type": "stream",
     "text": [
      "                   all        191        227      0.704      0.731      0.702      0.234\n"
     ]
    },
    {
     "name": "stderr",
     "output_type": "stream",
     "text": [
      "\n"
     ]
    },
    {
     "name": "stdout",
     "output_type": "stream",
     "text": [
      "\n",
      "      Epoch    GPU_mem   box_loss   cls_loss   dfl_loss  Instances       Size\n"
     ]
    },
    {
     "name": "stderr",
     "output_type": "stream",
     "text": [
      "    128/200     0.608G      1.204     0.8238      1.218          3        640: 100%|██████████| 695/695 [01:17<00:00,  8.92it/s]\n",
      "                 Class     Images  Instances      Box(P          R      mAP50  mAP50-95): 100%|██████████| 96/96 [00:05<00:00, 16.31it/s]"
     ]
    },
    {
     "name": "stdout",
     "output_type": "stream",
     "text": [
      "                   all        191        227      0.887      0.908      0.918      0.301\n"
     ]
    },
    {
     "name": "stderr",
     "output_type": "stream",
     "text": [
      "\n"
     ]
    },
    {
     "name": "stdout",
     "output_type": "stream",
     "text": [
      "\n",
      "      Epoch    GPU_mem   box_loss   cls_loss   dfl_loss  Instances       Size\n"
     ]
    },
    {
     "name": "stderr",
     "output_type": "stream",
     "text": [
      "    129/200     0.606G      1.189     0.8218        1.2          3        640: 100%|██████████| 695/695 [01:17<00:00,  8.95it/s]\n",
      "                 Class     Images  Instances      Box(P          R      mAP50  mAP50-95): 100%|██████████| 96/96 [00:05<00:00, 16.67it/s]"
     ]
    },
    {
     "name": "stdout",
     "output_type": "stream",
     "text": [
      "                   all        191        227      0.965      0.964      0.972      0.324\n"
     ]
    },
    {
     "name": "stderr",
     "output_type": "stream",
     "text": [
      "\n"
     ]
    },
    {
     "name": "stdout",
     "output_type": "stream",
     "text": [
      "\n",
      "      Epoch    GPU_mem   box_loss   cls_loss   dfl_loss  Instances       Size\n"
     ]
    },
    {
     "name": "stderr",
     "output_type": "stream",
     "text": [
      "    130/200     0.606G      1.198     0.8189      1.215          5        640: 100%|██████████| 695/695 [01:17<00:00,  8.93it/s]\n",
      "                 Class     Images  Instances      Box(P          R      mAP50  mAP50-95): 100%|██████████| 96/96 [00:05<00:00, 16.62it/s]"
     ]
    },
    {
     "name": "stdout",
     "output_type": "stream",
     "text": [
      "                   all        191        227      0.899      0.922        0.9      0.257\n"
     ]
    },
    {
     "name": "stderr",
     "output_type": "stream",
     "text": [
      "\n"
     ]
    },
    {
     "name": "stdout",
     "output_type": "stream",
     "text": [
      "\n",
      "      Epoch    GPU_mem   box_loss   cls_loss   dfl_loss  Instances       Size\n"
     ]
    },
    {
     "name": "stderr",
     "output_type": "stream",
     "text": [
      "    131/200     0.606G      1.226     0.8621      1.237          3        640: 100%|██████████| 695/695 [01:19<00:00,  8.73it/s]\n",
      "                 Class     Images  Instances      Box(P          R      mAP50  mAP50-95): 100%|██████████| 96/96 [00:05<00:00, 16.14it/s]"
     ]
    },
    {
     "name": "stdout",
     "output_type": "stream",
     "text": [
      "                   all        191        227       0.83      0.729      0.768      0.211\n"
     ]
    },
    {
     "name": "stderr",
     "output_type": "stream",
     "text": [
      "\n"
     ]
    },
    {
     "name": "stdout",
     "output_type": "stream",
     "text": [
      "\n",
      "      Epoch    GPU_mem   box_loss   cls_loss   dfl_loss  Instances       Size\n"
     ]
    },
    {
     "name": "stderr",
     "output_type": "stream",
     "text": [
      "    132/200     0.606G      1.176     0.8311      1.188          1        640: 100%|██████████| 695/695 [01:17<00:00,  8.95it/s]\n",
      "                 Class     Images  Instances      Box(P          R      mAP50  mAP50-95): 100%|██████████| 96/96 [00:05<00:00, 16.46it/s]"
     ]
    },
    {
     "name": "stdout",
     "output_type": "stream",
     "text": [
      "                   all        191        227      0.843      0.803      0.858      0.259\n"
     ]
    },
    {
     "name": "stderr",
     "output_type": "stream",
     "text": [
      "\n"
     ]
    },
    {
     "name": "stdout",
     "output_type": "stream",
     "text": [
      "\n",
      "      Epoch    GPU_mem   box_loss   cls_loss   dfl_loss  Instances       Size\n"
     ]
    },
    {
     "name": "stderr",
     "output_type": "stream",
     "text": [
      "    133/200     0.606G      1.188     0.8053      1.197          1        640: 100%|██████████| 695/695 [01:18<00:00,  8.87it/s]\n",
      "                 Class     Images  Instances      Box(P          R      mAP50  mAP50-95): 100%|██████████| 96/96 [00:05<00:00, 16.51it/s]"
     ]
    },
    {
     "name": "stdout",
     "output_type": "stream",
     "text": [
      "                   all        191        227      0.783      0.757      0.803      0.233\n"
     ]
    },
    {
     "name": "stderr",
     "output_type": "stream",
     "text": [
      "\n"
     ]
    },
    {
     "name": "stdout",
     "output_type": "stream",
     "text": [
      "\n",
      "      Epoch    GPU_mem   box_loss   cls_loss   dfl_loss  Instances       Size\n"
     ]
    },
    {
     "name": "stderr",
     "output_type": "stream",
     "text": [
      "    134/200     0.606G      1.185     0.7861      1.214          5        640: 100%|██████████| 695/695 [2:32:45<00:00, 13.19s/it]      \n",
      "                 Class     Images  Instances      Box(P          R      mAP50  mAP50-95): 100%|██████████| 96/96 [00:05<00:00, 18.02it/s]"
     ]
    },
    {
     "name": "stdout",
     "output_type": "stream",
     "text": [
      "                   all        191        227      0.721      0.759      0.763      0.219\n"
     ]
    },
    {
     "name": "stderr",
     "output_type": "stream",
     "text": [
      "\n"
     ]
    },
    {
     "name": "stdout",
     "output_type": "stream",
     "text": [
      "\n",
      "      Epoch    GPU_mem   box_loss   cls_loss   dfl_loss  Instances       Size\n"
     ]
    },
    {
     "name": "stderr",
     "output_type": "stream",
     "text": [
      "    135/200     0.606G      1.208     0.7919      1.213          3        640: 100%|██████████| 695/695 [01:12<00:00,  9.57it/s]\n",
      "                 Class     Images  Instances      Box(P          R      mAP50  mAP50-95): 100%|██████████| 96/96 [00:05<00:00, 16.73it/s]"
     ]
    },
    {
     "name": "stdout",
     "output_type": "stream",
     "text": [
      "                   all        191        227      0.761      0.719       0.71      0.213\n"
     ]
    },
    {
     "name": "stderr",
     "output_type": "stream",
     "text": [
      "\n"
     ]
    },
    {
     "name": "stdout",
     "output_type": "stream",
     "text": [
      "\n",
      "      Epoch    GPU_mem   box_loss   cls_loss   dfl_loss  Instances       Size\n"
     ]
    },
    {
     "name": "stderr",
     "output_type": "stream",
     "text": [
      "    136/200     0.606G      1.185     0.8286      1.191          1        640: 100%|██████████| 695/695 [01:17<00:00,  8.96it/s]\n",
      "                 Class     Images  Instances      Box(P          R      mAP50  mAP50-95): 100%|██████████| 96/96 [00:05<00:00, 16.29it/s]"
     ]
    },
    {
     "name": "stdout",
     "output_type": "stream",
     "text": [
      "                   all        191        227      0.731      0.661      0.654      0.222\n"
     ]
    },
    {
     "name": "stderr",
     "output_type": "stream",
     "text": [
      "\n"
     ]
    },
    {
     "name": "stdout",
     "output_type": "stream",
     "text": [
      "\n",
      "      Epoch    GPU_mem   box_loss   cls_loss   dfl_loss  Instances       Size\n"
     ]
    },
    {
     "name": "stderr",
     "output_type": "stream",
     "text": [
      "    137/200     0.606G      1.185     0.8249      1.215          2        640: 100%|██████████| 695/695 [01:16<00:00,  9.14it/s]\n",
      "                 Class     Images  Instances      Box(P          R      mAP50  mAP50-95): 100%|██████████| 96/96 [00:05<00:00, 16.76it/s]"
     ]
    },
    {
     "name": "stdout",
     "output_type": "stream",
     "text": [
      "                   all        191        227      0.736      0.732      0.675      0.214\n"
     ]
    },
    {
     "name": "stderr",
     "output_type": "stream",
     "text": [
      "\n"
     ]
    },
    {
     "name": "stdout",
     "output_type": "stream",
     "text": [
      "\n",
      "      Epoch    GPU_mem   box_loss   cls_loss   dfl_loss  Instances       Size\n"
     ]
    },
    {
     "name": "stderr",
     "output_type": "stream",
     "text": [
      "    138/200     0.606G      1.182      0.791      1.188          0        640: 100%|██████████| 695/695 [01:16<00:00,  9.09it/s]\n",
      "                 Class     Images  Instances      Box(P          R      mAP50  mAP50-95): 100%|██████████| 96/96 [00:05<00:00, 16.21it/s]"
     ]
    },
    {
     "name": "stdout",
     "output_type": "stream",
     "text": [
      "                   all        191        227      0.665      0.705      0.633      0.211\n"
     ]
    },
    {
     "name": "stderr",
     "output_type": "stream",
     "text": [
      "\n"
     ]
    },
    {
     "name": "stdout",
     "output_type": "stream",
     "text": [
      "\n",
      "      Epoch    GPU_mem   box_loss   cls_loss   dfl_loss  Instances       Size\n"
     ]
    },
    {
     "name": "stderr",
     "output_type": "stream",
     "text": [
      "    139/200     0.606G      1.158     0.8004      1.195          2        640: 100%|██████████| 695/695 [01:15<00:00,  9.25it/s]\n",
      "                 Class     Images  Instances      Box(P          R      mAP50  mAP50-95): 100%|██████████| 96/96 [00:05<00:00, 16.97it/s]"
     ]
    },
    {
     "name": "stdout",
     "output_type": "stream",
     "text": [
      "                   all        191        227      0.727      0.688      0.642      0.221\n"
     ]
    },
    {
     "name": "stderr",
     "output_type": "stream",
     "text": [
      "\n"
     ]
    },
    {
     "name": "stdout",
     "output_type": "stream",
     "text": [
      "\n",
      "      Epoch    GPU_mem   box_loss   cls_loss   dfl_loss  Instances       Size\n"
     ]
    },
    {
     "name": "stderr",
     "output_type": "stream",
     "text": [
      "    140/200     0.606G      1.157     0.7792       1.18          3        640: 100%|██████████| 695/695 [01:16<00:00,  9.07it/s]\n",
      "                 Class     Images  Instances      Box(P          R      mAP50  mAP50-95): 100%|██████████| 96/96 [00:05<00:00, 17.05it/s]"
     ]
    },
    {
     "name": "stdout",
     "output_type": "stream",
     "text": [
      "                   all        191        227      0.742      0.733      0.694      0.245\n"
     ]
    },
    {
     "name": "stderr",
     "output_type": "stream",
     "text": [
      "\n"
     ]
    },
    {
     "name": "stdout",
     "output_type": "stream",
     "text": [
      "\n",
      "      Epoch    GPU_mem   box_loss   cls_loss   dfl_loss  Instances       Size\n"
     ]
    },
    {
     "name": "stderr",
     "output_type": "stream",
     "text": [
      "    141/200     0.606G      1.138     0.7784      1.171          2        640: 100%|██████████| 695/695 [01:16<00:00,  9.11it/s]\n",
      "                 Class     Images  Instances      Box(P          R      mAP50  mAP50-95): 100%|██████████| 96/96 [00:05<00:00, 16.73it/s]"
     ]
    },
    {
     "name": "stdout",
     "output_type": "stream",
     "text": [
      "                   all        191        227      0.727      0.665      0.659      0.194\n"
     ]
    },
    {
     "name": "stderr",
     "output_type": "stream",
     "text": [
      "\n"
     ]
    },
    {
     "name": "stdout",
     "output_type": "stream",
     "text": [
      "\n",
      "      Epoch    GPU_mem   box_loss   cls_loss   dfl_loss  Instances       Size\n"
     ]
    },
    {
     "name": "stderr",
     "output_type": "stream",
     "text": [
      "    142/200     0.606G      1.151     0.7928      1.177          1        640: 100%|██████████| 695/695 [01:15<00:00,  9.21it/s]\n",
      "                 Class     Images  Instances      Box(P          R      mAP50  mAP50-95): 100%|██████████| 96/96 [00:05<00:00, 16.63it/s]"
     ]
    },
    {
     "name": "stdout",
     "output_type": "stream",
     "text": [
      "                   all        191        227      0.683      0.693      0.643      0.208\n"
     ]
    },
    {
     "name": "stderr",
     "output_type": "stream",
     "text": [
      "\n"
     ]
    },
    {
     "name": "stdout",
     "output_type": "stream",
     "text": [
      "\n",
      "      Epoch    GPU_mem   box_loss   cls_loss   dfl_loss  Instances       Size\n"
     ]
    },
    {
     "name": "stderr",
     "output_type": "stream",
     "text": [
      "    143/200     0.606G      1.146     0.7882      1.168          3        640: 100%|██████████| 695/695 [01:16<00:00,  9.09it/s]\n",
      "                 Class     Images  Instances      Box(P          R      mAP50  mAP50-95): 100%|██████████| 96/96 [00:05<00:00, 16.79it/s]"
     ]
    },
    {
     "name": "stdout",
     "output_type": "stream",
     "text": [
      "                   all        191        227      0.826      0.832      0.787      0.224\n"
     ]
    },
    {
     "name": "stderr",
     "output_type": "stream",
     "text": [
      "\n"
     ]
    },
    {
     "name": "stdout",
     "output_type": "stream",
     "text": [
      "\n",
      "      Epoch    GPU_mem   box_loss   cls_loss   dfl_loss  Instances       Size\n"
     ]
    },
    {
     "name": "stderr",
     "output_type": "stream",
     "text": [
      "    144/200     0.606G      1.217     0.8158      1.227          0        640: 100%|██████████| 695/695 [01:15<00:00,  9.19it/s]\n",
      "                 Class     Images  Instances      Box(P          R      mAP50  mAP50-95): 100%|██████████| 96/96 [00:05<00:00, 16.57it/s]"
     ]
    },
    {
     "name": "stdout",
     "output_type": "stream",
     "text": [
      "                   all        191        227       0.75       0.78      0.758       0.28\n"
     ]
    },
    {
     "name": "stderr",
     "output_type": "stream",
     "text": [
      "\n"
     ]
    },
    {
     "name": "stdout",
     "output_type": "stream",
     "text": [
      "\n",
      "      Epoch    GPU_mem   box_loss   cls_loss   dfl_loss  Instances       Size\n"
     ]
    },
    {
     "name": "stderr",
     "output_type": "stream",
     "text": [
      "    145/200     0.606G      1.177     0.7917      1.192          2        640: 100%|██████████| 695/695 [4:27:18<00:00, 23.08s/it]      \n",
      "                 Class     Images  Instances      Box(P          R      mAP50  mAP50-95): 100%|██████████| 96/96 [00:03<00:00, 28.67it/s]"
     ]
    },
    {
     "name": "stdout",
     "output_type": "stream",
     "text": [
      "                   all        191        227      0.664      0.759      0.687      0.215\n"
     ]
    },
    {
     "name": "stderr",
     "output_type": "stream",
     "text": [
      "\n"
     ]
    },
    {
     "name": "stdout",
     "output_type": "stream",
     "text": [
      "\n",
      "      Epoch    GPU_mem   box_loss   cls_loss   dfl_loss  Instances       Size\n"
     ]
    },
    {
     "name": "stderr",
     "output_type": "stream",
     "text": [
      "    146/200     0.606G      1.112      0.792      1.156          4        640: 100%|██████████| 695/695 [00:36<00:00, 19.12it/s]\n",
      "                 Class     Images  Instances      Box(P          R      mAP50  mAP50-95): 100%|██████████| 96/96 [00:02<00:00, 35.38it/s]"
     ]
    },
    {
     "name": "stdout",
     "output_type": "stream",
     "text": [
      "                   all        191        227      0.754      0.743      0.763      0.248\n"
     ]
    },
    {
     "name": "stderr",
     "output_type": "stream",
     "text": [
      "\n"
     ]
    },
    {
     "name": "stdout",
     "output_type": "stream",
     "text": [
      "\n",
      "      Epoch    GPU_mem   box_loss   cls_loss   dfl_loss  Instances       Size\n"
     ]
    },
    {
     "name": "stderr",
     "output_type": "stream",
     "text": [
      "    147/200     0.606G      1.129     0.7612      1.184          3        640:  59%|█████▉    | 409/695 [00:21<00:15, 18.79it/s]\n"
     ]
    },
    {
     "ename": "KeyboardInterrupt",
     "evalue": "",
     "output_type": "error",
     "traceback": [
      "\u001b[1;31m---------------------------------------------------------------------------\u001b[0m",
      "\u001b[1;31mKeyboardInterrupt\u001b[0m                         Traceback (most recent call last)",
      "Cell \u001b[1;32mIn[4], line 8\u001b[0m\n\u001b[0;32m      6\u001b[0m \u001b[38;5;28;01mwhile\u001b[39;00m \u001b[38;5;28;01mTrue\u001b[39;00m:\n\u001b[0;32m      7\u001b[0m     \u001b[38;5;28;01mtry\u001b[39;00m:\n\u001b[1;32m----> 8\u001b[0m         \u001b[43mmodel\u001b[49m\u001b[38;5;241;43m.\u001b[39;49m\u001b[43mtrain\u001b[49m\u001b[43m(\u001b[49m\n\u001b[0;32m      9\u001b[0m \u001b[43m            \u001b[49m\u001b[43mdata\u001b[49m\u001b[38;5;241;43m=\u001b[39;49m\u001b[43mdata_yaml_file_absolute_path\u001b[49m\u001b[43m,\u001b[49m\n\u001b[0;32m     10\u001b[0m \u001b[43m            \u001b[49m\u001b[43mepochs\u001b[49m\u001b[38;5;241;43m=\u001b[39;49m\u001b[43mepoch_increments\u001b[49m\u001b[43m,\u001b[49m\n\u001b[0;32m     11\u001b[0m \u001b[43m            \u001b[49m\u001b[38;5;66;43;03m# device=0, # --> it can automatically detect the device available\u001b[39;49;00m\n\u001b[0;32m     12\u001b[0m \u001b[43m            \u001b[49m\u001b[43mbatch\u001b[49m\u001b[38;5;241;43m=\u001b[39;49m\u001b[38;5;241;43m1\u001b[39;49m\u001b[43m,\u001b[49m\n\u001b[0;32m     13\u001b[0m \u001b[43m            \u001b[49m\u001b[43mdegrees\u001b[49m\u001b[38;5;241;43m=\u001b[39;49m\u001b[43mdegrees\u001b[49m\u001b[43m,\u001b[49m\n\u001b[0;32m     14\u001b[0m \u001b[43m            \u001b[49m\u001b[43mflipud\u001b[49m\u001b[38;5;241;43m=\u001b[39;49m\u001b[43mflipud\u001b[49m\u001b[43m,\u001b[49m\n\u001b[0;32m     15\u001b[0m \u001b[43m            \u001b[49m\u001b[43mfliplr\u001b[49m\u001b[38;5;241;43m=\u001b[39;49m\u001b[43mfliplr\u001b[49m\u001b[43m,\u001b[49m\n\u001b[0;32m     16\u001b[0m \u001b[43m            \u001b[49m\u001b[43mperspective\u001b[49m\u001b[38;5;241;43m=\u001b[39;49m\u001b[43mmax_perspective_change\u001b[49m\u001b[43m,\u001b[49m\n\u001b[0;32m     17\u001b[0m \u001b[43m            \u001b[49m\u001b[43mtranslate\u001b[49m\u001b[38;5;241;43m=\u001b[39;49m\u001b[43mmax_translate\u001b[49m\u001b[43m,\u001b[49m\n\u001b[0;32m     18\u001b[0m \u001b[43m            \u001b[49m\u001b[43mscale\u001b[49m\u001b[38;5;241;43m=\u001b[39;49m\u001b[43mmax_scale_change\u001b[49m\u001b[43m,\u001b[49m\n\u001b[0;32m     19\u001b[0m \u001b[43m            \u001b[49m\u001b[43mmosaic\u001b[49m\u001b[38;5;241;43m=\u001b[39;49m\u001b[43mmosaic\u001b[49m\u001b[43m,\u001b[49m\n\u001b[0;32m     20\u001b[0m \u001b[43m            \u001b[49m\u001b[43mmixup\u001b[49m\u001b[38;5;241;43m=\u001b[39;49m\u001b[43mmixup\u001b[49m\u001b[43m,\u001b[49m\n\u001b[0;32m     21\u001b[0m \u001b[43m            \u001b[49m\u001b[43mpretrained\u001b[49m\u001b[38;5;241;43m=\u001b[39;49m\u001b[38;5;28;43;01mTrue\u001b[39;49;00m\u001b[43m,\u001b[49m\n\u001b[0;32m     22\u001b[0m \u001b[43m            \u001b[49m\u001b[43mtask\u001b[49m\u001b[38;5;241;43m=\u001b[39;49m\u001b[38;5;124;43m'\u001b[39;49m\u001b[38;5;124;43mdetect\u001b[39;49m\u001b[38;5;124;43m'\u001b[39;49m\u001b[43m,\u001b[49m\n\u001b[0;32m     23\u001b[0m \u001b[43m            \u001b[49m\u001b[43mcache\u001b[49m\u001b[38;5;241;43m=\u001b[39;49m\u001b[38;5;28;43;01mFalse\u001b[39;49;00m\u001b[43m,\u001b[49m\n\u001b[0;32m     24\u001b[0m \u001b[43m            \u001b[49m\u001b[43mworkers\u001b[49m\u001b[38;5;241;43m=\u001b[39;49m\u001b[38;5;241;43m2\u001b[39;49m\u001b[43m,\u001b[49m\n\u001b[0;32m     25\u001b[0m \u001b[43m        \u001b[49m\u001b[43m)\u001b[49m\n\u001b[0;32m     26\u001b[0m         shutil\u001b[38;5;241m.\u001b[39mcopyfile(\u001b[38;5;124m\"\u001b[39m\u001b[38;5;124mruns\u001b[39m\u001b[38;5;130;01m\\\\\u001b[39;00m\u001b[38;5;124mdetect\u001b[39m\u001b[38;5;130;01m\\\\\u001b[39;00m\u001b[38;5;124mtrain\u001b[39m\u001b[38;5;130;01m\\\\\u001b[39;00m\u001b[38;5;124mweights\u001b[39m\u001b[38;5;130;01m\\\\\u001b[39;00m\u001b[38;5;124mbest.pt\u001b[39m\u001b[38;5;124m\"\u001b[39m, model_save_filename)\n\u001b[0;32m     27\u001b[0m     \u001b[38;5;28;01mexcept\u001b[39;00m \u001b[38;5;167;01mRuntimeError\u001b[39;00m \u001b[38;5;28;01mas\u001b[39;00m e:\n",
      "File \u001b[1;32mc:\\Users\\poten\\AppData\\Local\\Programs\\Python\\Python312\\Lib\\site-packages\\ultralytics\\engine\\model.py:674\u001b[0m, in \u001b[0;36mModel.train\u001b[1;34m(self, trainer, **kwargs)\u001b[0m\n\u001b[0;32m    671\u001b[0m             \u001b[38;5;28;01mpass\u001b[39;00m\n\u001b[0;32m    673\u001b[0m \u001b[38;5;28mself\u001b[39m\u001b[38;5;241m.\u001b[39mtrainer\u001b[38;5;241m.\u001b[39mhub_session \u001b[38;5;241m=\u001b[39m \u001b[38;5;28mself\u001b[39m\u001b[38;5;241m.\u001b[39msession  \u001b[38;5;66;03m# attach optional HUB session\u001b[39;00m\n\u001b[1;32m--> 674\u001b[0m \u001b[38;5;28;43mself\u001b[39;49m\u001b[38;5;241;43m.\u001b[39;49m\u001b[43mtrainer\u001b[49m\u001b[38;5;241;43m.\u001b[39;49m\u001b[43mtrain\u001b[49m\u001b[43m(\u001b[49m\u001b[43m)\u001b[49m\n\u001b[0;32m    675\u001b[0m \u001b[38;5;66;03m# Update model and cfg after training\u001b[39;00m\n\u001b[0;32m    676\u001b[0m \u001b[38;5;28;01mif\u001b[39;00m RANK \u001b[38;5;129;01min\u001b[39;00m {\u001b[38;5;241m-\u001b[39m\u001b[38;5;241m1\u001b[39m, \u001b[38;5;241m0\u001b[39m}:\n",
      "File \u001b[1;32mc:\\Users\\poten\\AppData\\Local\\Programs\\Python\\Python312\\Lib\\site-packages\\ultralytics\\engine\\trainer.py:199\u001b[0m, in \u001b[0;36mBaseTrainer.train\u001b[1;34m(self)\u001b[0m\n\u001b[0;32m    196\u001b[0m         ddp_cleanup(\u001b[38;5;28mself\u001b[39m, \u001b[38;5;28mstr\u001b[39m(file))\n\u001b[0;32m    198\u001b[0m \u001b[38;5;28;01melse\u001b[39;00m:\n\u001b[1;32m--> 199\u001b[0m     \u001b[38;5;28;43mself\u001b[39;49m\u001b[38;5;241;43m.\u001b[39;49m\u001b[43m_do_train\u001b[49m\u001b[43m(\u001b[49m\u001b[43mworld_size\u001b[49m\u001b[43m)\u001b[49m\n",
      "File \u001b[1;32mc:\\Users\\poten\\AppData\\Local\\Programs\\Python\\Python312\\Lib\\site-packages\\ultralytics\\engine\\trainer.py:379\u001b[0m, in \u001b[0;36mBaseTrainer._do_train\u001b[1;34m(self, world_size)\u001b[0m\n\u001b[0;32m    374\u001b[0m     \u001b[38;5;28mself\u001b[39m\u001b[38;5;241m.\u001b[39mtloss \u001b[38;5;241m=\u001b[39m (\n\u001b[0;32m    375\u001b[0m         (\u001b[38;5;28mself\u001b[39m\u001b[38;5;241m.\u001b[39mtloss \u001b[38;5;241m*\u001b[39m i \u001b[38;5;241m+\u001b[39m \u001b[38;5;28mself\u001b[39m\u001b[38;5;241m.\u001b[39mloss_items) \u001b[38;5;241m/\u001b[39m (i \u001b[38;5;241m+\u001b[39m \u001b[38;5;241m1\u001b[39m) \u001b[38;5;28;01mif\u001b[39;00m \u001b[38;5;28mself\u001b[39m\u001b[38;5;241m.\u001b[39mtloss \u001b[38;5;129;01mis\u001b[39;00m \u001b[38;5;129;01mnot\u001b[39;00m \u001b[38;5;28;01mNone\u001b[39;00m \u001b[38;5;28;01melse\u001b[39;00m \u001b[38;5;28mself\u001b[39m\u001b[38;5;241m.\u001b[39mloss_items\n\u001b[0;32m    376\u001b[0m     )\n\u001b[0;32m    378\u001b[0m \u001b[38;5;66;03m# Backward\u001b[39;00m\n\u001b[1;32m--> 379\u001b[0m \u001b[38;5;28;43mself\u001b[39;49m\u001b[38;5;241;43m.\u001b[39;49m\u001b[43mscaler\u001b[49m\u001b[38;5;241;43m.\u001b[39;49m\u001b[43mscale\u001b[49m\u001b[43m(\u001b[49m\u001b[38;5;28;43mself\u001b[39;49m\u001b[38;5;241;43m.\u001b[39;49m\u001b[43mloss\u001b[49m\u001b[43m)\u001b[49m\u001b[38;5;241;43m.\u001b[39;49m\u001b[43mbackward\u001b[49m\u001b[43m(\u001b[49m\u001b[43m)\u001b[49m\n\u001b[0;32m    381\u001b[0m \u001b[38;5;66;03m# Optimize - https://pytorch.org/docs/master/notes/amp_examples.html\u001b[39;00m\n\u001b[0;32m    382\u001b[0m \u001b[38;5;28;01mif\u001b[39;00m ni \u001b[38;5;241m-\u001b[39m last_opt_step \u001b[38;5;241m>\u001b[39m\u001b[38;5;241m=\u001b[39m \u001b[38;5;28mself\u001b[39m\u001b[38;5;241m.\u001b[39maccumulate:\n",
      "File \u001b[1;32mc:\\Users\\poten\\AppData\\Local\\Programs\\Python\\Python312\\Lib\\site-packages\\torch\\_tensor.py:525\u001b[0m, in \u001b[0;36mTensor.backward\u001b[1;34m(self, gradient, retain_graph, create_graph, inputs)\u001b[0m\n\u001b[0;32m    515\u001b[0m \u001b[38;5;28;01mif\u001b[39;00m has_torch_function_unary(\u001b[38;5;28mself\u001b[39m):\n\u001b[0;32m    516\u001b[0m     \u001b[38;5;28;01mreturn\u001b[39;00m handle_torch_function(\n\u001b[0;32m    517\u001b[0m         Tensor\u001b[38;5;241m.\u001b[39mbackward,\n\u001b[0;32m    518\u001b[0m         (\u001b[38;5;28mself\u001b[39m,),\n\u001b[1;32m   (...)\u001b[0m\n\u001b[0;32m    523\u001b[0m         inputs\u001b[38;5;241m=\u001b[39minputs,\n\u001b[0;32m    524\u001b[0m     )\n\u001b[1;32m--> 525\u001b[0m \u001b[43mtorch\u001b[49m\u001b[38;5;241;43m.\u001b[39;49m\u001b[43mautograd\u001b[49m\u001b[38;5;241;43m.\u001b[39;49m\u001b[43mbackward\u001b[49m\u001b[43m(\u001b[49m\n\u001b[0;32m    526\u001b[0m \u001b[43m    \u001b[49m\u001b[38;5;28;43mself\u001b[39;49m\u001b[43m,\u001b[49m\u001b[43m \u001b[49m\u001b[43mgradient\u001b[49m\u001b[43m,\u001b[49m\u001b[43m \u001b[49m\u001b[43mretain_graph\u001b[49m\u001b[43m,\u001b[49m\u001b[43m \u001b[49m\u001b[43mcreate_graph\u001b[49m\u001b[43m,\u001b[49m\u001b[43m \u001b[49m\u001b[43minputs\u001b[49m\u001b[38;5;241;43m=\u001b[39;49m\u001b[43minputs\u001b[49m\n\u001b[0;32m    527\u001b[0m \u001b[43m\u001b[49m\u001b[43m)\u001b[49m\n",
      "File \u001b[1;32mc:\\Users\\poten\\AppData\\Local\\Programs\\Python\\Python312\\Lib\\site-packages\\torch\\autograd\\__init__.py:267\u001b[0m, in \u001b[0;36mbackward\u001b[1;34m(tensors, grad_tensors, retain_graph, create_graph, grad_variables, inputs)\u001b[0m\n\u001b[0;32m    262\u001b[0m     retain_graph \u001b[38;5;241m=\u001b[39m create_graph\n\u001b[0;32m    264\u001b[0m \u001b[38;5;66;03m# The reason we repeat the same comment below is that\u001b[39;00m\n\u001b[0;32m    265\u001b[0m \u001b[38;5;66;03m# some Python versions print out the first line of a multi-line function\u001b[39;00m\n\u001b[0;32m    266\u001b[0m \u001b[38;5;66;03m# calls in the traceback and some print out the last line\u001b[39;00m\n\u001b[1;32m--> 267\u001b[0m \u001b[43m_engine_run_backward\u001b[49m\u001b[43m(\u001b[49m\n\u001b[0;32m    268\u001b[0m \u001b[43m    \u001b[49m\u001b[43mtensors\u001b[49m\u001b[43m,\u001b[49m\n\u001b[0;32m    269\u001b[0m \u001b[43m    \u001b[49m\u001b[43mgrad_tensors_\u001b[49m\u001b[43m,\u001b[49m\n\u001b[0;32m    270\u001b[0m \u001b[43m    \u001b[49m\u001b[43mretain_graph\u001b[49m\u001b[43m,\u001b[49m\n\u001b[0;32m    271\u001b[0m \u001b[43m    \u001b[49m\u001b[43mcreate_graph\u001b[49m\u001b[43m,\u001b[49m\n\u001b[0;32m    272\u001b[0m \u001b[43m    \u001b[49m\u001b[43minputs\u001b[49m\u001b[43m,\u001b[49m\n\u001b[0;32m    273\u001b[0m \u001b[43m    \u001b[49m\u001b[43mallow_unreachable\u001b[49m\u001b[38;5;241;43m=\u001b[39;49m\u001b[38;5;28;43;01mTrue\u001b[39;49;00m\u001b[43m,\u001b[49m\n\u001b[0;32m    274\u001b[0m \u001b[43m    \u001b[49m\u001b[43maccumulate_grad\u001b[49m\u001b[38;5;241;43m=\u001b[39;49m\u001b[38;5;28;43;01mTrue\u001b[39;49;00m\u001b[43m,\u001b[49m\n\u001b[0;32m    275\u001b[0m \u001b[43m\u001b[49m\u001b[43m)\u001b[49m\n",
      "File \u001b[1;32mc:\\Users\\poten\\AppData\\Local\\Programs\\Python\\Python312\\Lib\\site-packages\\torch\\autograd\\graph.py:744\u001b[0m, in \u001b[0;36m_engine_run_backward\u001b[1;34m(t_outputs, *args, **kwargs)\u001b[0m\n\u001b[0;32m    742\u001b[0m     unregister_hooks \u001b[38;5;241m=\u001b[39m _register_logging_hooks_on_whole_graph(t_outputs)\n\u001b[0;32m    743\u001b[0m \u001b[38;5;28;01mtry\u001b[39;00m:\n\u001b[1;32m--> 744\u001b[0m     \u001b[38;5;28;01mreturn\u001b[39;00m \u001b[43mVariable\u001b[49m\u001b[38;5;241;43m.\u001b[39;49m\u001b[43m_execution_engine\u001b[49m\u001b[38;5;241;43m.\u001b[39;49m\u001b[43mrun_backward\u001b[49m\u001b[43m(\u001b[49m\u001b[43m  \u001b[49m\u001b[38;5;66;43;03m# Calls into the C++ engine to run the backward pass\u001b[39;49;00m\n\u001b[0;32m    745\u001b[0m \u001b[43m        \u001b[49m\u001b[43mt_outputs\u001b[49m\u001b[43m,\u001b[49m\u001b[43m \u001b[49m\u001b[38;5;241;43m*\u001b[39;49m\u001b[43margs\u001b[49m\u001b[43m,\u001b[49m\u001b[43m \u001b[49m\u001b[38;5;241;43m*\u001b[39;49m\u001b[38;5;241;43m*\u001b[39;49m\u001b[43mkwargs\u001b[49m\n\u001b[0;32m    746\u001b[0m \u001b[43m    \u001b[49m\u001b[43m)\u001b[49m  \u001b[38;5;66;03m# Calls into the C++ engine to run the backward pass\u001b[39;00m\n\u001b[0;32m    747\u001b[0m \u001b[38;5;28;01mfinally\u001b[39;00m:\n\u001b[0;32m    748\u001b[0m     \u001b[38;5;28;01mif\u001b[39;00m attach_logging_hooks:\n",
      "\u001b[1;31mKeyboardInterrupt\u001b[0m: "
     ]
    }
   ],
   "source": [
    "data_yaml_file_absolute_path = os.path.abspath(\"data.yaml\")\n",
    "\n",
    "model = YOLO(\"yolov8n.pt\") #load a pretrained model\n",
    "\n",
    "# Start the training process\n",
    "while True:\n",
    "    try:\n",
    "        model.train(\n",
    "            data=data_yaml_file_absolute_path,\n",
    "            epochs=epoch_increments,\n",
    "            # device=0, # --> it can automatically detect the device available\n",
    "            batch=1,\n",
    "            degrees=degrees,\n",
    "            flipud=flipud,\n",
    "            fliplr=fliplr,\n",
    "            mosaic=mosaic,\n",
    "            pretrained=True,\n",
    "            task='detect',\n",
    "            cache=False,\n",
    "            workers=2,\n",
    "        )\n",
    "        shutil.copyfile(\"runs\\\\detect\\\\train\\\\weights\\\\best.pt\", model_save_filename)\n",
    "    except RuntimeError as e:\n",
    "        print(f\"Caught a RuntimeError: {e}\")\n",
    "        break  # Break out of the loop if an error occurs to prevent infinite loop\n"
   ]
  }
 ],
 "metadata": {
  "kernelspec": {
   "display_name": "Python 3",
   "language": "python",
   "name": "python3"
  },
  "language_info": {
   "codemirror_mode": {
    "name": "ipython",
    "version": 3
   },
   "file_extension": ".py",
   "mimetype": "text/x-python",
   "name": "python",
   "nbconvert_exporter": "python",
   "pygments_lexer": "ipython3",
   "version": "3.12.3"
  }
 },
 "nbformat": 4,
 "nbformat_minor": 2
}
