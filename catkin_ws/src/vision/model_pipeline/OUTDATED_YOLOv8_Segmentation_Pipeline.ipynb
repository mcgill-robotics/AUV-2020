{
  "cells": [
    {
      "cell_type": "markdown",
      "metadata": {
        "id": "MAQ76bSTy48-"
      },
      "source": [
        "# Install dependencies, set up folder structure, import necessary librairies, generate data.yaml file"
      ]
    },
    {
      "cell_type": "code",
      "execution_count": null,
      "metadata": {
        "id": "I2wYwdPAyklw"
      },
      "outputs": [],
      "source": [
        "!pip install albumentations\n",
        "!pip install opencv-python\n",
        "!pip install ultralytics\n",
        "!mkdir data\n",
        "!mkdir data/train\n",
        "!mkdir data/test\n",
        "!mkdir data/val\n",
        "!mkdir data/train/images\n",
        "!mkdir data/test/images\n",
        "!mkdir data/val/images\n",
        "!mkdir data/train/labels\n",
        "!mkdir data/test/labels\n",
        "!mkdir data/val/labels\n",
        "!rm -r sample_data"
      ]
    },
    {
      "cell_type": "code",
      "execution_count": null,
      "metadata": {
        "id": "V3-T5zOB0sEi"
      },
      "outputs": [],
      "source": [
        "import os, shutil\n",
        "from os import listdir\n",
        "from os.path import isfile, join\n",
        "import cv2\n",
        "import albumentations as A\n",
        "import copy\n",
        "import random\n",
        "import numpy as np\n",
        "from ultralytics import YOLO\n",
        "import torch\n",
        "import shutil\n",
        "from google.colab import drive\n",
        "drive.mount('/content/drive')"
      ]
    },
    {
      "cell_type": "code",
      "execution_count": 3,
      "metadata": {
        "id": "N0SHMX1C2ZuL"
      },
      "outputs": [],
      "source": [
        "with open('data.yaml', 'w+') as f:\n",
        "    f.write(\"train: /content/data/train/images\\n\")\n",
        "    f.write(\"test: /content/data/test/images\\n\")\n",
        "    f.write(\"val: /content/data/val/images\\n\")\n",
        "    f.write(\"nc: 1\\n\")\n",
        "    f.write('names: [\"Lane Marker\"]')"
      ]
    },
    {
      "cell_type": "markdown",
      "metadata": {
        "id": "Ha6R_QiX1mrs"
      },
      "source": [
        "# Train YOLO model with augmented data"
      ]
    },
    {
      "cell_type": "code",
      "execution_count": null,
      "metadata": {
        "id": "aZBXU0OD7l9b"
      },
      "outputs": [],
      "source": [
        "print(torch.cuda.is_available())\n",
        "print(torch.cuda.device_count())\n",
        "#Ensure this prints true and a number > 0, if not make sure you set hardware accelerator to GPU in Edit > Notebook Settings > Hardware Accelerator\n",
        "!rm -r runs/segment/train*\n",
        "!mkdir runs\n",
        "!mkdir runs/segment\n",
        "!mkdir runs/segment/train"
      ]
    },
    {
      "cell_type": "code",
      "execution_count": null,
      "metadata": {
        "id": "w1a82eTY1rFt"
      },
      "outputs": [],
      "source": [
        "#UNCOMMENT TO START FROM SCRATCH\n",
        "model = YOLO(\"yolov8n-seg.pt\")  # load a pretrained model (recommended for training)\n",
        "\n",
        "# CONTINUE TRAINING\n",
        "#model = YOLO(\"/content/drive/My Drive/AUV_model.pt\") #load a previous model in case training interrupts\n",
        "\n",
        "# Train the model in increments\n",
        "epoch_increments = 10\n",
        "i = 2\n",
        "while True:\n",
        "  model.train(data=\"data.yaml\", epochs=epoch_increments, device=0, batch=16, degrees=360, flipud=0.5, fliplr=0.5, perspective=0.001, translate=0.5, scale=0.5, pretrained=True, task='segment')  # train the model\n",
        "  model.val()\n",
        "  shutil.copyfile(\"runs/detect/train\" + str(i) + \"/weights/best.pt\", \"/content/drive/My Drive/AUV_model_seg_\" + str(i) + \".pt\")\n",
        "  i = i + 1"
      ]
    },
    {
      "cell_type": "markdown",
      "metadata": {
        "id": "b6Tpx-d_3Mj5"
      },
      "source": [
        "# Predict on image with model"
      ]
    },
    {
      "cell_type": "code",
      "execution_count": null,
      "metadata": {
        "id": "UdXmFvGW3Q8J"
      },
      "outputs": [],
      "source": [
        "img_path = \"data/augmented/train/images/img3.png\"\n",
        "img = cv2.imread(img_path)\n",
        "# Load a model\n",
        "model = YOLO(\"runs/detect/train2/weights/best.pt\")  # load a model\n",
        "# Use the model\n",
        "pred = model(img)\n",
        "for results in pred:\n",
        "    box = results.boxes\n",
        "    print(box)\n",
        "    print(\"\\nprediction:\" + str(list(box.xywh)))\n",
        "    print(\"\\nprediction:\" + str(list(box.conf)))\n",
        "    print(\"\\nprediction:\" + str(list(box.cls)))"
      ]
    }
  ],
  "metadata": {
    "accelerator": "GPU",
    "colab": {
      "collapsed_sections": [
        "b6Tpx-d_3Mj5"
      ],
      "provenance": []
    },
    "gpuClass": "standard",
    "kernelspec": {
      "display_name": "Python 3",
      "name": "python3"
    },
    "language_info": {
      "name": "python"
    }
  },
  "nbformat": 4,
  "nbformat_minor": 0
}
