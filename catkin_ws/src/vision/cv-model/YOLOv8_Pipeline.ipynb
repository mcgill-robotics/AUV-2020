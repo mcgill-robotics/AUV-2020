{
  "cells": [
    {
      "cell_type": "markdown",
      "metadata": {
        "id": "MAQ76bSTy48-"
      },
      "source": [
        "# Install dependencies, set up folder structure, import necessary librairies, generate data.yaml file"
      ]
    },
    {
      "cell_type": "code",
      "execution_count": null,
      "metadata": {
        "colab": {
          "base_uri": "https://localhost:8080/"
        },
        "id": "I2wYwdPAyklw",
        "outputId": "f2c1ba01-260b-4842-bf23-23aac72231fe"
      },
      "outputs": [],
      "source": [
        "!pip install albumentations\n",
        "!pip install opencv-python\n",
        "!pip install ultralytics\n",
        "!mkdir data\n",
        "!mkdir data/augmented\n",
        "!mkdir data/raw\n",
        "!mkdir data/augmented/train\n",
        "!mkdir data/augmented/test\n",
        "!mkdir data/augmented/val\n",
        "!mkdir data/augmented/train/images\n",
        "!mkdir data/augmented/test/images\n",
        "!mkdir data/augmented/val/images\n",
        "!mkdir data/augmented/train/labels\n",
        "!mkdir data/augmented/test/labels\n",
        "!mkdir data/augmented/val/labels\n",
        "!mkdir data/raw/images\n",
        "!mkdir data/raw/labels"
      ]
    },
    {
      "cell_type": "code",
      "execution_count": 8,
      "metadata": {
        "id": "V3-T5zOB0sEi"
      },
      "outputs": [],
      "source": [
        "import os, shutil\n",
        "from os import listdir\n",
        "from os.path import isfile, join\n",
        "import cv2\n",
        "import albumentations as A\n",
        "import copy\n",
        "import random\n",
        "import numpy as np\n",
        "from ultralytics import YOLO\n",
        "import torch"
      ]
    },
    {
      "cell_type": "code",
      "execution_count": null,
      "metadata": {
        "id": "N0SHMX1C2ZuL"
      },
      "outputs": [],
      "source": [
        "with open('data.yaml', 'w+') as f:\n",
        "    f.write(\"train: /content/data/augmented/train/images\\n\")\n",
        "    f.write(\"test: /content/data/augmented/test/images\\n\")\n",
        "    f.write(\"val: /content/data/augmented/val/images\\n\")\n",
        "    f.write(\"nc: 1\\n\")\n",
        "    f.write('names: [\"Lane Marker\"]')"
      ]
    },
    {
      "cell_type": "markdown",
      "metadata": {
        "id": "COpq9wZczt1G"
      },
      "source": [
        "# Augment data in /raw folder, put augmented dataset in /augmented folder"
      ]
    },
    {
      "cell_type": "markdown",
      "metadata": {
        "id": "aHa1-UEe0FuN"
      },
      "source": [
        "Define individual augmentation functions and image file input/ouput helper functions. Each augmentation is a function that expects a list of (image, label) tuples, and returns the original tuples as well as all augmented versions of each (image, label) tuple in a larger list."
      ]
    },
    {
      "cell_type": "code",
      "execution_count": null,
      "metadata": {
        "id": "ffYKzEDIz225"
      },
      "outputs": [],
      "source": [
        "#given a list of samples, make two copies of each sample that are darker/brighter to simulate differently lit environments\n",
        "def brightnessAugment(samples):\n",
        "    out = []\n",
        "    for sample in samples:\n",
        "        image, label = sample\n",
        "        transform = A.Compose([ A.augmentations.transforms.ColorJitter (brightness=(1.5, 1.5), contrast=0, saturation=0, hue=0, always_apply=True) ])\n",
        "        bright_img = transform(image=image)[\"image\"]\n",
        "        transform = A.Compose([ A.augmentations.transforms.ColorJitter (brightness=(0.5, 0.5), contrast=0, saturation=0, hue=0, always_apply=True) ])\n",
        "        dark_img = transform(image=image)[\"image\"]\n",
        "        out.append((bright_img, label))\n",
        "        out.append((dark_img, label))\n",
        "    samples.extend(out)\n",
        "    return samples\n",
        "\n",
        "#given a list of samples, make a copy of each sample but more blurred to simulate objects out of focus, dirty lenses, and backscattering\n",
        "def blurAugment(samples):\n",
        "    out = []\n",
        "    for sample in samples:\n",
        "        image, label = sample\n",
        "        ksize = (20, 20) # lower to lower blur  \n",
        "        blurred_img = cv2.blur(image, ksize) \n",
        "        out.append((blurred_img, label))\n",
        "    samples.extend(out)\n",
        "    return samples\n",
        "\n",
        "#given a list of samples, make a copy of each sample but with a lower contrast image to simulate backscattering and over/under-exposure\n",
        "def contrastAugment(samples):\n",
        "    out = []\n",
        "    for sample in samples:\n",
        "        image, label = sample\n",
        "        transform = A.Compose([ A.augmentations.transforms.ColorJitter (brightness=0, contrast=(0.3, 0.3), saturation=0, hue=0, always_apply=True) ])\n",
        "        decontrasted_img = transform(image=image)[\"image\"]\n",
        "        out.append((decontrasted_img, label))\n",
        "    samples.extend(out)\n",
        "    return samples\n",
        "    \n",
        "#given a list of samples, make a copy of each sample but with camera noise added to the image to simulate different camera feeds\n",
        "def noiseAugment(samples):\n",
        "    out = []\n",
        "    for sample in samples:\n",
        "        image, label = sample\n",
        "        transform = A.Compose([ A.augmentations.transforms.ISONoise(color_shift=(0.01, 0.01), intensity=(0.8, 0.8), always_apply=True) ])\n",
        "        noisy_img = transform(image=image)[\"image\"]\n",
        "        out.append((noisy_img, label))\n",
        "    samples.extend(out)\n",
        "    return samples\n",
        "\n",
        "#given a list of samples, make a copy of each sample but with the image downscaled (lower resolution of image) to simulate lower quality cameras/images\n",
        "def resolutionAugment(samples):\n",
        "    out = []\n",
        "    for sample in samples:\n",
        "        image, label = sample\n",
        "        #interpolation=A.augmentations.transforms.Interpolation(downscale=cv2.INTER_NEAREST, upscale=cv2.INTER_NEAREST)\n",
        "        transform = A.Compose([ A.augmentations.transforms.Downscale(scale_min=0.25, scale_max=0.25, always_apply=True) ])\n",
        "        low_res_img = transform(image=image)[\"image\"]\n",
        "        out.append((low_res_img, label))\n",
        "    samples.extend(out)\n",
        "    return samples\n",
        "\n",
        "#increase intensity of blues in given image\n",
        "def make_bluer(img, color_shift_intensity):\n",
        "    img_b, img_g, img_r = cv2.split(img) #split by channel\n",
        "    img_b = np.uint16(img_b)\n",
        "    img_b += color_shift_intensity\n",
        "    np.clip(img_b, 0, 255, out=img_b)\n",
        "    img_b = np.uint8(img_b)\n",
        "    img = cv2.merge((img_b, img_g, img_r)) #merge adjusted channels\n",
        "    return img\n",
        "\n",
        "#increase intensity of greens in given image\n",
        "def make_greener(img, color_shift_intensity):\n",
        "    img_b, img_g, img_r = cv2.split(img) #split by channel\n",
        "    img_g = np.uint16(img_g)\n",
        "    img_g += color_shift_intensity\n",
        "    np.clip(img_g, 0, 255, out=img_g)\n",
        "    img_g = np.uint8(img_g)\n",
        "    img = cv2.merge((img_b, img_g, img_r)) #merge adjusted channels\n",
        "    return img\n",
        "\n",
        "#given a list of samples, make two copies of each sample (one bluer, one greener) to simulate different pools + color attenuation\n",
        "def colorAugment(samples):\n",
        "    out = []\n",
        "    color_shift_intensity = int(255*0.1)\n",
        "    for sample in samples:\n",
        "        image, label = sample\n",
        "        blue_img = make_bluer(image, color_shift_intensity)\n",
        "        green_img = make_greener(image, color_shift_intensity)\n",
        "        out.append((blue_img, label))\n",
        "        out.append((green_img, label))\n",
        "    samples.extend(out)\n",
        "    return samples\n",
        "\n",
        "#remove all files/folders in folder\n",
        "def clearFolder(folder):\n",
        "    #get all directory/filenames in folder\n",
        "    for filename in os.listdir(folder):\n",
        "        file_path = os.path.join(folder, filename)\n",
        "        try:\n",
        "            if os.path.isfile(file_path) or os.path.islink(file_path):\n",
        "                #delete all files\n",
        "                os.unlink(file_path)\n",
        "            elif os.path.isdir(file_path):\n",
        "                #recursively delete everything in sub-folders\n",
        "                shutil.rmtree(file_path)\n",
        "        except Exception as e:\n",
        "            print('Failed to delete %s. Reason: %s' % (file_path, e))\n",
        "\n",
        "#output given samples to given folder so that each image has corresponding label with same filename in /images and /labels subfolders respectively\n",
        "def sendToFolders(samples, output_folder):\n",
        "    #remove all files/folders in output folders\n",
        "    clearFolder(output_folder + \"/images\")\n",
        "    clearFolder(output_folder + \"/labels\")\n",
        "    instance_count = 0 #keep track of instance count for filename\n",
        "    for sample in samples:\n",
        "        image, label = sample\n",
        "        #write image to file in /images\n",
        "        cv2.imwrite(output_folder + '/images/img' + str(instance_count) + '.png', image)\n",
        "        #write label to file in /labels\n",
        "        with open(output_folder + '/labels/img' + str(instance_count) + '.txt', 'w+') as f:\n",
        "            #each box gets its own line\n",
        "            for box in label:\n",
        "                f.write(box)\n",
        "        instance_count += 1\n",
        "\n",
        "#given array of image/label arrays, and an integer of how to split the data, returns the dataset split accordingly\n",
        "def splitData(samples, splits):\n",
        "    #for now we just shuffle the data to hopefully get a similar similar sample size\n",
        "    # of images for every class in the train, test and val splits\n",
        "    #ideally in the future we should split by class and then combine together to make sure the datasets are balanced\n",
        "\n",
        "    #shuffle data\n",
        "    random.shuffle(samples)\n",
        "    #get indices for split\n",
        "    splits = [int(len(samples)*s) for s in splits]\n",
        "    #return split data\n",
        "    return samples[:splits[0]], samples[splits[0]:splits[0]+splits[1]], samples[splits[0]+splits[1]:]\n",
        "\n",
        "#given a single image and augmentation function, displays the image before and images after augmentation\n",
        "def visualizeAugmentation(img, aug):\n",
        "    #show original image\n",
        "    cv2.imshow('og', img)\n",
        "    cv2.waitKey(0)\n",
        "    #show all augmented images\n",
        "    for augmented in aug([(img, \"\")])[1:]:\n",
        "        cv2.imshow('augmented',augmented[0])\n",
        "        cv2.waitKey(0)\n",
        "\n",
        "#given source dataset folder, loads all images and labels into arrays\n",
        "def loadInputData(source_folder):\n",
        "    samples = []\n",
        "    #get all filenames in the /images subfolder of given source_folder\n",
        "    img_filenames = [f for f in listdir(source_folder + '/images') if isfile(join(source_folder + '/images', f))]\n",
        "    for img_filename in img_filenames:\n",
        "        #load image at that filename\n",
        "        img = cv2.imread(source_folder + '/images/' + img_filename)\n",
        "        #got label filename corresponding to the image\n",
        "        label_filename = os.path.splitext(img_filename)[0] + \".txt\"\n",
        "        #load in the label file contents\n",
        "        with open(source_folder + \"/labels/\" + label_filename) as f:\n",
        "            #build array of bounding boxes (each line its own element)\n",
        "            bounding_boxes = []\n",
        "            for line in f.read().split(\"\\n\"):\n",
        "                bounding_boxes.append(line)\n",
        "        #add image and label to sample set\n",
        "        samples.append( (img, bounding_boxes) )\n",
        "    return samples\n"
      ]
    },
    {
      "cell_type": "markdown",
      "metadata": {
        "id": "NY5fTW4G02T0"
      },
      "source": [
        "Load in all files from /raw folder, pass list of images sequentially through each augmentation function, then output final images to /augmented folder"
      ]
    },
    {
      "cell_type": "code",
      "execution_count": null,
      "metadata": {
        "colab": {
          "base_uri": "https://localhost:8080/"
        },
        "id": "uByRW0J20W8e",
        "outputId": "ad9c7756-6ee3-46e8-8589-90255cb6cdd2"
      },
      "outputs": [],
      "source": [
        "train_test_val_split = (0.7, 0.2, 0.1)\n",
        "out_folder = \"data/augmented\"\n",
        "in_folder = \"data/raw\"\n",
        "\n",
        "print(\"Loading data...\")\n",
        "data = loadInputData(in_folder)\n",
        "\n",
        "#FOR TESTING uncomment to visualize individual augmentations\n",
        "#visualizeAugmentation(data[0][0], colorAugment)\n",
        "#exit()\n",
        "\n",
        "#order of augmentations should be optimized so that slower augmentations are done first\n",
        "print(\"Augmenting noise...\")\n",
        "data = noiseAugment(data) # times 2\n",
        "print(\"Augmenting resolution...\")\n",
        "data = resolutionAugment(data) # times 2\n",
        "print(\"Augmenting color...\")\n",
        "data = colorAugment(data) # times 3\n",
        "print(\"Augmenting brightness...\")\n",
        "data = brightnessAugment(data) # times 3\n",
        "print(\"Augmenting contrast...\")\n",
        "data = contrastAugment(data) # times 2\n",
        "print(\"Augmenting blur...\")\n",
        "data = blurAugment(data) # times 2\n",
        "print(\"Splitting data...\")\n",
        "train, test, val = splitData(data, train_test_val_split)\n",
        "print(\"Exporting training data...\")\n",
        "sendToFolders(train, out_folder + \"/train\")\n",
        "print(\"Exporting test data...\")\n",
        "sendToFolders(test, out_folder + \"/test\")\n",
        "print(\"Exporting val data...\")\n",
        "sendToFolders(val, out_folder + \"/val\")\n",
        "print(\"Done.\")"
      ]
    },
    {
      "cell_type": "markdown",
      "metadata": {
        "id": "Ha6R_QiX1mrs"
      },
      "source": [
        "# Train YOLO model with augmented data"
      ]
    },
    {
      "cell_type": "code",
      "execution_count": null,
      "metadata": {
        "colab": {
          "base_uri": "https://localhost:8080/"
        },
        "id": "aZBXU0OD7l9b",
        "outputId": "2430fea2-e1cd-4489-f4d6-4811d09704e9"
      },
      "outputs": [],
      "source": [
        "print(torch.cuda.is_available())\n",
        "print(torch.cuda.device_count())\n",
        "#Ensure this prints true and a number > 0, if not make sure you set hardware accelerator to GPU in Edit > Notebook Settings > Hardware Accelerator"
      ]
    },
    {
      "cell_type": "code",
      "execution_count": null,
      "metadata": {
        "colab": {
          "base_uri": "https://localhost:8080/"
        },
        "id": "w1a82eTY1rFt",
        "outputId": "c8003126-4ce4-4628-ea25-74698e958c9a"
      },
      "outputs": [],
      "source": [
        "# Load model\n",
        "model = YOLO(\"yolov8n.pt\")  # load a pretrained model (recommended for training)\n",
        "# Use the model\n",
        "model.train(data=\"data.yaml\", epochs=100, device=0, batch=16, degrees=360, flipud=0.5, fliplr=0.5, perspective=0.001, translate=0.5, scale=0.75, pretrained=True, task='detect')  # train the model\n",
        "model.val()"
      ]
    },
    {
      "cell_type": "markdown",
      "metadata": {
        "id": "b6Tpx-d_3Mj5"
      },
      "source": [
        "# Predict on image with model"
      ]
    },
    {
      "cell_type": "code",
      "execution_count": null,
      "metadata": {
        "id": "UdXmFvGW3Q8J"
      },
      "outputs": [],
      "source": [
        "img_path = \"data/augmented/train/images/img3.png\"\n",
        "img = cv2.imread(img_path)\n",
        "# Load a model\n",
        "model = YOLO(\"model.pt\")  # load a model\n",
        "# Use the model\n",
        "pred = model(img)\n",
        "for results in pred:\n",
        "    box = results.boxes\n",
        "    print(box)\n",
        "    print(\"\\nprediction:\" + str(list(box.xywh)))\n",
        "    print(\"\\nprediction:\" + str(list(box.conf)))\n",
        "    print(\"\\nprediction:\" + str(list(box.cls)))"
      ]
    }
  ],
  "metadata": {
    "accelerator": "GPU",
    "colab": {
      "collapsed_sections": [
        "COpq9wZczt1G",
        "b6Tpx-d_3Mj5"
      ],
      "provenance": []
    },
    "gpuClass": "standard",
    "kernelspec": {
      "display_name": "Python 3",
      "name": "python3"
    },
    "language_info": {
      "name": "python"
    }
  },
  "nbformat": 4,
  "nbformat_minor": 0
}
